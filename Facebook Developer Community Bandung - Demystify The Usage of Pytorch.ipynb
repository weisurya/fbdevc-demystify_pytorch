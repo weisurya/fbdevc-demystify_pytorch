{
 "cells": [
  {
   "cell_type": "code",
   "execution_count": 1,
   "metadata": {
    "slideshow": {
     "slide_type": "slide"
    }
   },
   "outputs": [],
   "source": [
    "from __future__ import print_function\n",
    "import torch\n",
    "from torch import nn, optim\n",
    "import torch.nn.functional as F\n",
    "from torch.autograd import Variable\n",
    "from torch.utils.data import Dataset, DataLoader\n",
    "import torch.onnx\n",
    "\n",
    "import torchvision\n",
    "from torchvision import transforms, datasets, models\n",
    "\n",
    "import onnx\n",
    "\n",
    "import helper\n",
    "\n",
    "from collections import OrderedDict\n",
    "\n",
    "import numpy as np\n",
    "import timeit\n",
    "import glob\n",
    "import matplotlib.pyplot as plt\n",
    "from PIL import Image"
   ]
  },
  {
   "cell_type": "markdown",
   "metadata": {},
   "source": [
    "## Switching from ND Array > Pytorch Tensor > ND Array"
   ]
  },
  {
   "cell_type": "code",
   "execution_count": 2,
   "metadata": {},
   "outputs": [
    {
     "data": {
      "text/plain": [
       "array([[ 0.83990587,  0.0784526 ,  0.80025195],\n",
       "       [ 0.19367976,  0.30009642, -0.29645746],\n",
       "       [ 0.42038496,  0.45896885, -0.40062166],\n",
       "       [-1.87579788, -0.17460797,  0.30850328],\n",
       "       [ 0.29063996, -0.50875835, -0.4642765 ]])"
      ]
     },
     "execution_count": 2,
     "metadata": {},
     "output_type": "execute_result"
    }
   ],
   "source": [
    "randomArray = np.random.randn(5, 3)\n",
    "randomArray"
   ]
  },
  {
   "cell_type": "code",
   "execution_count": 3,
   "metadata": {},
   "outputs": [
    {
     "data": {
      "text/plain": [
       "tensor([[ 0.8399,  0.0785,  0.8003],\n",
       "        [ 0.1937,  0.3001, -0.2965],\n",
       "        [ 0.4204,  0.4590, -0.4006],\n",
       "        [-1.8758, -0.1746,  0.3085],\n",
       "        [ 0.2906, -0.5088, -0.4643]], dtype=torch.float64)"
      ]
     },
     "execution_count": 3,
     "metadata": {},
     "output_type": "execute_result"
    }
   ],
   "source": [
    "randomTensor = torch.from_numpy(randomArray)\n",
    "randomTensor"
   ]
  },
  {
   "cell_type": "code",
   "execution_count": 4,
   "metadata": {},
   "outputs": [
    {
     "data": {
      "text/plain": [
       "array([[ 0.83990587,  0.0784526 ,  0.80025195],\n",
       "       [ 0.19367976,  0.30009642, -0.29645746],\n",
       "       [ 0.42038496,  0.45896885, -0.40062166],\n",
       "       [-1.87579788, -0.17460797,  0.30850328],\n",
       "       [ 0.29063996, -0.50875835, -0.4642765 ]])"
      ]
     },
     "execution_count": 4,
     "metadata": {},
     "output_type": "execute_result"
    }
   ],
   "source": [
    "randomTensor.numpy()"
   ]
  },
  {
   "cell_type": "markdown",
   "metadata": {},
   "source": [
    "# Switching from using CPU - GPU\n"
   ]
  },
  {
   "cell_type": "code",
   "execution_count": 5,
   "metadata": {},
   "outputs": [],
   "source": [
    "cpu = torch.device('cpu')\n",
    "cuda = torch.device('cuda')"
   ]
  },
  {
   "cell_type": "code",
   "execution_count": 6,
   "metadata": {},
   "outputs": [],
   "source": [
    "cuda_0 = torch.device('cuda:0')\n",
    "cuda_2 = torch.device('cuda:2')"
   ]
  },
  {
   "cell_type": "code",
   "execution_count": 7,
   "metadata": {},
   "outputs": [],
   "source": [
    "w1 = torch.rand(10000, 10000, device='cpu')\n",
    "x1 = torch.rand(10000, 10000, device='cpu')"
   ]
  },
  {
   "cell_type": "code",
   "execution_count": 8,
   "metadata": {},
   "outputs": [
    {
     "name": "stdout",
     "output_type": "stream",
     "text": [
      "Timelapse:  12.776667870999972\n"
     ]
    }
   ],
   "source": [
    "start_cpu = timeit.default_timer()\n",
    "\n",
    "x1.matmul(w1)\n",
    "\n",
    "end_cpu = timeit.default_timer()\n",
    "print('Timelapse: ', end_cpu- start_cpu)"
   ]
  },
  {
   "cell_type": "code",
   "execution_count": 9,
   "metadata": {},
   "outputs": [
    {
     "name": "stdout",
     "output_type": "stream",
     "text": [
      "Timelapse:  2.396250158999919\n"
     ]
    }
   ],
   "source": [
    "start_gpu = timeit.default_timer()\n",
    "\n",
    "x1 = x1.cuda()\n",
    "w1 = w1.cuda()\n",
    "\n",
    "x1.matmul(w1)\n",
    "\n",
    "end_gpu = timeit.default_timer()\n",
    "print('Timelapse: ', end_gpu - start_gpu)"
   ]
  },
  {
   "cell_type": "code",
   "execution_count": 10,
   "metadata": {},
   "outputs": [
    {
     "name": "stdout",
     "output_type": "stream",
     "text": [
      "Difference:  5.0 x faster\n"
     ]
    }
   ],
   "source": [
    "print('Difference: ', np.round((end_cpu- start_cpu)/(end_gpu - start_gpu), 0),'x faster')"
   ]
  },
  {
   "cell_type": "markdown",
   "metadata": {},
   "source": [
    "# Calculate the gradient"
   ]
  },
  {
   "cell_type": "code",
   "execution_count": 11,
   "metadata": {},
   "outputs": [
    {
     "name": "stdout",
     "output_type": "stream",
     "text": [
      "False\n",
      "True\n"
     ]
    }
   ],
   "source": [
    "# By default, requires_grad is set to False\n",
    "x = torch.randn(5, 5)\n",
    "y = torch.randn(5, 5)\n",
    "z = torch.randn((5, 5), requires_grad=True)\n",
    "\n",
    "result = x + y\n",
    "print(result.requires_grad)\n",
    "\n",
    "second_result = result + z\n",
    "print(second_result.requires_grad)"
   ]
  },
  {
   "cell_type": "code",
   "execution_count": 12,
   "metadata": {},
   "outputs": [
    {
     "name": "stdout",
     "output_type": "stream",
     "text": [
      "Before:  None\n",
      "After:  tensor([[0.2500, 0.2500],\n",
      "        [0.2500, 0.2500]], device='cuda:0')\n"
     ]
    }
   ],
   "source": [
    "input = Variable(torch.ones(2, 2).cuda(), requires_grad=True)\n",
    "print(\"Before: \", input.grad)\n",
    "\n",
    "output = input.mean()\n",
    "output.backward()\n",
    "\n",
    "print(\"After: \", input.grad)"
   ]
  },
  {
   "cell_type": "markdown",
   "metadata": {},
   "source": [
    "#  Object Oriented Programming Style"
   ]
  },
  {
   "cell_type": "code",
   "execution_count": 13,
   "metadata": {},
   "outputs": [],
   "source": [
    "input_size = 784\n",
    "hidden_size = [128, 64]\n",
    "output_size = 10"
   ]
  },
  {
   "cell_type": "code",
   "execution_count": 14,
   "metadata": {},
   "outputs": [],
   "source": [
    "class Network(nn.Module):\n",
    "    def __init__(self, input_size, hidden_size, output_size):\n",
    "        super(Network, self).__init__()\n",
    "        \n",
    "        self.fc1 = nn.Linear(input_size, hidden_size[0])\n",
    "        self.fc2 = nn.Linear(hidden_size[0], hidden_size[1])\n",
    "        self.fc3 = nn.Linear(hidden_size[1], output_size)\n",
    "        \n",
    "    def forward(self, x):\n",
    "        x = F.relu(self.fc1(x))\n",
    "        x = F.relu(self.fc2(x))\n",
    "        x = F.softmax(self.fc3(x), dim=1)\n",
    "        \n",
    "        return x"
   ]
  },
  {
   "cell_type": "code",
   "execution_count": 15,
   "metadata": {},
   "outputs": [
    {
     "data": {
      "text/plain": [
       "Network(\n",
       "  (fc1): Linear(in_features=784, out_features=128, bias=True)\n",
       "  (fc2): Linear(in_features=128, out_features=64, bias=True)\n",
       "  (fc3): Linear(in_features=64, out_features=10, bias=True)\n",
       ")"
      ]
     },
     "execution_count": 15,
     "metadata": {},
     "output_type": "execute_result"
    }
   ],
   "source": [
    "oop_model = Network(input_size=input_size, \n",
    "                    hidden_size=hidden_size, \n",
    "                    output_size=output_size)\n",
    "oop_model"
   ]
  },
  {
   "cell_type": "markdown",
   "metadata": {},
   "source": [
    "By default, weights and bias are automatically filled up"
   ]
  },
  {
   "cell_type": "code",
   "execution_count": 16,
   "metadata": {},
   "outputs": [
    {
     "name": "stdout",
     "output_type": "stream",
     "text": [
      "Parameter containing:\n",
      "tensor([[ 0.0040, -0.0093,  0.0208,  ...,  0.0099, -0.0052,  0.0343],\n",
      "        [-0.0096,  0.0019, -0.0305,  ...,  0.0243,  0.0081,  0.0208],\n",
      "        [ 0.0245, -0.0117, -0.0283,  ...,  0.0338, -0.0306, -0.0145],\n",
      "        ...,\n",
      "        [ 0.0053,  0.0017,  0.0033,  ..., -0.0226, -0.0281,  0.0337],\n",
      "        [ 0.0142,  0.0104, -0.0008,  ..., -0.0060,  0.0323, -0.0104],\n",
      "        [ 0.0181, -0.0232, -0.0085,  ...,  0.0254, -0.0268,  0.0343]],\n",
      "       requires_grad=True)\n",
      "Parameter containing:\n",
      "tensor([ 0.0277,  0.0265, -0.0271,  0.0316, -0.0351, -0.0038,  0.0353, -0.0215,\n",
      "        -0.0049,  0.0247,  0.0074, -0.0245,  0.0317, -0.0053, -0.0273,  0.0130,\n",
      "         0.0038,  0.0302,  0.0284,  0.0279, -0.0329,  0.0289,  0.0276,  0.0243,\n",
      "        -0.0199,  0.0041, -0.0313, -0.0097,  0.0209,  0.0345, -0.0120, -0.0225,\n",
      "         0.0225, -0.0248,  0.0037,  0.0174, -0.0135,  0.0346,  0.0073,  0.0294,\n",
      "         0.0192, -0.0102, -0.0234, -0.0292, -0.0031,  0.0315,  0.0036,  0.0237,\n",
      "        -0.0026,  0.0226, -0.0273,  0.0298,  0.0152,  0.0273, -0.0194,  0.0100,\n",
      "         0.0215,  0.0330, -0.0163,  0.0053, -0.0005,  0.0233, -0.0294,  0.0211,\n",
      "        -0.0061, -0.0004,  0.0211, -0.0053,  0.0067,  0.0339,  0.0169, -0.0220,\n",
      "        -0.0261, -0.0329,  0.0083, -0.0164, -0.0318,  0.0188, -0.0186, -0.0065,\n",
      "        -0.0154, -0.0090, -0.0047, -0.0266,  0.0211, -0.0092,  0.0052, -0.0275,\n",
      "         0.0276, -0.0334,  0.0007, -0.0244, -0.0228,  0.0081,  0.0088,  0.0221,\n",
      "        -0.0171, -0.0225, -0.0157,  0.0015, -0.0182, -0.0260, -0.0311, -0.0219,\n",
      "         0.0171,  0.0078, -0.0286, -0.0096, -0.0074, -0.0198, -0.0055,  0.0241,\n",
      "         0.0120,  0.0100, -0.0018, -0.0084,  0.0304, -0.0102,  0.0194,  0.0061,\n",
      "        -0.0098, -0.0314, -0.0106,  0.0186,  0.0134, -0.0121,  0.0298, -0.0057],\n",
      "       requires_grad=True)\n"
     ]
    }
   ],
   "source": [
    "print(oop_model.fc1.weight)\n",
    "print(oop_model.fc1.bias)"
   ]
  },
  {
   "cell_type": "markdown",
   "metadata": {},
   "source": [
    "We can also modify the value of these tensors"
   ]
  },
  {
   "cell_type": "code",
   "execution_count": 17,
   "metadata": {},
   "outputs": [
    {
     "data": {
      "text/plain": [
       "tensor([0., 0., 0., 0., 0., 0., 0., 0., 0., 0., 0., 0., 0., 0., 0., 0., 0., 0.,\n",
       "        0., 0., 0., 0., 0., 0., 0., 0., 0., 0., 0., 0., 0., 0., 0., 0., 0., 0.,\n",
       "        0., 0., 0., 0., 0., 0., 0., 0., 0., 0., 0., 0., 0., 0., 0., 0., 0., 0.,\n",
       "        0., 0., 0., 0., 0., 0., 0., 0., 0., 0., 0., 0., 0., 0., 0., 0., 0., 0.,\n",
       "        0., 0., 0., 0., 0., 0., 0., 0., 0., 0., 0., 0., 0., 0., 0., 0., 0., 0.,\n",
       "        0., 0., 0., 0., 0., 0., 0., 0., 0., 0., 0., 0., 0., 0., 0., 0., 0., 0.,\n",
       "        0., 0., 0., 0., 0., 0., 0., 0., 0., 0., 0., 0., 0., 0., 0., 0., 0., 0.,\n",
       "        0., 0.])"
      ]
     },
     "execution_count": 17,
     "metadata": {},
     "output_type": "execute_result"
    }
   ],
   "source": [
    "# Set bias to be zero\n",
    "oop_model.fc1.bias.data.fill_(0)"
   ]
  },
  {
   "cell_type": "code",
   "execution_count": 18,
   "metadata": {},
   "outputs": [
    {
     "data": {
      "text/plain": [
       "tensor([[ 0.0011, -0.0179, -0.0172,  ..., -0.0067,  0.0092, -0.0067],\n",
       "        [-0.0165, -0.0179,  0.0016,  ...,  0.0160,  0.0087,  0.0094],\n",
       "        [ 0.0111, -0.0054, -0.0124,  ..., -0.0066,  0.0083, -0.0167],\n",
       "        ...,\n",
       "        [-0.0027,  0.0144,  0.0137,  ..., -0.0097, -0.0067,  0.0004],\n",
       "        [ 0.0030, -0.0020,  0.0070,  ..., -0.0116,  0.0001,  0.0112],\n",
       "        [-0.0063, -0.0037, -0.0151,  ..., -0.0079,  0.0062,  0.0119]])"
      ]
     },
     "execution_count": 18,
     "metadata": {},
     "output_type": "execute_result"
    }
   ],
   "source": [
    "# Set weight into normal distribution with standard deviation of .01\n",
    "oop_model.fc1.weight.data.normal_(std=.01)"
   ]
  },
  {
   "cell_type": "markdown",
   "metadata": {},
   "source": [
    "# Sequential Style"
   ]
  },
  {
   "cell_type": "code",
   "execution_count": null,
   "metadata": {},
   "outputs": [
    {
     "data": {
      "text/plain": [
       "Sequential(\n",
       "  (0): Linear(in_features=784, out_features=128, bias=True)\n",
       "  (1): ReLU()\n",
       "  (2): Linear(in_features=128, out_features=64, bias=True)\n",
       "  (3): ReLU()\n",
       "  (4): Linear(in_features=64, out_features=10, bias=True)\n",
       "  (5): Softmax()\n",
       ")"
      ]
     },
     "execution_count": 19,
     "metadata": {},
     "output_type": "execute_result"
    }
   ],
   "source": [
    "sequential_model = nn.Sequential(nn.Linear(in_features=input_size, out_features=hidden_size[0]),\n",
    "                                 nn.ReLU(),\n",
    "                                 nn.Linear(in_features=hidden_size[0], out_features=hidden_size[1]),\n",
    "                                 nn.ReLU(),\n",
    "                                 nn.Linear(in_features=hidden_size[1], out_features=output_size),\n",
    "                                 nn.Softmax(dim=1))\n",
    "\n",
    "sequential_model"
   ]
  },
  {
   "cell_type": "markdown",
   "metadata": {},
   "source": [
    "# Sequential Style - Alternative"
   ]
  },
  {
   "cell_type": "code",
   "execution_count": null,
   "metadata": {},
   "outputs": [
    {
     "data": {
      "text/plain": [
       "Sequential(\n",
       "  (fc1): Linear(in_features=784, out_features=128, bias=True)\n",
       "  (relu1): ReLU()\n",
       "  (fc2): Linear(in_features=128, out_features=64, bias=True)\n",
       "  (relu2): ReLU()\n",
       "  (output): Linear(in_features=64, out_features=10, bias=True)\n",
       "  (softmax): Softmax()\n",
       ")"
      ]
     },
     "execution_count": 20,
     "metadata": {},
     "output_type": "execute_result"
    }
   ],
   "source": [
    "alt_sequential_model = nn.Sequential(OrderedDict([\n",
    "    ('fc1', nn.Linear(input_size, hidden_size[0])),\n",
    "    ('relu1', nn.ReLU()),\n",
    "    ('fc2', nn.Linear(hidden_size[0], hidden_size[1])),\n",
    "    ('relu2', nn.ReLU()),\n",
    "    ('output', nn.Linear(hidden_size[1], output_size)),\n",
    "    ('softmax', nn.Softmax(dim=1))\n",
    "]))\n",
    "\n",
    "alt_sequential_model"
   ]
  },
  {
   "cell_type": "markdown",
   "metadata": {},
   "source": [
    "We can pick up any layer easily like you used to code in Python"
   ]
  },
  {
   "cell_type": "code",
   "execution_count": null,
   "metadata": {},
   "outputs": [
    {
     "name": "stdout",
     "output_type": "stream",
     "text": [
      "Linear(in_features=784, out_features=128, bias=True)\n",
      "ReLU()\n",
      "Linear(in_features=784, out_features=128, bias=True)\n",
      "Linear(in_features=128, out_features=64, bias=True)\n",
      "Linear(in_features=128, out_features=64, bias=True)\n",
      "ReLU()\n"
     ]
    }
   ],
   "source": [
    "print(sequential_model[0])\n",
    "print(sequential_model[1])\n",
    "\n",
    "print(oop_model.fc1)\n",
    "print(oop_model.fc2)\n",
    "\n",
    "print(alt_sequential_model.fc2)\n",
    "print(alt_sequential_model.relu1)"
   ]
  },
  {
   "cell_type": "markdown",
   "metadata": {},
   "source": [
    "# Simple Neural Network - Fashion MNIST"
   ]
  },
  {
   "cell_type": "markdown",
   "metadata": {},
   "source": [
    "## Define Pre-processing Pipeline"
   ]
  },
  {
   "cell_type": "code",
   "execution_count": null,
   "metadata": {},
   "outputs": [],
   "source": [
    "# Define a transform to normalize the data\n",
    "transform = transforms.Compose([transforms.ToTensor(),\n",
    "                                transforms.Normalize((0.5,), (0.5,))])"
   ]
  },
  {
   "cell_type": "markdown",
   "metadata": {},
   "source": [
    "## Prepare Datasets"
   ]
  },
  {
   "cell_type": "code",
   "execution_count": null,
   "metadata": {},
   "outputs": [],
   "source": [
    "# Download and load the training data\n",
    "trainset = datasets.FashionMNIST('F_MNIST_data/', download=True, train=True, transform=transform)\n",
    "trainloader = torch.utils.data.DataLoader(trainset, batch_size=64, shuffle=True)\n",
    "\n",
    "# Download and load the test data\n",
    "testset = datasets.FashionMNIST('F_MNIST_data/', download=True, train=False, transform=transform)\n",
    "testloader = torch.utils.data.DataLoader(testset, batch_size=64, shuffle=True)"
   ]
  },
  {
   "cell_type": "markdown",
   "metadata": {},
   "source": [
    "## Initialize Input Parameters"
   ]
  },
  {
   "cell_type": "code",
   "execution_count": null,
   "metadata": {},
   "outputs": [],
   "source": [
    "input_size = 784\n",
    "output_size = 10\n",
    "hidden_layers = [512, 256, 128]"
   ]
  },
  {
   "cell_type": "markdown",
   "metadata": {},
   "source": [
    "## Setup"
   ]
  },
  {
   "cell_type": "code",
   "execution_count": null,
   "metadata": {},
   "outputs": [],
   "source": [
    "model = helper.Network(input_size, output_size, hidden_layers)\n",
    "criterion = nn.NLLLoss() # negative log likelihood loss\n",
    "optimizer = optim.Adam(model.parameters(), lr=0.001)\n",
    "device = torch.device(\"cuda\" if torch.cuda.is_available() else \"cpu\")"
   ]
  },
  {
   "cell_type": "markdown",
   "metadata": {},
   "source": [
    "## Train Model"
   ]
  },
  {
   "cell_type": "code",
   "execution_count": null,
   "metadata": {},
   "outputs": [
    {
     "name": "stdout",
     "output_type": "stream",
     "text": [
      "Device: cuda..  Epoch: 1/1..  Training Loss: 2.218..  Test Loss: 1.912..  Test Accuracy: 0.360\n",
      "Device: cuda..  Epoch: 1/1..  Training Loss: 3.764..  Test Loss: 1.181..  Test Accuracy: 0.501\n",
      "Device: cuda..  Epoch: 1/1..  Training Loss: 4.800..  Test Loss: 0.932..  Test Accuracy: 0.641\n",
      "Device: cuda..  Epoch: 1/1..  Training Loss: 5.678..  Test Loss: 0.863..  Test Accuracy: 0.664\n",
      "Device: cuda..  Epoch: 1/1..  Training Loss: 6.540..  Test Loss: 0.854..  Test Accuracy: 0.677\n",
      "Device: cuda..  Epoch: 1/1..  Training Loss: 7.355..  Test Loss: 0.774..  Test Accuracy: 0.714\n",
      "Device: cuda..  Epoch: 1/1..  Training Loss: 8.032..  Test Loss: 0.693..  Test Accuracy: 0.740\n",
      "Device: cuda..  Epoch: 1/1..  Training Loss: 8.686..  Test Loss: 0.664..  Test Accuracy: 0.737\n",
      "Device: cuda..  Epoch: 1/1..  Training Loss: 9.329..  Test Loss: 0.640..  Test Accuracy: 0.758\n",
      "Device: cuda..  Epoch: 1/1..  Training Loss: 9.942..  Test Loss: 0.700..  Test Accuracy: 0.709\n",
      "Device: cuda..  Epoch: 1/1..  Training Loss: 10.558..  Test Loss: 0.648..  Test Accuracy: 0.762\n",
      "Device: cuda..  Epoch: 1/1..  Training Loss: 11.100..  Test Loss: 0.573..  Test Accuracy: 0.787\n",
      "Device: cuda..  Epoch: 1/1..  Training Loss: 11.731..  Test Loss: 0.615..  Test Accuracy: 0.768\n",
      "Device: cuda..  Epoch: 1/1..  Training Loss: 12.338..  Test Loss: 0.602..  Test Accuracy: 0.768\n",
      "Device: cuda..  Epoch: 1/1..  Training Loss: 12.919..  Test Loss: 0.627..  Test Accuracy: 0.764\n",
      "Device: cuda..  Epoch: 1/1..  Training Loss: 13.456..  Test Loss: 0.563..  Test Accuracy: 0.797\n",
      "Device: cuda..  Epoch: 1/1..  Training Loss: 14.025..  Test Loss: 0.563..  Test Accuracy: 0.794\n",
      "Device: cuda..  Epoch: 1/1..  Training Loss: 14.610..  Test Loss: 0.581..  Test Accuracy: 0.789\n",
      "Device: cuda..  Epoch: 1/1..  Training Loss: 15.066..  Test Loss: 0.529..  Test Accuracy: 0.809\n",
      "Device: cuda..  Epoch: 1/1..  Training Loss: 15.601..  Test Loss: 0.521..  Test Accuracy: 0.809\n",
      "Device: cuda..  Epoch: 1/1..  Training Loss: 16.099..  Test Loss: 0.560..  Test Accuracy: 0.792\n",
      "Device: cuda..  Epoch: 1/1..  Training Loss: 16.648..  Test Loss: 0.577..  Test Accuracy: 0.795\n",
      "Device: cuda..  Epoch: 1/1..  Training Loss: 17.224..  Test Loss: 0.548..  Test Accuracy: 0.798\n",
      "Device: cuda..  Epoch: 1/1..  Training Loss: 17.800..  Test Loss: 0.541..  Test Accuracy: 0.802\n",
      "Device: cuda..  Epoch: 1/1..  Training Loss: 18.332..  Test Loss: 0.513..  Test Accuracy: 0.814\n",
      "Device: cuda..  Epoch: 1/1..  Training Loss: 18.831..  Test Loss: 0.515..  Test Accuracy: 0.810\n",
      "Device: cuda..  Epoch: 1/1..  Training Loss: 19.322..  Test Loss: 0.504..  Test Accuracy: 0.817\n",
      "Device: cuda..  Epoch: 1/1..  Training Loss: 19.885..  Test Loss: 0.552..  Test Accuracy: 0.797\n",
      "Device: cuda..  Epoch: 1/1..  Training Loss: 20.356..  Test Loss: 0.501..  Test Accuracy: 0.821\n",
      "Device: cuda..  Epoch: 1/1..  Training Loss: 20.894..  Test Loss: 0.508..  Test Accuracy: 0.809\n",
      "Device: cuda..  Epoch: 1/1..  Training Loss: 21.396..  Test Loss: 0.551..  Test Accuracy: 0.800\n",
      "Device: cuda..  Epoch: 1/1..  Training Loss: 21.943..  Test Loss: 0.503..  Test Accuracy: 0.815\n",
      "Device: cuda..  Epoch: 1/1..  Training Loss: 22.502..  Test Loss: 0.507..  Test Accuracy: 0.819\n",
      "Device: cuda..  Epoch: 1/1..  Training Loss: 22.921..  Test Loss: 0.499..  Test Accuracy: 0.822\n",
      "Device: cuda..  Epoch: 1/1..  Training Loss: 23.391..  Test Loss: 0.524..  Test Accuracy: 0.804\n",
      "Device: cuda..  Epoch: 1/1..  Training Loss: 23.876..  Test Loss: 0.482..  Test Accuracy: 0.822\n",
      "Device: cuda..  Epoch: 1/1..  Training Loss: 24.336..  Test Loss: 0.496..  Test Accuracy: 0.817\n",
      "Device: cuda..  Epoch: 1/1..  Training Loss: 24.828..  Test Loss: 0.467..  Test Accuracy: 0.829\n",
      "Device: cuda..  Epoch: 1/1..  Training Loss: 25.314..  Test Loss: 0.466..  Test Accuracy: 0.829\n",
      "Device: cuda..  Epoch: 1/1..  Training Loss: 25.780..  Test Loss: 0.475..  Test Accuracy: 0.826\n",
      "Device: cuda..  Epoch: 1/1..  Training Loss: 26.277..  Test Loss: 0.481..  Test Accuracy: 0.825\n",
      "Device: cuda..  Epoch: 1/1..  Training Loss: 26.736..  Test Loss: 0.496..  Test Accuracy: 0.815\n",
      "Device: cuda..  Epoch: 1/1..  Training Loss: 27.166..  Test Loss: 0.490..  Test Accuracy: 0.825\n",
      "Device: cuda..  Epoch: 1/1..  Training Loss: 27.612..  Test Loss: 0.466..  Test Accuracy: 0.831\n",
      "Device: cuda..  Epoch: 1/1..  Training Loss: 28.075..  Test Loss: 0.473..  Test Accuracy: 0.828\n",
      "Device: cuda..  Epoch: 1/1..  Training Loss: 28.557..  Test Loss: 0.493..  Test Accuracy: 0.815\n",
      "Device: cuda..  Epoch: 1/1..  Training Loss: 29.001..  Test Loss: 0.483..  Test Accuracy: 0.826\n",
      "Device: cuda..  Epoch: 1/1..  Training Loss: 29.389..  Test Loss: 0.482..  Test Accuracy: 0.824\n",
      "Device: cuda..  Epoch: 1/1..  Training Loss: 29.819..  Test Loss: 0.482..  Test Accuracy: 0.828\n",
      "Device: cuda..  Epoch: 1/1..  Training Loss: 30.239..  Test Loss: 0.483..  Test Accuracy: 0.824\n",
      "Device: cuda..  Epoch: 1/1..  Training Loss: 30.698..  Test Loss: 0.474..  Test Accuracy: 0.825\n",
      "Device: cuda..  Epoch: 1/1..  Training Loss: 31.184..  Test Loss: 0.488..  Test Accuracy: 0.820\n",
      "Device: cuda..  Epoch: 1/1..  Training Loss: 31.589..  Test Loss: 0.452..  Test Accuracy: 0.836\n",
      "Device: cuda..  Epoch: 1/1..  Training Loss: 31.954..  Test Loss: 0.465..  Test Accuracy: 0.828\n",
      "Device: cuda..  Epoch: 1/1..  Training Loss: 32.384..  Test Loss: 0.511..  Test Accuracy: 0.813\n",
      "Device: cuda..  Epoch: 1/1..  Training Loss: 32.801..  Test Loss: 0.458..  Test Accuracy: 0.829\n",
      "Device: cuda..  Epoch: 1/1..  Training Loss: 33.262..  Test Loss: 0.468..  Test Accuracy: 0.836\n",
      "Device: cuda..  Epoch: 1/1..  Training Loss: 33.712..  Test Loss: 0.441..  Test Accuracy: 0.839\n",
      "Device: cuda..  Epoch: 1/1..  Training Loss: 34.146..  Test Loss: 0.443..  Test Accuracy: 0.839\n",
      "Device: cuda..  Epoch: 1/1..  Training Loss: 34.549..  Test Loss: 0.444..  Test Accuracy: 0.841\n",
      "Device: cuda..  Epoch: 1/1..  Training Loss: 34.990..  Test Loss: 0.473..  Test Accuracy: 0.828\n",
      "Device: cuda..  Epoch: 1/1..  Training Loss: 35.457..  Test Loss: 0.462..  Test Accuracy: 0.831\n",
      "Device: cuda..  Epoch: 1/1..  Training Loss: 35.891..  Test Loss: 0.470..  Test Accuracy: 0.831\n",
      "Device: cuda..  Epoch: 1/1..  Training Loss: 36.314..  Test Loss: 0.438..  Test Accuracy: 0.841\n",
      "Device: cuda..  Epoch: 1/1..  Training Loss: 36.721..  Test Loss: 0.469..  Test Accuracy: 0.831\n",
      "Device: cuda..  Epoch: 1/1..  Training Loss: 37.146..  Test Loss: 0.464..  Test Accuracy: 0.827\n",
      "Device: cuda..  Epoch: 1/1..  Training Loss: 37.594..  Test Loss: 0.462..  Test Accuracy: 0.829\n",
      "Device: cuda..  Epoch: 1/1..  Training Loss: 37.990..  Test Loss: 0.444..  Test Accuracy: 0.837\n",
      "Device: cuda..  Epoch: 1/1..  Training Loss: 38.409..  Test Loss: 0.454..  Test Accuracy: 0.832\n",
      "Device: cuda..  Epoch: 1/1..  Training Loss: 38.755..  Test Loss: 0.447..  Test Accuracy: 0.841\n",
      "Device: cuda..  Epoch: 1/1..  Training Loss: 39.166..  Test Loss: 0.448..  Test Accuracy: 0.833\n",
      "Device: cuda..  Epoch: 1/1..  Training Loss: 39.651..  Test Loss: 0.468..  Test Accuracy: 0.830\n",
      "Device: cuda..  Epoch: 1/1..  Training Loss: 40.086..  Test Loss: 0.431..  Test Accuracy: 0.842\n",
      "Device: cuda..  Epoch: 1/1..  Training Loss: 40.467..  Test Loss: 0.451..  Test Accuracy: 0.835\n",
      "Device: cuda..  Epoch: 1/1..  Training Loss: 40.866..  Test Loss: 0.480..  Test Accuracy: 0.824\n",
      "Device: cuda..  Epoch: 1/1..  Training Loss: 41.305..  Test Loss: 0.431..  Test Accuracy: 0.843\n",
      "Device: cuda..  Epoch: 1/1..  Training Loss: 41.731..  Test Loss: 0.449..  Test Accuracy: 0.837\n",
      "Device: cuda..  Epoch: 1/1..  Training Loss: 42.158..  Test Loss: 0.496..  Test Accuracy: 0.823\n",
      "Device: cuda..  Epoch: 1/1..  Training Loss: 42.651..  Test Loss: 0.491..  Test Accuracy: 0.819\n",
      "Device: cuda..  Epoch: 1/1..  Training Loss: 43.130..  Test Loss: 0.433..  Test Accuracy: 0.845\n",
      "Device: cuda..  Epoch: 1/1..  Training Loss: 43.466..  Test Loss: 0.432..  Test Accuracy: 0.846\n",
      "Device: cuda..  Epoch: 1/1..  Training Loss: 43.867..  Test Loss: 0.454..  Test Accuracy: 0.838\n",
      "Device: cuda..  Epoch: 1/1..  Training Loss: 44.334..  Test Loss: 0.434..  Test Accuracy: 0.840\n",
      "Device: cuda..  Epoch: 1/1..  Training Loss: 44.741..  Test Loss: 0.447..  Test Accuracy: 0.836\n",
      "Device: cuda..  Epoch: 1/1..  Training Loss: 45.167..  Test Loss: 0.446..  Test Accuracy: 0.833\n",
      "Device: cuda..  Epoch: 1/1..  Training Loss: 45.556..  Test Loss: 0.432..  Test Accuracy: 0.842\n"
     ]
    },
    {
     "name": "stdout",
     "output_type": "stream",
     "text": [
      "Device: cuda..  Epoch: 1/1..  Training Loss: 45.951..  Test Loss: 0.416..  Test Accuracy: 0.852\n",
      "Device: cuda..  Epoch: 1/1..  Training Loss: 46.335..  Test Loss: 0.424..  Test Accuracy: 0.846\n",
      "Device: cuda..  Epoch: 1/1..  Training Loss: 46.695..  Test Loss: 0.418..  Test Accuracy: 0.849\n",
      "Device: cuda..  Epoch: 1/1..  Training Loss: 47.089..  Test Loss: 0.419..  Test Accuracy: 0.850\n",
      "Device: cuda..  Epoch: 1/1..  Training Loss: 47.530..  Test Loss: 0.424..  Test Accuracy: 0.844\n",
      "Device: cuda..  Epoch: 1/1..  Training Loss: 47.926..  Test Loss: 0.438..  Test Accuracy: 0.839\n",
      "Device: cuda..  Epoch: 1/1..  Training Loss: 48.331..  Test Loss: 0.429..  Test Accuracy: 0.846\n"
     ]
    }
   ],
   "source": [
    "model.to(device)\n",
    "helper.train_model(model, trainloader, testloader, criterion, optimizer, device=device, isTransfer=False, epochs=1)"
   ]
  },
  {
   "cell_type": "markdown",
   "metadata": {},
   "source": [
    "# Save Model"
   ]
  },
  {
   "cell_type": "code",
   "execution_count": null,
   "metadata": {},
   "outputs": [],
   "source": [
    "checkpoint = {'input_size': input_size,\n",
    "              'output_size': output_size,\n",
    "              'hidden_layers': hidden_layers,\n",
    "              'state_dict': model.state_dict()}\n",
    "\n",
    "torch.save(checkpoint, 'mymodel.pth')"
   ]
  },
  {
   "cell_type": "markdown",
   "metadata": {},
   "source": [
    "# Load Model"
   ]
  },
  {
   "cell_type": "code",
   "execution_count": null,
   "metadata": {},
   "outputs": [
    {
     "name": "stdout",
     "output_type": "stream",
     "text": [
      "Network(\n",
      "  (fc): ModuleList(\n",
      "    (0): Linear(in_features=784, out_features=512, bias=True)\n",
      "    (1): Linear(in_features=512, out_features=256, bias=True)\n",
      "    (2): Linear(in_features=256, out_features=128, bias=True)\n",
      "  )\n",
      "  (output): Linear(in_features=128, out_features=10, bias=True)\n",
      "  (dropout): Dropout(p=0.5)\n",
      ")\n"
     ]
    }
   ],
   "source": [
    "checkpoint = torch.load('mymodel.pth')\n",
    "model = helper.Network(checkpoint['input_size'],\n",
    "                       checkpoint['output_size'],\n",
    "                       checkpoint['hidden_layers'])\n",
    "\n",
    "model.load_state_dict(checkpoint['state_dict'])\n",
    "\n",
    "print(model)"
   ]
  },
  {
   "cell_type": "markdown",
   "metadata": {},
   "source": [
    "# Finetuning by Using Pre-trained Model"
   ]
  },
  {
   "cell_type": "code",
   "execution_count": null,
   "metadata": {},
   "outputs": [
    {
     "name": "stderr",
     "output_type": "stream",
     "text": [
      "/home/ubuntu/src/anaconda3/envs/fastai/lib/python3.6/site-packages/torchvision/models/densenet.py:212: UserWarning: nn.init.kaiming_normal is now deprecated in favor of nn.init.kaiming_normal_.\n",
      "  nn.init.kaiming_normal(m.weight.data)\n"
     ]
    }
   ],
   "source": [
    "model = models.densenet121(pretrained=True)\n",
    "\n",
    "for param in model.parameters():\n",
    "    param.requires_grad = False\n",
    "    \n",
    "classifier = nn.Sequential(OrderedDict([\n",
    "    ('fc1', nn.Linear(1024, 500)),\n",
    "    ('relu', nn.ReLU()),\n",
    "    ('fc2', nn.Linear(500, 2)),\n",
    "    ('output', nn.LogSoftmax(dim=1))\n",
    "]))\n",
    "\n",
    "model.classifier = classifier\n",
    "criterion = nn.NLLLoss()\n",
    "optimizer = optim.Adam(model.classifier.parameters(), lr=0.003)"
   ]
  },
  {
   "cell_type": "code",
   "execution_count": null,
   "metadata": {},
   "outputs": [],
   "source": [
    "data_dir = 'Cat_Dog_data/'\n",
    "\n",
    "train_transforms = transforms.Compose([transforms.RandomRotation(30),\n",
    "                                       transforms.RandomResizedCrop(224),\n",
    "                                       transforms.RandomHorizontalFlip(),\n",
    "                                       transforms.ToTensor(),\n",
    "                                       transforms.Normalize([0.485, 0.456, 0.406],\n",
    "                                                            [0.229, 0.224, 0.225])])\n",
    "\n",
    "test_transforms = transforms.Compose([transforms.Resize(255),\n",
    "                                      transforms.CenterCrop(224),\n",
    "                                      transforms.ToTensor(),\n",
    "                                      transforms.Normalize([0.485, 0.456, 0.406],\n",
    "                                                           [0.229, 0.224, 0.225])])\n",
    "\n",
    "train_data = datasets.ImageFolder(data_dir + '/train', transform=train_transforms)\n",
    "test_data = datasets.ImageFolder(data_dir + '/test', transform=test_transforms)\n",
    "\n",
    "trainloader = torch.utils.data.DataLoader(train_data, batch_size=32, shuffle=True)\n",
    "testloader = torch.utils.data.DataLoader(test_data, batch_size=32)"
   ]
  },
  {
   "cell_type": "code",
   "execution_count": null,
   "metadata": {},
   "outputs": [
    {
     "name": "stderr",
     "output_type": "stream",
     "text": [
      "Clipping input data to the valid range for imshow with RGB data ([0..1] for floats or [0..255] for integers).\n"
     ]
    },
    {
     "name": "stdout",
     "output_type": "stream",
     "text": [
      "torch.Size([3, 224, 224])\n"
     ]
    },
    {
     "data": {
      "image/png": "[encoded data removed]",
      "text/plain": [
       "<Figure size 432x288 with 1 Axes>"
      ]
     },
     "metadata": {
      "needs_background": "light"
     },
     "output_type": "display_data"
    }
   ],
   "source": [
    "image, label = next(iter(trainloader))\n",
    "plt.imshow(image[0].numpy().transpose((1, 2, 0)))\n",
    "print(image[0].shape)"
   ]
  },
  {
   "cell_type": "code",
   "execution_count": null,
   "metadata": {},
   "outputs": [
    {
     "name": "stdout",
     "output_type": "stream",
     "text": [
      "Device: cuda..  Epoch: 1/1..  Training Loss: 0.588..  Test Loss: 0.097..  Test Accuracy: 0.975\n",
      "Device: cuda..  Epoch: 1/1..  Training Loss: 0.766..  Test Loss: 0.061..  Test Accuracy: 0.979\n",
      "Device: cuda..  Epoch: 1/1..  Training Loss: 0.907..  Test Loss: 0.064..  Test Accuracy: 0.978\n",
      "Device: cuda..  Epoch: 1/1..  Training Loss: 1.082..  Test Loss: 0.096..  Test Accuracy: 0.966\n",
      "Device: cuda..  Epoch: 1/1..  Training Loss: 1.254..  Test Loss: 0.044..  Test Accuracy: 0.986\n",
      "Device: cuda..  Epoch: 1/1..  Training Loss: 1.443..  Test Loss: 0.064..  Test Accuracy: 0.978\n",
      "Device: cuda..  Epoch: 1/1..  Training Loss: 1.568..  Test Loss: 0.050..  Test Accuracy: 0.982\n",
      "Device: cuda..  Epoch: 1/1..  Training Loss: 1.689..  Test Loss: 0.051..  Test Accuracy: 0.982\n",
      "Device: cuda..  Epoch: 1/1..  Training Loss: 1.822..  Test Loss: 0.055..  Test Accuracy: 0.981\n",
      "Device: cuda..  Epoch: 1/1..  Training Loss: 1.956..  Test Loss: 0.045..  Test Accuracy: 0.983\n",
      "Device: cuda..  Epoch: 1/1..  Training Loss: 2.100..  Test Loss: 0.040..  Test Accuracy: 0.986\n",
      "Device: cuda..  Epoch: 1/1..  Training Loss: 2.247..  Test Loss: 0.065..  Test Accuracy: 0.977\n",
      "Device: cuda..  Epoch: 1/1..  Training Loss: 2.361..  Test Loss: 0.055..  Test Accuracy: 0.980\n",
      "Device: cuda..  Epoch: 1/1..  Training Loss: 2.544..  Test Loss: 0.045..  Test Accuracy: 0.985\n",
      "Device: cuda..  Epoch: 1/1..  Training Loss: 2.693..  Test Loss: 0.155..  Test Accuracy: 0.935\n",
      "Device: cuda..  Epoch: 1/1..  Training Loss: 2.921..  Test Loss: 0.046..  Test Accuracy: 0.985\n",
      "Device: cuda..  Epoch: 1/1..  Training Loss: 3.048..  Test Loss: 0.061..  Test Accuracy: 0.979\n",
      "Device: cuda..  Epoch: 1/1..  Training Loss: 3.184..  Test Loss: 0.043..  Test Accuracy: 0.983\n",
      "Device: cuda..  Epoch: 1/1..  Training Loss: 3.293..  Test Loss: 0.036..  Test Accuracy: 0.987\n",
      "Device: cuda..  Epoch: 1/1..  Training Loss: 3.401..  Test Loss: 0.044..  Test Accuracy: 0.983\n"
     ]
    }
   ],
   "source": [
    "model.to(device)\n",
    "helper.train_model(model, trainloader, testloader, criterion, optimizer, device=device, epochs=1, isTransfer=True)"
   ]
  },
  {
   "cell_type": "markdown",
   "metadata": {},
   "source": [
    "# Convert from Pytorch to another framework by using ONNX"
   ]
  },
  {
   "cell_type": "code",
   "execution_count": null,
   "metadata": {},
   "outputs": [],
   "source": [
    "checkpoint = torch.load('mymodel.pth')\n",
    "model = helper.Network(checkpoint['input_size'],\n",
    "                       checkpoint['output_size'],\n",
    "                       checkpoint['hidden_layers'])\n",
    "\n",
    "model.load_state_dict(checkpoint['state_dict'])\n",
    "\n",
    "# Export\n",
    "dummy_input = Variable(torch.randn(1, 784, requires_grad=True))\n",
    "torch.onnx.export(model, dummy_input, 'first_export.onnx')\n",
    "\n",
    "#Import \n",
    "onnx_model = onnx.load('first_export.onnx')\n",
    "\n",
    "# Vaidate imported model\n",
    "onnx.checker.check_model(model)\n",
    "onnx.helper.printable_graph(model.graph)"
   ]
  },
  {
   "cell_type": "code",
   "execution_count": null,
   "metadata": {},
   "outputs": [],
   "source": []
  }
 ],
 "metadata": {
  "kernelspec": {
   "display_name": "Python 3",
   "language": "python",
   "name": "python3"
  },
  "language_info": {
   "codemirror_mode": {
    "name": "ipython",
    "version": 3
   },
   "file_extension": ".py",
   "mimetype": "text/x-python",
   "name": "python",
   "nbconvert_exporter": "python",
   "pygments_lexer": "ipython3",
   "version": "3.6.6"
  }
 },
 "nbformat": 4,
 "nbformat_minor": 2
}
