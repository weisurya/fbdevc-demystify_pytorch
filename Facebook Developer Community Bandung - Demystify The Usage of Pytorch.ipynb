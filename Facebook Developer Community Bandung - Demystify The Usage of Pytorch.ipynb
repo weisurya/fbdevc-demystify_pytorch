{
 "cells": [
  {
   "cell_type": "code",
   "execution_count": 1,
   "metadata": {
    "slideshow": {
     "slide_type": "slide"
    }
   },
   "outputs": [],
   "source": [
    "from __future__ import print_function\n",
    "import torch\n",
    "from torch import nn, optim\n",
    "import torch.nn.functional as F\n",
    "from torch.autograd import Variable\n",
    "from torch.utils.data import Dataset, DataLoader\n",
    "import torch.onnx\n",
    "\n",
    "import torchvision\n",
    "from torchvision import transforms, datasets, models\n",
    "\n",
    "import onnx\n",
    "\n",
    "import helper\n",
    "\n",
    "from collections import OrderedDict\n",
    "\n",
    "import numpy as np\n",
    "import timeit\n",
    "import glob\n",
    "import matplotlib.pyplot as plt\n",
    "from PIL import Image"
   ]
  },
  {
   "cell_type": "markdown",
   "metadata": {},
   "source": [
    "## Switching from ND Array > Pytorch Tensor -> ND Array"
   ]
  },
  {
   "cell_type": "code",
   "execution_count": 2,
   "metadata": {},
   "outputs": [
    {
     "data": {
      "text/plain": [
       "array([[ 0.65802511,  0.31800725, -0.98079151],\n",
       "       [ 1.62358205,  1.43443971,  1.17879044],\n",
       "       [-0.47728176,  0.33831738, -0.99730623],\n",
       "       [ 0.98266145,  0.65994932,  0.73834265],\n",
       "       [ 1.1194253 , -0.95064827, -0.69634451]])"
      ]
     },
     "execution_count": 2,
     "metadata": {},
     "output_type": "execute_result"
    }
   ],
   "source": [
    "randomArray = np.random.randn(5, 3)\n",
    "randomArray"
   ]
  },
  {
   "cell_type": "code",
   "execution_count": 3,
   "metadata": {},
   "outputs": [
    {
     "data": {
      "text/plain": [
       "tensor([[ 0.6580,  0.3180, -0.9808],\n",
       "        [ 1.6236,  1.4344,  1.1788],\n",
       "        [-0.4773,  0.3383, -0.9973],\n",
       "        [ 0.9827,  0.6599,  0.7383],\n",
       "        [ 1.1194, -0.9506, -0.6963]], dtype=torch.float64)"
      ]
     },
     "execution_count": 3,
     "metadata": {},
     "output_type": "execute_result"
    }
   ],
   "source": [
    "randomTensor = torch.from_numpy(randomArray)\n",
    "randomTensor"
   ]
  },
  {
   "cell_type": "code",
   "execution_count": 4,
   "metadata": {},
   "outputs": [
    {
     "data": {
      "text/plain": [
       "array([[ 0.65802511,  0.31800725, -0.98079151],\n",
       "       [ 1.62358205,  1.43443971,  1.17879044],\n",
       "       [-0.47728176,  0.33831738, -0.99730623],\n",
       "       [ 0.98266145,  0.65994932,  0.73834265],\n",
       "       [ 1.1194253 , -0.95064827, -0.69634451]])"
      ]
     },
     "execution_count": 4,
     "metadata": {},
     "output_type": "execute_result"
    }
   ],
   "source": [
    "randomTensor.numpy()"
   ]
  },
  {
   "cell_type": "markdown",
   "metadata": {},
   "source": [
    "# Switching from using CPU - GPU\n"
   ]
  },
  {
   "cell_type": "code",
   "execution_count": 5,
   "metadata": {},
   "outputs": [],
   "source": [
    "cpu = torch.device('cpu')\n",
    "cuda = torch.device('cuda')"
   ]
  },
  {
   "cell_type": "code",
   "execution_count": 6,
   "metadata": {},
   "outputs": [],
   "source": [
    "cuda_0 = torch.device('cuda:0')\n",
    "cuda_2 = torch.device('cuda:2')"
   ]
  },
  {
   "cell_type": "code",
   "execution_count": 15,
   "metadata": {},
   "outputs": [],
   "source": [
    "w1 = torch.rand(10000, 10000, device='cpu')\n",
    "x1 = torch.rand(10000, 10000, device='cpu')"
   ]
  },
  {
   "cell_type": "code",
   "execution_count": 16,
   "metadata": {},
   "outputs": [
    {
     "name": "stdout",
     "output_type": "stream",
     "text": [
      "Timelapse:  26.24485985499996\n"
     ]
    }
   ],
   "source": [
    "start_cpu = timeit.default_timer()\n",
    "\n",
    "x1.matmul(w1)\n",
    "\n",
    "end_cpu = timeit.default_timer()\n",
    "print('Timelapse: ', end_cpu- start_cpu)"
   ]
  },
  {
   "cell_type": "code",
   "execution_count": 17,
   "metadata": {},
   "outputs": [
    {
     "name": "stdout",
     "output_type": "stream",
     "text": [
      "Timelapse:  0.10825658899989321\n"
     ]
    }
   ],
   "source": [
    "start_gpu = timeit.default_timer()\n",
    "\n",
    "x1 = x1.cuda()\n",
    "w1 = w1.cuda()\n",
    "\n",
    "x1.matmul(w1)\n",
    "\n",
    "end_gpu = timeit.default_timer()\n",
    "print('Timelapse: ', end_gpu - start_gpu)"
   ]
  },
  {
   "cell_type": "code",
   "execution_count": 18,
   "metadata": {},
   "outputs": [
    {
     "name": "stdout",
     "output_type": "stream",
     "text": [
      "Difference:  242.0 x faster\n"
     ]
    }
   ],
   "source": [
    "print('Difference: ', np.round((end_cpu- start_cpu)/(end_gpu - start_gpu), 0),'x faster')"
   ]
  },
  {
   "cell_type": "markdown",
   "metadata": {},
   "source": [
    "# Calculate the gradient"
   ]
  },
  {
   "cell_type": "code",
   "execution_count": 19,
   "metadata": {},
   "outputs": [
    {
     "name": "stdout",
     "output_type": "stream",
     "text": [
      "False\n",
      "True\n"
     ]
    }
   ],
   "source": [
    "# By default, requires_grad is set to False\n",
    "x = torch.randn(5, 5)\n",
    "y = torch.randn(5, 5)\n",
    "z = torch.randn((5, 5), requires_grad=True)\n",
    "\n",
    "result = x + y\n",
    "print(result.requires_grad)\n",
    "\n",
    "second_result = result + z\n",
    "print(second_result.requires_grad)"
   ]
  },
  {
   "cell_type": "code",
   "execution_count": 23,
   "metadata": {},
   "outputs": [
    {
     "name": "stdout",
     "output_type": "stream",
     "text": [
      "Before:  None\n",
      "After:  tensor([[0.2500, 0.2500],\n",
      "        [0.2500, 0.2500]], device='cuda:0')\n"
     ]
    }
   ],
   "source": [
    "input = Variable(torch.ones(2, 2).cuda(), requires_grad=True)\n",
    "print(\"Before: \", input.grad)\n",
    "\n",
    "output = input.mean()\n",
    "output.backward()\n",
    "\n",
    "print(\"After: \", input.grad)"
   ]
  },
  {
   "cell_type": "markdown",
   "metadata": {},
   "source": [
    "#  Object Oriented Programming Style"
   ]
  },
  {
   "cell_type": "code",
   "execution_count": 24,
   "metadata": {},
   "outputs": [],
   "source": [
    "input_size = 784\n",
    "hidden_size = [128, 64]\n",
    "output_size = 10"
   ]
  },
  {
   "cell_type": "code",
   "execution_count": 25,
   "metadata": {},
   "outputs": [],
   "source": [
    "class Network(nn.Module):\n",
    "    def __init__(self, input_size, hidden_size, output_size):\n",
    "        super(Network, self).__init__()\n",
    "        \n",
    "        self.fc1 = nn.Linear(input_size, hidden_size[0])\n",
    "        self.fc2 = nn.Linear(hidden_size[0], hidden_size[1])\n",
    "        self.fc3 = nn.Linear(hidden_size[1], output_size)\n",
    "        \n",
    "    def forward(self, x):\n",
    "        x = F.relu(self.fc1(x))\n",
    "        x = F.relu(self.fc2(x))\n",
    "        x = F.softmax(self.fc3(x), dim=1)\n",
    "        \n",
    "        return x"
   ]
  },
  {
   "cell_type": "code",
   "execution_count": 26,
   "metadata": {},
   "outputs": [
    {
     "data": {
      "text/plain": [
       "Network(\n",
       "  (fc1): Linear(in_features=784, out_features=128, bias=True)\n",
       "  (fc2): Linear(in_features=128, out_features=64, bias=True)\n",
       "  (fc3): Linear(in_features=64, out_features=10, bias=True)\n",
       ")"
      ]
     },
     "execution_count": 26,
     "metadata": {},
     "output_type": "execute_result"
    }
   ],
   "source": [
    "oop_model = Network(input_size=input_size, \n",
    "                    hidden_size=hidden_size, \n",
    "                    output_size=output_size)\n",
    "oop_model"
   ]
  },
  {
   "cell_type": "markdown",
   "metadata": {},
   "source": [
    "By default, weights and bias are automatically filled up"
   ]
  },
  {
   "cell_type": "code",
   "execution_count": 27,
   "metadata": {},
   "outputs": [
    {
     "name": "stdout",
     "output_type": "stream",
     "text": [
      "Parameter containing:\n",
      "tensor([[ 0.0101,  0.0073,  0.0131,  ...,  0.0017, -0.0079,  0.0113],\n",
      "        [-0.0309,  0.0304, -0.0293,  ...,  0.0342,  0.0025, -0.0324],\n",
      "        [-0.0202,  0.0244,  0.0018,  ...,  0.0021, -0.0092,  0.0335],\n",
      "        ...,\n",
      "        [-0.0014,  0.0119, -0.0326,  ...,  0.0259, -0.0082,  0.0062],\n",
      "        [ 0.0339,  0.0206, -0.0179,  ...,  0.0306, -0.0193,  0.0007],\n",
      "        [-0.0129, -0.0127,  0.0133,  ..., -0.0138, -0.0050,  0.0338]],\n",
      "       requires_grad=True)\n",
      "Parameter containing:\n",
      "tensor([-0.0099,  0.0255, -0.0233, -0.0062, -0.0220,  0.0006,  0.0149,  0.0165,\n",
      "        -0.0190,  0.0165, -0.0108, -0.0192,  0.0281,  0.0216,  0.0234, -0.0356,\n",
      "         0.0142, -0.0254,  0.0080,  0.0025,  0.0226, -0.0295, -0.0116, -0.0219,\n",
      "        -0.0044, -0.0129,  0.0125, -0.0112,  0.0022,  0.0168, -0.0196,  0.0250,\n",
      "        -0.0332,  0.0016,  0.0208,  0.0016,  0.0283,  0.0085, -0.0260, -0.0240,\n",
      "        -0.0104, -0.0173, -0.0145, -0.0127, -0.0356,  0.0267,  0.0129, -0.0240,\n",
      "         0.0152, -0.0295,  0.0095, -0.0335, -0.0134, -0.0217,  0.0265, -0.0026,\n",
      "         0.0039,  0.0293,  0.0312,  0.0032, -0.0011, -0.0339, -0.0145,  0.0339,\n",
      "        -0.0159,  0.0327, -0.0317, -0.0127,  0.0267, -0.0154, -0.0027, -0.0206,\n",
      "         0.0243,  0.0348, -0.0158,  0.0103,  0.0102, -0.0204,  0.0197, -0.0043,\n",
      "         0.0189, -0.0300, -0.0339, -0.0323,  0.0158,  0.0047, -0.0029,  0.0120,\n",
      "        -0.0273, -0.0155, -0.0006, -0.0321, -0.0282, -0.0324, -0.0284, -0.0211,\n",
      "        -0.0068, -0.0082,  0.0308, -0.0052, -0.0094,  0.0242,  0.0238,  0.0080,\n",
      "        -0.0241,  0.0070, -0.0213, -0.0065,  0.0302, -0.0345,  0.0306, -0.0033,\n",
      "        -0.0324, -0.0078,  0.0301,  0.0214, -0.0172, -0.0267, -0.0010,  0.0195,\n",
      "         0.0300, -0.0315, -0.0046, -0.0005,  0.0080, -0.0030, -0.0081,  0.0037],\n",
      "       requires_grad=True)\n"
     ]
    }
   ],
   "source": [
    "print(oop_model.fc1.weight)\n",
    "print(oop_model.fc1.bias)"
   ]
  },
  {
   "cell_type": "markdown",
   "metadata": {},
   "source": [
    "We can also modify the value of these tensors"
   ]
  },
  {
   "cell_type": "code",
   "execution_count": 28,
   "metadata": {},
   "outputs": [
    {
     "data": {
      "text/plain": [
       "tensor([0., 0., 0., 0., 0., 0., 0., 0., 0., 0., 0., 0., 0., 0., 0., 0., 0., 0.,\n",
       "        0., 0., 0., 0., 0., 0., 0., 0., 0., 0., 0., 0., 0., 0., 0., 0., 0., 0.,\n",
       "        0., 0., 0., 0., 0., 0., 0., 0., 0., 0., 0., 0., 0., 0., 0., 0., 0., 0.,\n",
       "        0., 0., 0., 0., 0., 0., 0., 0., 0., 0., 0., 0., 0., 0., 0., 0., 0., 0.,\n",
       "        0., 0., 0., 0., 0., 0., 0., 0., 0., 0., 0., 0., 0., 0., 0., 0., 0., 0.,\n",
       "        0., 0., 0., 0., 0., 0., 0., 0., 0., 0., 0., 0., 0., 0., 0., 0., 0., 0.,\n",
       "        0., 0., 0., 0., 0., 0., 0., 0., 0., 0., 0., 0., 0., 0., 0., 0., 0., 0.,\n",
       "        0., 0.])"
      ]
     },
     "execution_count": 28,
     "metadata": {},
     "output_type": "execute_result"
    }
   ],
   "source": [
    "# Set bias to be zero\n",
    "oop_model.fc1.bias.data.fill_(0)"
   ]
  },
  {
   "cell_type": "code",
   "execution_count": 29,
   "metadata": {},
   "outputs": [
    {
     "data": {
      "text/plain": [
       "tensor([[-0.0080, -0.0012, -0.0093,  ...,  0.0034, -0.0079,  0.0008],\n",
       "        [-0.0029,  0.0045,  0.0019,  ...,  0.0166, -0.0020, -0.0117],\n",
       "        [ 0.0005, -0.0007, -0.0194,  ..., -0.0053,  0.0102, -0.0126],\n",
       "        ...,\n",
       "        [-0.0039, -0.0096,  0.0064,  ...,  0.0108, -0.0096,  0.0054],\n",
       "        [ 0.0110,  0.0167, -0.0016,  ..., -0.0001,  0.0016,  0.0177],\n",
       "        [ 0.0085, -0.0049,  0.0069,  ...,  0.0055,  0.0053, -0.0028]])"
      ]
     },
     "execution_count": 29,
     "metadata": {},
     "output_type": "execute_result"
    }
   ],
   "source": [
    "# Set weight into normal distribution with standard deviation of .01\n",
    "oop_model.fc1.weight.data.normal_(std=.01)"
   ]
  },
  {
   "cell_type": "markdown",
   "metadata": {},
   "source": [
    "# Sequential Style"
   ]
  },
  {
   "cell_type": "code",
   "execution_count": 30,
   "metadata": {},
   "outputs": [
    {
     "data": {
      "text/plain": [
       "Sequential(\n",
       "  (0): Linear(in_features=784, out_features=128, bias=True)\n",
       "  (1): ReLU()\n",
       "  (2): Linear(in_features=128, out_features=64, bias=True)\n",
       "  (3): ReLU()\n",
       "  (4): Linear(in_features=64, out_features=10, bias=True)\n",
       "  (5): Softmax()\n",
       ")"
      ]
     },
     "execution_count": 30,
     "metadata": {},
     "output_type": "execute_result"
    }
   ],
   "source": [
    "sequential_model = nn.Sequential(nn.Linear(in_features=input_size, out_features=hidden_size[0]),\n",
    "                                 nn.ReLU(),\n",
    "                                 nn.Linear(in_features=hidden_size[0], out_features=hidden_size[1]),\n",
    "                                 nn.ReLU(),\n",
    "                                 nn.Linear(in_features=hidden_size[1], out_features=output_size),\n",
    "                                 nn.Softmax(dim=1))\n",
    "\n",
    "sequential_model"
   ]
  },
  {
   "cell_type": "markdown",
   "metadata": {},
   "source": [
    "# Sequential Style - Alternative"
   ]
  },
  {
   "cell_type": "code",
   "execution_count": 31,
   "metadata": {},
   "outputs": [
    {
     "data": {
      "text/plain": [
       "Sequential(\n",
       "  (fc1): Linear(in_features=784, out_features=128, bias=True)\n",
       "  (relu1): ReLU()\n",
       "  (fc2): Linear(in_features=128, out_features=64, bias=True)\n",
       "  (relu2): ReLU()\n",
       "  (output): Linear(in_features=64, out_features=10, bias=True)\n",
       "  (softmax): Softmax()\n",
       ")"
      ]
     },
     "execution_count": 31,
     "metadata": {},
     "output_type": "execute_result"
    }
   ],
   "source": [
    "alt_sequential_model = nn.Sequential(OrderedDict([\n",
    "    ('fc1', nn.Linear(input_size, hidden_size[0])),\n",
    "    ('relu1', nn.ReLU()),\n",
    "    ('fc2', nn.Linear(hidden_size[0], hidden_size[1])),\n",
    "    ('relu2', nn.ReLU()),\n",
    "    ('output', nn.Linear(hidden_size[1], output_size)),\n",
    "    ('softmax', nn.Softmax(dim=1))\n",
    "]))\n",
    "\n",
    "alt_sequential_model"
   ]
  },
  {
   "cell_type": "markdown",
   "metadata": {},
   "source": [
    "We can pick up any layer easily like you used to code in Python"
   ]
  },
  {
   "cell_type": "code",
   "execution_count": 32,
   "metadata": {},
   "outputs": [
    {
     "name": "stdout",
     "output_type": "stream",
     "text": [
      "Linear(in_features=784, out_features=128, bias=True)\n",
      "ReLU()\n",
      "Linear(in_features=784, out_features=128, bias=True)\n",
      "Linear(in_features=128, out_features=64, bias=True)\n",
      "Linear(in_features=128, out_features=64, bias=True)\n",
      "ReLU()\n"
     ]
    }
   ],
   "source": [
    "print(sequential_model[0])\n",
    "print(sequential_model[1])\n",
    "\n",
    "print(oop_model.fc1)\n",
    "print(oop_model.fc2)\n",
    "\n",
    "print(alt_sequential_model.fc2)\n",
    "print(alt_sequential_model.relu1)"
   ]
  },
  {
   "cell_type": "markdown",
   "metadata": {},
   "source": [
    "# Simple Neural Network - Fashion MNIST"
   ]
  },
  {
   "cell_type": "markdown",
   "metadata": {},
   "source": [
    "## Define Pre-processing Pipeline"
   ]
  },
  {
   "cell_type": "code",
   "execution_count": 41,
   "metadata": {},
   "outputs": [],
   "source": [
    "# Define a transform to normalize the data\n",
    "transform = transforms.Compose([transforms.ToTensor(),\n",
    "                                transforms.Normalize((0.5,), (0.5,))])"
   ]
  },
  {
   "cell_type": "markdown",
   "metadata": {},
   "source": [
    "## Prepare Datasets"
   ]
  },
  {
   "cell_type": "code",
   "execution_count": 42,
   "metadata": {},
   "outputs": [],
   "source": [
    "# Download and load the training data\n",
    "trainset = datasets.FashionMNIST('F_MNIST_data/', download=True, train=True, transform=transform)\n",
    "trainloader = torch.utils.data.DataLoader(trainset, batch_size=64, shuffle=True)\n",
    "\n",
    "# Download and load the test data\n",
    "testset = datasets.FashionMNIST('F_MNIST_data/', download=True, train=False, transform=transform)\n",
    "testloader = torch.utils.data.DataLoader(testset, batch_size=64, shuffle=True)"
   ]
  },
  {
   "cell_type": "markdown",
   "metadata": {},
   "source": [
    "## Initialize Input Parameters"
   ]
  },
  {
   "cell_type": "code",
   "execution_count": 43,
   "metadata": {},
   "outputs": [],
   "source": [
    "input_size = 784\n",
    "output_size = 10\n",
    "hidden_layers = [512, 256, 128]"
   ]
  },
  {
   "cell_type": "markdown",
   "metadata": {},
   "source": [
    "## Setup"
   ]
  },
  {
   "cell_type": "code",
   "execution_count": 44,
   "metadata": {},
   "outputs": [],
   "source": [
    "model = helper.Network(input_size, output_size, hidden_layers)\n",
    "criterion = nn.NLLLoss()\n",
    "optimizer = optim.Adam(model.parameters(), lr=0.001)\n",
    "device = torch.device(\"cuda\" if torch.cuda.is_available() else \"cpu\")"
   ]
  },
  {
   "cell_type": "markdown",
   "metadata": {},
   "source": [
    "## Train Model"
   ]
  },
  {
   "cell_type": "code",
   "execution_count": 45,
   "metadata": {},
   "outputs": [
    {
     "ename": "RuntimeError",
     "evalue": "size mismatch, m1: [1792 x 28], m2: [784 x 512] at /opt/conda/conda-bld/pytorch_1532502421238/work/aten/src/THC/generic/THCTensorMathBlas.cu:249",
     "output_type": "error",
     "traceback": [
      "\u001b[0;31m---------------------------------------------------------------------------\u001b[0m",
      "\u001b[0;31mRuntimeError\u001b[0m                              Traceback (most recent call last)",
      "\u001b[0;32m<ipython-input-45-4c124a116966>\u001b[0m in \u001b[0;36m<module>\u001b[0;34m\u001b[0m\n\u001b[1;32m      1\u001b[0m \u001b[0mmodel\u001b[0m\u001b[0;34m.\u001b[0m\u001b[0mto\u001b[0m\u001b[0;34m(\u001b[0m\u001b[0mdevice\u001b[0m\u001b[0;34m)\u001b[0m\u001b[0;34m\u001b[0m\u001b[0m\n\u001b[0;32m----> 2\u001b[0;31m \u001b[0mhelper\u001b[0m\u001b[0;34m.\u001b[0m\u001b[0mtrain_model\u001b[0m\u001b[0;34m(\u001b[0m\u001b[0mmodel\u001b[0m\u001b[0;34m,\u001b[0m \u001b[0mtrainloader\u001b[0m\u001b[0;34m,\u001b[0m \u001b[0mtestloader\u001b[0m\u001b[0;34m,\u001b[0m \u001b[0mcriterion\u001b[0m\u001b[0;34m,\u001b[0m \u001b[0moptimizer\u001b[0m\u001b[0;34m,\u001b[0m \u001b[0mdevice\u001b[0m\u001b[0;34m=\u001b[0m\u001b[0mdevice\u001b[0m\u001b[0;34m,\u001b[0m \u001b[0misTransfer\u001b[0m\u001b[0;34m=\u001b[0m\u001b[0;32mFalse\u001b[0m\u001b[0;34m)\u001b[0m\u001b[0;34m\u001b[0m\u001b[0m\n\u001b[0m",
      "\u001b[0;32m~/fbdevc-demystify_pytorch/helper.py\u001b[0m in \u001b[0;36mtrain_model\u001b[0;34m(model, trainloader, testloader, criterion, optimizer, epochs, print_every, device, isTransfer)\u001b[0m\n\u001b[1;32m    118\u001b[0m                 \u001b[0;31m# Turn off the autograd to improve the performance\u001b[0m\u001b[0;34m\u001b[0m\u001b[0;34m\u001b[0m\u001b[0m\n\u001b[1;32m    119\u001b[0m                 \u001b[0;32mwith\u001b[0m \u001b[0mtorch\u001b[0m\u001b[0;34m.\u001b[0m\u001b[0mno_grad\u001b[0m\u001b[0;34m(\u001b[0m\u001b[0;34m)\u001b[0m\u001b[0;34m:\u001b[0m\u001b[0;34m\u001b[0m\u001b[0m\n\u001b[0;32m--> 120\u001b[0;31m                     \u001b[0mtest_loss\u001b[0m\u001b[0;34m,\u001b[0m \u001b[0maccuracy\u001b[0m \u001b[0;34m=\u001b[0m \u001b[0mvalidate_model\u001b[0m\u001b[0;34m(\u001b[0m\u001b[0mmodel\u001b[0m\u001b[0;34m,\u001b[0m \u001b[0mtestloader\u001b[0m\u001b[0;34m,\u001b[0m \u001b[0mcriterion\u001b[0m\u001b[0;34m,\u001b[0m \u001b[0mdevice\u001b[0m\u001b[0;34m,\u001b[0m \u001b[0misTransfer\u001b[0m\u001b[0;34m)\u001b[0m\u001b[0;34m\u001b[0m\u001b[0m\n\u001b[0m\u001b[1;32m    121\u001b[0m \u001b[0;34m\u001b[0m\u001b[0m\n\u001b[1;32m    122\u001b[0m                 print(\"Device: {}.. \".format(device),\n",
      "\u001b[0;32m~/fbdevc-demystify_pytorch/helper.py\u001b[0m in \u001b[0;36mvalidate_model\u001b[0;34m(model, testloader, criterion, device, isTransfer)\u001b[0m\n\u001b[1;32m     53\u001b[0m \u001b[0;34m\u001b[0m\u001b[0m\n\u001b[1;32m     54\u001b[0m         \u001b[0;31m# Forward propagation\u001b[0m\u001b[0;34m\u001b[0m\u001b[0;34m\u001b[0m\u001b[0m\n\u001b[0;32m---> 55\u001b[0;31m         \u001b[0my_hat\u001b[0m \u001b[0;34m=\u001b[0m \u001b[0mmodel\u001b[0m\u001b[0;34m.\u001b[0m\u001b[0mforward\u001b[0m\u001b[0;34m(\u001b[0m\u001b[0mx\u001b[0m\u001b[0;34m)\u001b[0m\u001b[0;34m\u001b[0m\u001b[0m\n\u001b[0m\u001b[1;32m     56\u001b[0m \u001b[0;34m\u001b[0m\u001b[0m\n\u001b[1;32m     57\u001b[0m         \u001b[0;31m# Calculate loss\u001b[0m\u001b[0;34m\u001b[0m\u001b[0;34m\u001b[0m\u001b[0m\n",
      "\u001b[0;32m~/fbdevc-demystify_pytorch/helper.py\u001b[0m in \u001b[0;36mforward\u001b[0;34m(self, x)\u001b[0m\n\u001b[1;32m     31\u001b[0m     \u001b[0;32mdef\u001b[0m \u001b[0mforward\u001b[0m\u001b[0;34m(\u001b[0m\u001b[0mself\u001b[0m\u001b[0;34m,\u001b[0m \u001b[0mx\u001b[0m\u001b[0;34m)\u001b[0m\u001b[0;34m:\u001b[0m\u001b[0;34m\u001b[0m\u001b[0m\n\u001b[1;32m     32\u001b[0m         \u001b[0;32mfor\u001b[0m \u001b[0meach\u001b[0m \u001b[0;32min\u001b[0m \u001b[0mself\u001b[0m\u001b[0;34m.\u001b[0m\u001b[0mfc\u001b[0m\u001b[0;34m:\u001b[0m\u001b[0;34m\u001b[0m\u001b[0m\n\u001b[0;32m---> 33\u001b[0;31m             \u001b[0mx\u001b[0m \u001b[0;34m=\u001b[0m \u001b[0mF\u001b[0m\u001b[0;34m.\u001b[0m\u001b[0mrelu\u001b[0m\u001b[0;34m(\u001b[0m\u001b[0meach\u001b[0m\u001b[0;34m(\u001b[0m\u001b[0mx\u001b[0m\u001b[0;34m)\u001b[0m\u001b[0;34m)\u001b[0m\u001b[0;34m\u001b[0m\u001b[0m\n\u001b[0m\u001b[1;32m     34\u001b[0m             \u001b[0mx\u001b[0m \u001b[0;34m=\u001b[0m \u001b[0mself\u001b[0m\u001b[0;34m.\u001b[0m\u001b[0mdropout\u001b[0m\u001b[0;34m(\u001b[0m\u001b[0mx\u001b[0m\u001b[0;34m)\u001b[0m\u001b[0;34m\u001b[0m\u001b[0m\n\u001b[1;32m     35\u001b[0m \u001b[0;34m\u001b[0m\u001b[0m\n",
      "\u001b[0;32m~/src/anaconda3/envs/fastai/lib/python3.6/site-packages/torch/nn/modules/module.py\u001b[0m in \u001b[0;36m__call__\u001b[0;34m(self, *input, **kwargs)\u001b[0m\n\u001b[1;32m    475\u001b[0m             \u001b[0mresult\u001b[0m \u001b[0;34m=\u001b[0m \u001b[0mself\u001b[0m\u001b[0;34m.\u001b[0m\u001b[0m_slow_forward\u001b[0m\u001b[0;34m(\u001b[0m\u001b[0;34m*\u001b[0m\u001b[0minput\u001b[0m\u001b[0;34m,\u001b[0m \u001b[0;34m**\u001b[0m\u001b[0mkwargs\u001b[0m\u001b[0;34m)\u001b[0m\u001b[0;34m\u001b[0m\u001b[0m\n\u001b[1;32m    476\u001b[0m         \u001b[0;32melse\u001b[0m\u001b[0;34m:\u001b[0m\u001b[0;34m\u001b[0m\u001b[0m\n\u001b[0;32m--> 477\u001b[0;31m             \u001b[0mresult\u001b[0m \u001b[0;34m=\u001b[0m \u001b[0mself\u001b[0m\u001b[0;34m.\u001b[0m\u001b[0mforward\u001b[0m\u001b[0;34m(\u001b[0m\u001b[0;34m*\u001b[0m\u001b[0minput\u001b[0m\u001b[0;34m,\u001b[0m \u001b[0;34m**\u001b[0m\u001b[0mkwargs\u001b[0m\u001b[0;34m)\u001b[0m\u001b[0;34m\u001b[0m\u001b[0m\n\u001b[0m\u001b[1;32m    478\u001b[0m         \u001b[0;32mfor\u001b[0m \u001b[0mhook\u001b[0m \u001b[0;32min\u001b[0m \u001b[0mself\u001b[0m\u001b[0;34m.\u001b[0m\u001b[0m_forward_hooks\u001b[0m\u001b[0;34m.\u001b[0m\u001b[0mvalues\u001b[0m\u001b[0;34m(\u001b[0m\u001b[0;34m)\u001b[0m\u001b[0;34m:\u001b[0m\u001b[0;34m\u001b[0m\u001b[0m\n\u001b[1;32m    479\u001b[0m             \u001b[0mhook_result\u001b[0m \u001b[0;34m=\u001b[0m \u001b[0mhook\u001b[0m\u001b[0;34m(\u001b[0m\u001b[0mself\u001b[0m\u001b[0;34m,\u001b[0m \u001b[0minput\u001b[0m\u001b[0;34m,\u001b[0m \u001b[0mresult\u001b[0m\u001b[0;34m)\u001b[0m\u001b[0;34m\u001b[0m\u001b[0m\n",
      "\u001b[0;32m~/src/anaconda3/envs/fastai/lib/python3.6/site-packages/torch/nn/modules/linear.py\u001b[0m in \u001b[0;36mforward\u001b[0;34m(self, input)\u001b[0m\n\u001b[1;32m     53\u001b[0m \u001b[0;34m\u001b[0m\u001b[0m\n\u001b[1;32m     54\u001b[0m     \u001b[0;32mdef\u001b[0m \u001b[0mforward\u001b[0m\u001b[0;34m(\u001b[0m\u001b[0mself\u001b[0m\u001b[0;34m,\u001b[0m \u001b[0minput\u001b[0m\u001b[0;34m)\u001b[0m\u001b[0;34m:\u001b[0m\u001b[0;34m\u001b[0m\u001b[0m\n\u001b[0;32m---> 55\u001b[0;31m         \u001b[0;32mreturn\u001b[0m \u001b[0mF\u001b[0m\u001b[0;34m.\u001b[0m\u001b[0mlinear\u001b[0m\u001b[0;34m(\u001b[0m\u001b[0minput\u001b[0m\u001b[0;34m,\u001b[0m \u001b[0mself\u001b[0m\u001b[0;34m.\u001b[0m\u001b[0mweight\u001b[0m\u001b[0;34m,\u001b[0m \u001b[0mself\u001b[0m\u001b[0;34m.\u001b[0m\u001b[0mbias\u001b[0m\u001b[0;34m)\u001b[0m\u001b[0;34m\u001b[0m\u001b[0m\n\u001b[0m\u001b[1;32m     56\u001b[0m \u001b[0;34m\u001b[0m\u001b[0m\n\u001b[1;32m     57\u001b[0m     \u001b[0;32mdef\u001b[0m \u001b[0mextra_repr\u001b[0m\u001b[0;34m(\u001b[0m\u001b[0mself\u001b[0m\u001b[0;34m)\u001b[0m\u001b[0;34m:\u001b[0m\u001b[0;34m\u001b[0m\u001b[0m\n",
      "\u001b[0;32m~/src/anaconda3/envs/fastai/lib/python3.6/site-packages/torch/nn/functional.py\u001b[0m in \u001b[0;36mlinear\u001b[0;34m(input, weight, bias)\u001b[0m\n\u001b[1;32m   1024\u001b[0m         \u001b[0;32mreturn\u001b[0m \u001b[0mtorch\u001b[0m\u001b[0;34m.\u001b[0m\u001b[0maddmm\u001b[0m\u001b[0;34m(\u001b[0m\u001b[0mbias\u001b[0m\u001b[0;34m,\u001b[0m \u001b[0minput\u001b[0m\u001b[0;34m,\u001b[0m \u001b[0mweight\u001b[0m\u001b[0;34m.\u001b[0m\u001b[0mt\u001b[0m\u001b[0;34m(\u001b[0m\u001b[0;34m)\u001b[0m\u001b[0;34m)\u001b[0m\u001b[0;34m\u001b[0m\u001b[0m\n\u001b[1;32m   1025\u001b[0m \u001b[0;34m\u001b[0m\u001b[0m\n\u001b[0;32m-> 1026\u001b[0;31m     \u001b[0moutput\u001b[0m \u001b[0;34m=\u001b[0m \u001b[0minput\u001b[0m\u001b[0;34m.\u001b[0m\u001b[0mmatmul\u001b[0m\u001b[0;34m(\u001b[0m\u001b[0mweight\u001b[0m\u001b[0;34m.\u001b[0m\u001b[0mt\u001b[0m\u001b[0;34m(\u001b[0m\u001b[0;34m)\u001b[0m\u001b[0;34m)\u001b[0m\u001b[0;34m\u001b[0m\u001b[0m\n\u001b[0m\u001b[1;32m   1027\u001b[0m     \u001b[0;32mif\u001b[0m \u001b[0mbias\u001b[0m \u001b[0;32mis\u001b[0m \u001b[0;32mnot\u001b[0m \u001b[0;32mNone\u001b[0m\u001b[0;34m:\u001b[0m\u001b[0;34m\u001b[0m\u001b[0m\n\u001b[1;32m   1028\u001b[0m         \u001b[0moutput\u001b[0m \u001b[0;34m+=\u001b[0m \u001b[0mbias\u001b[0m\u001b[0;34m\u001b[0m\u001b[0m\n",
      "\u001b[0;31mRuntimeError\u001b[0m: size mismatch, m1: [1792 x 28], m2: [784 x 512] at /opt/conda/conda-bld/pytorch_1532502421238/work/aten/src/THC/generic/THCTensorMathBlas.cu:249"
     ]
    }
   ],
   "source": [
    "model.to(device)\n",
    "helper.train_model(model, trainloader, testloader, criterion, optimizer, device=device, isTransfer=False)"
   ]
  },
  {
   "cell_type": "markdown",
   "metadata": {},
   "source": [
    "# Save Model"
   ]
  },
  {
   "cell_type": "code",
   "execution_count": 45,
   "metadata": {},
   "outputs": [],
   "source": [
    "checkpoint = {'input_size': input_size,\n",
    "              'output_size': output_size,\n",
    "              'hidden_layers': hidden_layers,\n",
    "              'state_dict': model.state_dict()}\n",
    "\n",
    "torch.save(checkpoint, 'mymodel.pth')"
   ]
  },
  {
   "cell_type": "markdown",
   "metadata": {},
   "source": [
    "# Load Model"
   ]
  },
  {
   "cell_type": "code",
   "execution_count": 46,
   "metadata": {},
   "outputs": [
    {
     "name": "stdout",
     "output_type": "stream",
     "text": [
      "Network(\n",
      "  (fc): ModuleList(\n",
      "    (0): Linear(in_features=784, out_features=512, bias=True)\n",
      "    (1): Linear(in_features=512, out_features=256, bias=True)\n",
      "    (2): Linear(in_features=256, out_features=128, bias=True)\n",
      "  )\n",
      "  (output): Linear(in_features=128, out_features=10, bias=True)\n",
      "  (dropout): Dropout(p=0.5)\n",
      ")\n"
     ]
    }
   ],
   "source": [
    "checkpoint = torch.load('mymodel.pth')\n",
    "model = helper.Network(checkpoint['input_size'],\n",
    "                       checkpoint['output_size'],\n",
    "                       checkpoint['hidden_layers'])\n",
    "\n",
    "model.load_state_dict(checkpoint['state_dict'])\n",
    "\n",
    "print(model)"
   ]
  },
  {
   "cell_type": "markdown",
   "metadata": {},
   "source": [
    "# Finetuning by Using Pre-trained Model"
   ]
  },
  {
   "cell_type": "code",
   "execution_count": 121,
   "metadata": {},
   "outputs": [
    {
     "name": "stderr",
     "output_type": "stream",
     "text": [
      "d:\\programs\\anaconda3\\envs\\deep-learning\\lib\\site-packages\\torchvision\\models\\densenet.py:212: UserWarning: nn.init.kaiming_normal is now deprecated in favor of nn.init.kaiming_normal_.\n",
      "  nn.init.kaiming_normal(m.weight.data)\n"
     ]
    }
   ],
   "source": [
    "model = models.densenet121(pretrained=True)\n",
    "\n",
    "for param in model.parameters():\n",
    "    param.requires_grad = False\n",
    "    \n",
    "classifier = nn.Sequential(OrderedDict([\n",
    "    ('fc1', nn.Linear(1024, 500)),\n",
    "    ('relu', nn.ReLU()),\n",
    "    ('fc2', nn.Linear(500, 2)),\n",
    "    ('output', nn.LogSoftmax(dim=1))\n",
    "]))\n",
    "\n",
    "model.classifier = classifier\n",
    "criterion = nn.NLLLoss()\n",
    "optimizer = optim.Adam(model.classifier.parameters(), lr=0.003)"
   ]
  },
  {
   "cell_type": "code",
   "execution_count": 122,
   "metadata": {},
   "outputs": [],
   "source": [
    "data_dir = 'Cat_Dog_data/'\n",
    "\n",
    "train_transforms = transforms.Compose([transforms.RandomRotation(30),\n",
    "                                       transforms.RandomResizedCrop(224),\n",
    "                                       transforms.RandomHorizontalFlip(),\n",
    "                                       transforms.ToTensor(),\n",
    "                                       transforms.Normalize([0.485, 0.456, 0.406],\n",
    "                                                            [0.229, 0.224, 0.225])])\n",
    "\n",
    "test_transforms = transforms.Compose([transforms.Resize(255),\n",
    "                                      transforms.CenterCrop(224),\n",
    "                                      transforms.ToTensor(),\n",
    "                                      transforms.Normalize([0.485, 0.456, 0.406],\n",
    "                                                           [0.229, 0.224, 0.225])])\n",
    "\n",
    "train_data = datasets.ImageFolder(data_dir + '/train', transform=train_transforms)\n",
    "test_data = datasets.ImageFolder(data_dir + '/test', transform=test_transforms)\n",
    "\n",
    "trainloader = torch.utils.data.DataLoader(train_data, batch_size=32, shuffle=True)\n",
    "testloader = torch.utils.data.DataLoader(test_data, batch_size=32)"
   ]
  },
  {
   "cell_type": "code",
   "execution_count": 130,
   "metadata": {},
   "outputs": [
    {
     "name": "stderr",
     "output_type": "stream",
     "text": [
      "Clipping input data to the valid range for imshow with RGB data ([0..1] for floats or [0..255] for integers).\n"
     ]
    },
    {
     "name": "stdout",
     "output_type": "stream",
     "text": [
      "torch.Size([3, 224, 224])\n"
     ]
    },
    {
     "data": {
      "image/png": "[encoded data removed]",
      "text/plain": [
       "<Figure size 432x288 with 1 Axes>"
      ]
     },
     "metadata": {
      "needs_background": "light"
     },
     "output_type": "display_data"
    }
   ],
   "source": [
    "image, label = next(iter(trainloader))\n",
    "plt.imshow(image[0].numpy().transpose((1, 2, 0)))\n",
    "print(image[0].shape)"
   ]
  },
  {
   "cell_type": "code",
   "execution_count": 81,
   "metadata": {},
   "outputs": [
    {
     "name": "stdout",
     "output_type": "stream",
     "text": [
      "Device: cuda..  Epoch: 1/1..  Training Loss: 0.278..  Test Loss: 0.167..  Test Accuracy: 0.932\n",
      "Device: cuda..  Epoch: 1/1..  Training Loss: 0.477..  Test Loss: 0.073..  Test Accuracy: 0.975\n",
      "Device: cuda..  Epoch: 1/1..  Training Loss: 0.640..  Test Loss: 0.056..  Test Accuracy: 0.979\n",
      "Device: cuda..  Epoch: 1/1..  Training Loss: 0.792..  Test Loss: 0.091..  Test Accuracy: 0.969\n",
      "Device: cuda..  Epoch: 1/1..  Training Loss: 0.969..  Test Loss: 0.050..  Test Accuracy: 0.983\n",
      "Device: cuda..  Epoch: 1/1..  Training Loss: 1.134..  Test Loss: 0.066..  Test Accuracy: 0.976\n",
      "Device: cuda..  Epoch: 1/1..  Training Loss: 1.301..  Test Loss: 0.075..  Test Accuracy: 0.975\n",
      "Device: cuda..  Epoch: 1/1..  Training Loss: 1.391..  Test Loss: 0.054..  Test Accuracy: 0.979\n",
      "Device: cuda..  Epoch: 1/1..  Training Loss: 1.529..  Test Loss: 0.055..  Test Accuracy: 0.979\n",
      "Device: cuda..  Epoch: 1/1..  Training Loss: 1.651..  Test Loss: 0.056..  Test Accuracy: 0.978\n",
      "Device: cuda..  Epoch: 1/1..  Training Loss: 1.787..  Test Loss: 0.043..  Test Accuracy: 0.983\n",
      "Device: cuda..  Epoch: 1/1..  Training Loss: 1.918..  Test Loss: 0.045..  Test Accuracy: 0.983\n",
      "Device: cuda..  Epoch: 1/1..  Training Loss: 2.062..  Test Loss: 0.052..  Test Accuracy: 0.980\n",
      "Device: cuda..  Epoch: 1/1..  Training Loss: 2.200..  Test Loss: 0.049..  Test Accuracy: 0.984\n",
      "Device: cuda..  Epoch: 1/1..  Training Loss: 2.317..  Test Loss: 0.043..  Test Accuracy: 0.985\n",
      "Device: cuda..  Epoch: 1/1..  Training Loss: 2.453..  Test Loss: 0.060..  Test Accuracy: 0.978\n",
      "Device: cuda..  Epoch: 1/1..  Training Loss: 2.626..  Test Loss: 0.045..  Test Accuracy: 0.983\n",
      "Device: cuda..  Epoch: 1/1..  Training Loss: 2.779..  Test Loss: 0.044..  Test Accuracy: 0.986\n",
      "Device: cuda..  Epoch: 1/1..  Training Loss: 2.926..  Test Loss: 0.043..  Test Accuracy: 0.984\n",
      "Device: cuda..  Epoch: 1/1..  Training Loss: 3.055..  Test Loss: 0.077..  Test Accuracy: 0.972\n",
      "Device: cuda..  Epoch: 1/1..  Training Loss: 3.209..  Test Loss: 0.044..  Test Accuracy: 0.983\n",
      "Device: cuda..  Epoch: 1/1..  Training Loss: 3.346..  Test Loss: 0.053..  Test Accuracy: 0.984\n",
      "Device: cuda..  Epoch: 1/1..  Training Loss: 3.467..  Test Loss: 0.042..  Test Accuracy: 0.986\n",
      "Device: cuda..  Epoch: 1/1..  Training Loss: 3.564..  Test Loss: 0.040..  Test Accuracy: 0.986\n",
      "Device: cuda..  Epoch: 1/1..  Training Loss: 3.675..  Test Loss: 0.048..  Test Accuracy: 0.984\n",
      "Device: cuda..  Epoch: 1/1..  Training Loss: 3.852..  Test Loss: 0.083..  Test Accuracy: 0.971\n",
      "Device: cuda..  Epoch: 1/1..  Training Loss: 3.995..  Test Loss: 0.056..  Test Accuracy: 0.979\n",
      "Device: cuda..  Epoch: 1/1..  Training Loss: 4.095..  Test Loss: 0.049..  Test Accuracy: 0.982\n",
      "Device: cuda..  Epoch: 1/1..  Training Loss: 4.238..  Test Loss: 0.040..  Test Accuracy: 0.985\n",
      "Device: cuda..  Epoch: 1/1..  Training Loss: 4.393..  Test Loss: 0.039..  Test Accuracy: 0.985\n",
      "Device: cuda..  Epoch: 1/1..  Training Loss: 4.541..  Test Loss: 0.074..  Test Accuracy: 0.975\n",
      "Device: cuda..  Epoch: 1/1..  Training Loss: 4.687..  Test Loss: 0.046..  Test Accuracy: 0.981\n",
      "Device: cuda..  Epoch: 1/1..  Training Loss: 4.810..  Test Loss: 0.038..  Test Accuracy: 0.985\n",
      "Device: cuda..  Epoch: 1/1..  Training Loss: 4.918..  Test Loss: 0.039..  Test Accuracy: 0.987\n",
      "Device: cuda..  Epoch: 1/1..  Training Loss: 5.067..  Test Loss: 0.038..  Test Accuracy: 0.987\n",
      "Device: cuda..  Epoch: 1/1..  Training Loss: 5.196..  Test Loss: 0.040..  Test Accuracy: 0.985\n",
      "Device: cuda..  Epoch: 1/1..  Training Loss: 5.350..  Test Loss: 0.040..  Test Accuracy: 0.987\n",
      "Device: cuda..  Epoch: 1/1..  Training Loss: 5.490..  Test Loss: 0.037..  Test Accuracy: 0.988\n",
      "Device: cuda..  Epoch: 1/1..  Training Loss: 5.614..  Test Loss: 0.039..  Test Accuracy: 0.984\n",
      "Device: cuda..  Epoch: 1/1..  Training Loss: 5.762..  Test Loss: 0.041..  Test Accuracy: 0.985\n",
      "Device: cuda..  Epoch: 1/1..  Training Loss: 5.937..  Test Loss: 0.042..  Test Accuracy: 0.984\n",
      "Device: cuda..  Epoch: 1/1..  Training Loss: 6.026..  Test Loss: 0.036..  Test Accuracy: 0.987\n",
      "Device: cuda..  Epoch: 1/1..  Training Loss: 6.136..  Test Loss: 0.037..  Test Accuracy: 0.987\n",
      "Device: cuda..  Epoch: 1/1..  Training Loss: 6.267..  Test Loss: 0.096..  Test Accuracy: 0.966\n",
      "Device: cuda..  Epoch: 1/1..  Training Loss: 6.411..  Test Loss: 0.038..  Test Accuracy: 0.987\n",
      "Device: cuda..  Epoch: 1/1..  Training Loss: 6.526..  Test Loss: 0.039..  Test Accuracy: 0.986\n",
      "Device: cuda..  Epoch: 1/1..  Training Loss: 6.653..  Test Loss: 0.037..  Test Accuracy: 0.988\n",
      "Device: cuda..  Epoch: 1/1..  Training Loss: 6.795..  Test Loss: 0.043..  Test Accuracy: 0.984\n",
      "Device: cuda..  Epoch: 1/1..  Training Loss: 6.930..  Test Loss: 0.036..  Test Accuracy: 0.987\n",
      "Device: cuda..  Epoch: 1/1..  Training Loss: 7.045..  Test Loss: 0.044..  Test Accuracy: 0.982\n",
      "Device: cuda..  Epoch: 1/1..  Training Loss: 7.169..  Test Loss: 0.037..  Test Accuracy: 0.986\n",
      "Device: cuda..  Epoch: 1/1..  Training Loss: 7.249..  Test Loss: 0.047..  Test Accuracy: 0.982\n",
      "Device: cuda..  Epoch: 1/1..  Training Loss: 7.344..  Test Loss: 0.041..  Test Accuracy: 0.985\n",
      "Device: cuda..  Epoch: 1/1..  Training Loss: 7.480..  Test Loss: 0.042..  Test Accuracy: 0.982\n",
      "Device: cuda..  Epoch: 1/1..  Training Loss: 7.626..  Test Loss: 0.051..  Test Accuracy: 0.979\n",
      "Device: cuda..  Epoch: 1/1..  Training Loss: 7.744..  Test Loss: 0.035..  Test Accuracy: 0.987\n",
      "Device: cuda..  Epoch: 1/1..  Training Loss: 7.905..  Test Loss: 0.036..  Test Accuracy: 0.986\n",
      "Device: cuda..  Epoch: 1/1..  Training Loss: 8.008..  Test Loss: 0.049..  Test Accuracy: 0.982\n",
      "Device: cuda..  Epoch: 1/1..  Training Loss: 8.133..  Test Loss: 0.037..  Test Accuracy: 0.986\n",
      "Device: cuda..  Epoch: 1/1..  Training Loss: 8.247..  Test Loss: 0.034..  Test Accuracy: 0.987\n",
      "Device: cuda..  Epoch: 1/1..  Training Loss: 8.332..  Test Loss: 0.040..  Test Accuracy: 0.983\n",
      "Device: cuda..  Epoch: 1/1..  Training Loss: 8.419..  Test Loss: 0.036..  Test Accuracy: 0.986\n",
      "Device: cuda..  Epoch: 1/1..  Training Loss: 8.539..  Test Loss: 0.036..  Test Accuracy: 0.985\n",
      "Device: cuda..  Epoch: 1/1..  Training Loss: 8.625..  Test Loss: 0.037..  Test Accuracy: 0.986\n",
      "Device: cuda..  Epoch: 1/1..  Training Loss: 8.715..  Test Loss: 0.050..  Test Accuracy: 0.983\n",
      "Device: cuda..  Epoch: 1/1..  Training Loss: 8.841..  Test Loss: 0.038..  Test Accuracy: 0.985\n",
      "Device: cuda..  Epoch: 1/1..  Training Loss: 8.940..  Test Loss: 0.037..  Test Accuracy: 0.986\n",
      "Device: cuda..  Epoch: 1/1..  Training Loss: 9.094..  Test Loss: 0.045..  Test Accuracy: 0.985\n",
      "Device: cuda..  Epoch: 1/1..  Training Loss: 9.193..  Test Loss: 0.040..  Test Accuracy: 0.985\n",
      "Device: cuda..  Epoch: 1/1..  Training Loss: 9.348..  Test Loss: 0.037..  Test Accuracy: 0.985\n"
     ]
    }
   ],
   "source": [
    "model.to(device)\n",
    "helper.train_model(model, trainloader, testloader, criterion, optimizer, device=device, epochs=1, isTransfer=True)"
   ]
  },
  {
   "cell_type": "markdown",
   "metadata": {},
   "source": [
    "# Convert from Pytorch to another framework by using ONNX"
   ]
  },
  {
   "cell_type": "code",
   "execution_count": 171,
   "metadata": {},
   "outputs": [
    {
     "ename": "AttributeError",
     "evalue": "'Network' object has no attribute 'SerializeToString'",
     "output_type": "error",
     "traceback": [
      "\u001b[1;31m---------------------------------------------------------------------------\u001b[0m",
      "\u001b[1;31mAttributeError\u001b[0m                            Traceback (most recent call last)",
      "\u001b[1;32m<ipython-input-171-938f98b0aaac>\u001b[0m in \u001b[0;36m<module>\u001b[1;34m\u001b[0m\n\u001b[0;32m     14\u001b[0m \u001b[1;33m\u001b[0m\u001b[0m\n\u001b[0;32m     15\u001b[0m \u001b[1;31m# Vaidate imported model\u001b[0m\u001b[1;33m\u001b[0m\u001b[1;33m\u001b[0m\u001b[1;33m\u001b[0m\u001b[0m\n\u001b[1;32m---> 16\u001b[1;33m \u001b[0monnx\u001b[0m\u001b[1;33m.\u001b[0m\u001b[0mchecker\u001b[0m\u001b[1;33m.\u001b[0m\u001b[0mcheck_model\u001b[0m\u001b[1;33m(\u001b[0m\u001b[0mmodel\u001b[0m\u001b[1;33m)\u001b[0m\u001b[1;33m\u001b[0m\u001b[1;33m\u001b[0m\u001b[0m\n\u001b[0m\u001b[0;32m     17\u001b[0m \u001b[0monnx\u001b[0m\u001b[1;33m.\u001b[0m\u001b[0mhelper\u001b[0m\u001b[1;33m.\u001b[0m\u001b[0mprintable_graph\u001b[0m\u001b[1;33m(\u001b[0m\u001b[0mmodel\u001b[0m\u001b[1;33m.\u001b[0m\u001b[0mgraph\u001b[0m\u001b[1;33m)\u001b[0m\u001b[1;33m\u001b[0m\u001b[1;33m\u001b[0m\u001b[0m\n",
      "\u001b[1;32md:\\programs\\anaconda3\\envs\\deep-learning\\lib\\site-packages\\onnx\\checker.py\u001b[0m in \u001b[0;36mcheck_model\u001b[1;34m(model)\u001b[0m\n\u001b[0;32m     80\u001b[0m \u001b[1;33m\u001b[0m\u001b[0m\n\u001b[0;32m     81\u001b[0m \u001b[1;32mdef\u001b[0m \u001b[0mcheck_model\u001b[0m\u001b[1;33m(\u001b[0m\u001b[0mmodel\u001b[0m\u001b[1;33m)\u001b[0m\u001b[1;33m:\u001b[0m  \u001b[1;31m# type: (ModelProto) -> None\u001b[0m\u001b[1;33m\u001b[0m\u001b[1;33m\u001b[0m\u001b[0m\n\u001b[1;32m---> 82\u001b[1;33m     \u001b[0mC\u001b[0m\u001b[1;33m.\u001b[0m\u001b[0mcheck_model\u001b[0m\u001b[1;33m(\u001b[0m\u001b[0mmodel\u001b[0m\u001b[1;33m.\u001b[0m\u001b[0mSerializeToString\u001b[0m\u001b[1;33m(\u001b[0m\u001b[1;33m)\u001b[0m\u001b[1;33m)\u001b[0m\u001b[1;33m\u001b[0m\u001b[1;33m\u001b[0m\u001b[0m\n\u001b[0m\u001b[0;32m     83\u001b[0m \u001b[1;33m\u001b[0m\u001b[0m\n\u001b[0;32m     84\u001b[0m \u001b[1;33m\u001b[0m\u001b[0m\n",
      "\u001b[1;32md:\\programs\\anaconda3\\envs\\deep-learning\\lib\\site-packages\\torch\\nn\\modules\\module.py\u001b[0m in \u001b[0;36m__getattr__\u001b[1;34m(self, name)\u001b[0m\n\u001b[0;32m    516\u001b[0m                 \u001b[1;32mreturn\u001b[0m \u001b[0mmodules\u001b[0m\u001b[1;33m[\u001b[0m\u001b[0mname\u001b[0m\u001b[1;33m]\u001b[0m\u001b[1;33m\u001b[0m\u001b[1;33m\u001b[0m\u001b[0m\n\u001b[0;32m    517\u001b[0m         raise AttributeError(\"'{}' object has no attribute '{}'\".format(\n\u001b[1;32m--> 518\u001b[1;33m             type(self).__name__, name))\n\u001b[0m\u001b[0;32m    519\u001b[0m \u001b[1;33m\u001b[0m\u001b[0m\n\u001b[0;32m    520\u001b[0m     \u001b[1;32mdef\u001b[0m \u001b[0m__setattr__\u001b[0m\u001b[1;33m(\u001b[0m\u001b[0mself\u001b[0m\u001b[1;33m,\u001b[0m \u001b[0mname\u001b[0m\u001b[1;33m,\u001b[0m \u001b[0mvalue\u001b[0m\u001b[1;33m)\u001b[0m\u001b[1;33m:\u001b[0m\u001b[1;33m\u001b[0m\u001b[1;33m\u001b[0m\u001b[0m\n",
      "\u001b[1;31mAttributeError\u001b[0m: 'Network' object has no attribute 'SerializeToString'"
     ]
    }
   ],
   "source": [
    "checkpoint = torch.load('mymodel.pth')\n",
    "model = helper.Network(checkpoint['input_size'],\n",
    "                       checkpoint['output_size'],\n",
    "                       checkpoint['hidden_layers'])\n",
    "\n",
    "model.load_state_dict(checkpoint['state_dict'])\n",
    "\n",
    "# Export\n",
    "dummy_input = Variable(torch.randn(1, 784, requires_grad=True))\n",
    "torch.onnx.export(model, dummy_input, 'first_export.onnx')\n",
    "\n",
    "#Import \n",
    "onnx_model = onnx.load('first_export.onnx')\n",
    "\n",
    "# Vaidate imported model\n",
    "onnx.checker.check_model(model)\n",
    "onnx.helper.printable_graph(model.graph)"
   ]
  },
  {
   "cell_type": "code",
   "execution_count": null,
   "metadata": {},
   "outputs": [],
   "source": []
  }
 ],
 "metadata": {
  "kernelspec": {
   "display_name": "Python 3",
   "language": "python",
   "name": "python3"
  },
  "language_info": {
   "codemirror_mode": {
    "name": "ipython",
    "version": 3
   },
   "file_extension": ".py",
   "mimetype": "text/x-python",
   "name": "python",
   "nbconvert_exporter": "python",
   "pygments_lexer": "ipython3",
   "version": "3.6.6"
  }
 },
 "nbformat": 4,
 "nbformat_minor": 2
}
