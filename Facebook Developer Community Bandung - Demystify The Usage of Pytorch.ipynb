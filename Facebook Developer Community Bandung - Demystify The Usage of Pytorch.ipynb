{
 "cells": [
  {
   "cell_type": "code",
   "execution_count": 85,
   "metadata": {
    "slideshow": {
     "slide_type": "slide"
    }
   },
   "outputs": [],
   "source": [
    "from __future__ import print_function\n",
    "import torch\n",
    "from torch import nn, optim\n",
    "import torch.nn.functional as F\n",
    "from torch.autograd import Variable\n",
    "from torch.utils.data import Dataset, DataLoader\n",
    "import torch.onnx\n",
    "\n",
    "import torchvision\n",
    "from torchvision import transforms, datasets, models\n",
    "\n",
    "import onnx\n",
    "\n",
    "import helper\n",
    "\n",
    "from collections import OrderedDict\n",
    "\n",
    "import numpy as np\n",
    "import timeit\n",
    "import glob\n",
    "import matplotlib.pyplot as plt\n",
    "from PIL import Image"
   ]
  },
  {
   "cell_type": "markdown",
   "metadata": {},
   "source": [
    "## Switching from ND Array > Pytorch Tensor -> ND Array"
   ]
  },
  {
   "cell_type": "code",
   "execution_count": 6,
   "metadata": {},
   "outputs": [
    {
     "data": {
      "text/plain": [
       "array([[-1.15830809,  0.49762122,  0.09137921],\n",
       "       [-2.3819232 ,  0.47606143, -1.99124683],\n",
       "       [-1.69857664,  0.14952153, -0.05160555],\n",
       "       [ 0.0166688 ,  0.89088917, -0.47966096],\n",
       "       [ 0.16908941,  1.43305621, -0.83057521]])"
      ]
     },
     "execution_count": 6,
     "metadata": {},
     "output_type": "execute_result"
    }
   ],
   "source": [
    "randomArray = np.random.randn(5, 3)\n",
    "randomArray"
   ]
  },
  {
   "cell_type": "code",
   "execution_count": 7,
   "metadata": {},
   "outputs": [
    {
     "data": {
      "text/plain": [
       "tensor([[-1.1583,  0.4976,  0.0914],\n",
       "        [-2.3819,  0.4761, -1.9912],\n",
       "        [-1.6986,  0.1495, -0.0516],\n",
       "        [ 0.0167,  0.8909, -0.4797],\n",
       "        [ 0.1691,  1.4331, -0.8306]], dtype=torch.float64)"
      ]
     },
     "execution_count": 7,
     "metadata": {},
     "output_type": "execute_result"
    }
   ],
   "source": [
    "randomTensor = torch.from_numpy(randomArray)\n",
    "randomTensor"
   ]
  },
  {
   "cell_type": "code",
   "execution_count": 8,
   "metadata": {},
   "outputs": [
    {
     "data": {
      "text/plain": [
       "array([[-1.15830809,  0.49762122,  0.09137921],\n",
       "       [-2.3819232 ,  0.47606143, -1.99124683],\n",
       "       [-1.69857664,  0.14952153, -0.05160555],\n",
       "       [ 0.0166688 ,  0.89088917, -0.47966096],\n",
       "       [ 0.16908941,  1.43305621, -0.83057521]])"
      ]
     },
     "execution_count": 8,
     "metadata": {},
     "output_type": "execute_result"
    }
   ],
   "source": [
    "randomTensor.numpy()"
   ]
  },
  {
   "cell_type": "markdown",
   "metadata": {},
   "source": [
    "# Switching from using CPU - GPU\n"
   ]
  },
  {
   "cell_type": "code",
   "execution_count": 9,
   "metadata": {},
   "outputs": [],
   "source": [
    "cpu = torch.device('cpu')\n",
    "cuda = torch.device('cuda')"
   ]
  },
  {
   "cell_type": "code",
   "execution_count": null,
   "metadata": {},
   "outputs": [],
   "source": [
    "cuda_0 = torch.device('cuda:0')\n",
    "cuda_2 = torch.device('cuda:2')"
   ]
  },
  {
   "cell_type": "code",
   "execution_count": 14,
   "metadata": {},
   "outputs": [],
   "source": [
    "w1 = torch.rand(10000, 10000, device=cpu)\n",
    "x1 = torch.rand(10000, 10000, device=cpu)"
   ]
  },
  {
   "cell_type": "code",
   "execution_count": 21,
   "metadata": {},
   "outputs": [
    {
     "name": "stdout",
     "output_type": "stream",
     "text": [
      "Timelapse:  9.464088493827148\n"
     ]
    }
   ],
   "source": [
    "start_cpu = timeit.default_timer()\n",
    "\n",
    "x1.matmul(w1)\n",
    "\n",
    "end_cpu = timeit.default_timer()\n",
    "print('Timelapse: ', end_cpu- start_cpu)"
   ]
  },
  {
   "cell_type": "code",
   "execution_count": 22,
   "metadata": {},
   "outputs": [
    {
     "name": "stdout",
     "output_type": "stream",
     "text": [
      "Timelapse:  0.5371105185184888\n"
     ]
    }
   ],
   "source": [
    "start_gpu = timeit.default_timer()\n",
    "\n",
    "x1 = x1.cuda()\n",
    "w1 = w1.cuda()\n",
    "\n",
    "x1.matmul(w1)\n",
    "\n",
    "end_gpu = timeit.default_timer()\n",
    "print('Timelapse: ', end_gpu - start_gpu)"
   ]
  },
  {
   "cell_type": "code",
   "execution_count": 30,
   "metadata": {},
   "outputs": [
    {
     "name": "stdout",
     "output_type": "stream",
     "text": [
      "Difference:  18.0 x faster\n"
     ]
    }
   ],
   "source": [
    "print('Difference: ', np.round((end_cpu- start_cpu)/(end_gpu - start_gpu), 0),'x faster')"
   ]
  },
  {
   "cell_type": "markdown",
   "metadata": {},
   "source": [
    "# Calculate the gradient"
   ]
  },
  {
   "cell_type": "code",
   "execution_count": 3,
   "metadata": {},
   "outputs": [
    {
     "name": "stdout",
     "output_type": "stream",
     "text": [
      "False\n",
      "True\n"
     ]
    }
   ],
   "source": [
    "# By default, requires_grad is set to False\n",
    "x = torch.randn(5, 5)\n",
    "y = torch.randn(5, 5)\n",
    "z = torch.randn((5, 5), requires_grad=True)\n",
    "\n",
    "result = x + y\n",
    "print(result.requires_grad)\n",
    "\n",
    "second_result = result + z\n",
    "print(second_result.requires_grad)"
   ]
  },
  {
   "cell_type": "code",
   "execution_count": null,
   "metadata": {},
   "outputs": [],
   "source": [
    "input = Variable(torch.ones(2, 2), requires_grad=True)\n",
    "print(\"Before: \", input.grad)\n",
    "\n",
    "output = input.mean()\n",
    "output.backward()\n",
    "\n",
    "print(\"After: \", input.grad)"
   ]
  },
  {
   "cell_type": "markdown",
   "metadata": {},
   "source": [
    "#  Object Oriented Programming Style"
   ]
  },
  {
   "cell_type": "code",
   "execution_count": 7,
   "metadata": {},
   "outputs": [],
   "source": [
    "input_size = 784\n",
    "hidden_size = [128, 64]\n",
    "output_size = 10"
   ]
  },
  {
   "cell_type": "code",
   "execution_count": 14,
   "metadata": {},
   "outputs": [],
   "source": [
    "class Network(nn.Module):\n",
    "    def __init__(self, input_size, hidden_size, output_size):\n",
    "        super(Network, self).__init__()\n",
    "        \n",
    "        self.fc1 = nn.Linear(input_size, hidden_size[0])\n",
    "        self.fc2 = nn.Linear(hidden_size[0], hidden_size[1])\n",
    "        self.fc3 = nn.Linear(hidden_size[1], output_size)\n",
    "        \n",
    "    def forward(self, x):\n",
    "        x = F.relu(self.fc1(x))\n",
    "        x = F.relu(self.fc2(x))\n",
    "        x = F.softmax(self.fc3(x), dim=1)\n",
    "        \n",
    "        return x"
   ]
  },
  {
   "cell_type": "code",
   "execution_count": 16,
   "metadata": {},
   "outputs": [
    {
     "data": {
      "text/plain": [
       "Network(\n",
       "  (fc1): Linear(in_features=784, out_features=128, bias=True)\n",
       "  (fc2): Linear(in_features=128, out_features=64, bias=True)\n",
       "  (fc3): Linear(in_features=64, out_features=10, bias=True)\n",
       ")"
      ]
     },
     "execution_count": 16,
     "metadata": {},
     "output_type": "execute_result"
    }
   ],
   "source": [
    "oop_model = Network(input_size=input_size, \n",
    "                    hidden_size=hidden_size, \n",
    "                    output_size=output_size)\n",
    "oop_model"
   ]
  },
  {
   "cell_type": "markdown",
   "metadata": {},
   "source": [
    "By default, weights and bias are automatically filled up"
   ]
  },
  {
   "cell_type": "code",
   "execution_count": 17,
   "metadata": {},
   "outputs": [
    {
     "name": "stdout",
     "output_type": "stream",
     "text": [
      "Parameter containing:\n",
      "tensor([[ 0.0334,  0.0349,  0.0099,  ...,  0.0143, -0.0273, -0.0090],\n",
      "        [-0.0218, -0.0161, -0.0073,  ..., -0.0026,  0.0082,  0.0172],\n",
      "        [ 0.0113, -0.0095,  0.0001,  ..., -0.0025, -0.0066,  0.0297],\n",
      "        ...,\n",
      "        [ 0.0303,  0.0197,  0.0251,  ...,  0.0280, -0.0012,  0.0355],\n",
      "        [ 0.0238, -0.0035,  0.0249,  ..., -0.0151,  0.0099, -0.0339],\n",
      "        [-0.0237, -0.0225,  0.0079,  ...,  0.0066,  0.0294,  0.0161]],\n",
      "       requires_grad=True)\n",
      "Parameter containing:\n",
      "tensor([ 0.0317,  0.0100, -0.0192, -0.0028, -0.0024,  0.0003,  0.0218,  0.0340,\n",
      "         0.0087, -0.0174,  0.0250, -0.0033, -0.0197,  0.0130, -0.0136,  0.0229,\n",
      "        -0.0150, -0.0104, -0.0188,  0.0048, -0.0349, -0.0313,  0.0147,  0.0038,\n",
      "         0.0222,  0.0204,  0.0070, -0.0352,  0.0320, -0.0268,  0.0100, -0.0078,\n",
      "         0.0132,  0.0146, -0.0053,  0.0245,  0.0085,  0.0227, -0.0203,  0.0186,\n",
      "        -0.0038, -0.0208, -0.0135,  0.0206,  0.0192, -0.0245,  0.0148, -0.0251,\n",
      "        -0.0025, -0.0100, -0.0055, -0.0072, -0.0256, -0.0339, -0.0124, -0.0044,\n",
      "        -0.0134,  0.0241, -0.0270, -0.0327, -0.0285,  0.0357,  0.0118, -0.0117,\n",
      "         0.0357, -0.0255,  0.0062,  0.0157,  0.0262,  0.0194, -0.0298, -0.0322,\n",
      "        -0.0027,  0.0061, -0.0023, -0.0168, -0.0338,  0.0210, -0.0039, -0.0087,\n",
      "         0.0005,  0.0009, -0.0040, -0.0244,  0.0249, -0.0155, -0.0121,  0.0149,\n",
      "         0.0295,  0.0218, -0.0096, -0.0075, -0.0023, -0.0025, -0.0175, -0.0041,\n",
      "        -0.0208, -0.0249,  0.0292,  0.0257, -0.0307,  0.0227, -0.0046, -0.0173,\n",
      "         0.0039,  0.0256, -0.0012, -0.0230,  0.0287,  0.0045, -0.0140,  0.0054,\n",
      "         0.0067, -0.0215, -0.0124, -0.0093,  0.0310, -0.0090, -0.0226, -0.0276,\n",
      "        -0.0168, -0.0211, -0.0165,  0.0350, -0.0155, -0.0147,  0.0072,  0.0208],\n",
      "       requires_grad=True)\n"
     ]
    }
   ],
   "source": [
    "print(oop_model.fc1.weight)\n",
    "print(oop_model.fc1.bias)"
   ]
  },
  {
   "cell_type": "markdown",
   "metadata": {},
   "source": [
    "We can also modify the value of these tensors"
   ]
  },
  {
   "cell_type": "code",
   "execution_count": 18,
   "metadata": {},
   "outputs": [
    {
     "data": {
      "text/plain": [
       "tensor([0., 0., 0., 0., 0., 0., 0., 0., 0., 0., 0., 0., 0., 0., 0., 0., 0., 0.,\n",
       "        0., 0., 0., 0., 0., 0., 0., 0., 0., 0., 0., 0., 0., 0., 0., 0., 0., 0.,\n",
       "        0., 0., 0., 0., 0., 0., 0., 0., 0., 0., 0., 0., 0., 0., 0., 0., 0., 0.,\n",
       "        0., 0., 0., 0., 0., 0., 0., 0., 0., 0., 0., 0., 0., 0., 0., 0., 0., 0.,\n",
       "        0., 0., 0., 0., 0., 0., 0., 0., 0., 0., 0., 0., 0., 0., 0., 0., 0., 0.,\n",
       "        0., 0., 0., 0., 0., 0., 0., 0., 0., 0., 0., 0., 0., 0., 0., 0., 0., 0.,\n",
       "        0., 0., 0., 0., 0., 0., 0., 0., 0., 0., 0., 0., 0., 0., 0., 0., 0., 0.,\n",
       "        0., 0.])"
      ]
     },
     "execution_count": 18,
     "metadata": {},
     "output_type": "execute_result"
    }
   ],
   "source": [
    "# Set bias to be zero\n",
    "oop_model.fc1.bias.data.fill_(0)"
   ]
  },
  {
   "cell_type": "code",
   "execution_count": 19,
   "metadata": {},
   "outputs": [
    {
     "data": {
      "text/plain": [
       "tensor([[ 0.0069, -0.0008, -0.0109,  ..., -0.0039,  0.0123, -0.0008],\n",
       "        [-0.0027,  0.0198, -0.0050,  ...,  0.0021,  0.0011, -0.0044],\n",
       "        [ 0.0034,  0.0233,  0.0141,  ...,  0.0094, -0.0049,  0.0153],\n",
       "        ...,\n",
       "        [-0.0195,  0.0073,  0.0061,  ...,  0.0207, -0.0077, -0.0110],\n",
       "        [-0.0055,  0.0001, -0.0076,  ...,  0.0099,  0.0087,  0.0060],\n",
       "        [-0.0041, -0.0229,  0.0102,  ..., -0.0013,  0.0103,  0.0014]])"
      ]
     },
     "execution_count": 19,
     "metadata": {},
     "output_type": "execute_result"
    }
   ],
   "source": [
    "# Set weight into normal distribution with standard deviation of .01\n",
    "oop_model.fc1.weight.data.normal_(std=.01)"
   ]
  },
  {
   "cell_type": "markdown",
   "metadata": {},
   "source": [
    "# Sequential Style"
   ]
  },
  {
   "cell_type": "code",
   "execution_count": 21,
   "metadata": {},
   "outputs": [
    {
     "data": {
      "text/plain": [
       "Sequential(\n",
       "  (0): Linear(in_features=784, out_features=128, bias=True)\n",
       "  (1): ReLU()\n",
       "  (2): Linear(in_features=128, out_features=64, bias=True)\n",
       "  (3): ReLU()\n",
       "  (4): Linear(in_features=64, out_features=10, bias=True)\n",
       "  (5): Softmax()\n",
       ")"
      ]
     },
     "execution_count": 21,
     "metadata": {},
     "output_type": "execute_result"
    }
   ],
   "source": [
    "sequential_model = nn.Sequential(nn.Linear(in_features=input_size, out_features=hidden_size[0]),\n",
    "                                 nn.ReLU(),\n",
    "                                 nn.Linear(in_features=hidden_size[0], out_features=hidden_size[1]),\n",
    "                                 nn.ReLU(),\n",
    "                                 nn.Linear(in_features=hidden_size[1], out_features=output_size),\n",
    "                                 nn.Softmax(dim=1))\n",
    "\n",
    "sequential_model"
   ]
  },
  {
   "cell_type": "markdown",
   "metadata": {},
   "source": [
    "# Sequential Style - Alternative"
   ]
  },
  {
   "cell_type": "code",
   "execution_count": 28,
   "metadata": {},
   "outputs": [
    {
     "data": {
      "text/plain": [
       "Sequential(\n",
       "  (fc1): Linear(in_features=784, out_features=128, bias=True)\n",
       "  (relu1): ReLU()\n",
       "  (fc2): Linear(in_features=128, out_features=64, bias=True)\n",
       "  (relu2): ReLU()\n",
       "  (output): Linear(in_features=64, out_features=10, bias=True)\n",
       "  (softmax): Softmax()\n",
       ")"
      ]
     },
     "execution_count": 28,
     "metadata": {},
     "output_type": "execute_result"
    }
   ],
   "source": [
    "alt_sequential_model = nn.Sequential(OrderedDict([\n",
    "    ('fc1', nn.Linear(input_size, hidden_size[0])),\n",
    "    ('relu1', nn.ReLU()),\n",
    "    ('fc2', nn.Linear(hidden_size[0], hidden_size[1])),\n",
    "    ('relu2', nn.ReLU()),\n",
    "    ('output', nn.Linear(hidden_size[1], output_size)),\n",
    "    ('softmax', nn.Softmax(dim=1))\n",
    "]))\n",
    "\n",
    "alt_sequential_model"
   ]
  },
  {
   "cell_type": "markdown",
   "metadata": {},
   "source": [
    "We can pick up any layer easily like you used to code in Python"
   ]
  },
  {
   "cell_type": "code",
   "execution_count": 29,
   "metadata": {},
   "outputs": [
    {
     "name": "stdout",
     "output_type": "stream",
     "text": [
      "Linear(in_features=784, out_features=128, bias=True)\n",
      "ReLU()\n",
      "Linear(in_features=784, out_features=128, bias=True)\n",
      "Linear(in_features=128, out_features=64, bias=True)\n",
      "Linear(in_features=128, out_features=64, bias=True)\n",
      "ReLU()\n"
     ]
    }
   ],
   "source": [
    "print(sequential_model[0])\n",
    "print(sequential_model[1])\n",
    "\n",
    "print(oop_model.fc1)\n",
    "print(oop_model.fc2)\n",
    "\n",
    "print(alt_sequential_model.fc2)\n",
    "print(alt_sequential_model.relu1)"
   ]
  },
  {
   "cell_type": "markdown",
   "metadata": {},
   "source": [
    "# Autograd"
   ]
  },
  {
   "cell_type": "code",
   "execution_count": 167,
   "metadata": {},
   "outputs": [],
   "source": [
    "# Define a transform to normalize the data\n",
    "transform = transforms.Compose([transforms.ToTensor(),\n",
    "                                transforms.Normalize((0.5,), (0.5,))])\n",
    "\n",
    "# Download and load the training data\n",
    "trainset = datasets.FashionMNIST('F_MNIST_data/', download=True, train=True, transform=transform)\n",
    "trainloader = torch.utils.data.DataLoader(trainset, batch_size=64, shuffle=True)\n",
    "\n",
    "# Download and load the test data\n",
    "testset = datasets.FashionMNIST('F_MNIST_data/', download=True, train=False, transform=transform)\n",
    "testloader = torch.utils.data.DataLoader(testset, batch_size=64, shuffle=True)"
   ]
  },
  {
   "cell_type": "code",
   "execution_count": 168,
   "metadata": {},
   "outputs": [],
   "source": [
    "input_size = 784\n",
    "output_size = 10\n",
    "hidden_layers = [512, 256, 128]"
   ]
  },
  {
   "cell_type": "code",
   "execution_count": 169,
   "metadata": {},
   "outputs": [],
   "source": [
    "model = helper.Network(input_size, output_size, hidden_layers)\n",
    "criterion = nn.NLLLoss()\n",
    "optimizer = optim.Adam(model.parameters(), lr=0.001)\n",
    "device = torch.device(\"cuda\" if torch.cuda.is_available() else \"cpu\")"
   ]
  },
  {
   "cell_type": "code",
   "execution_count": 91,
   "metadata": {},
   "outputs": [
    {
     "name": "stdout",
     "output_type": "stream",
     "text": [
      "Device: cuda..  Epoch: 1/5..  Training Loss: 2.187..  Test Loss: 1.871..  Test Accuracy: 0.411\n",
      "Device: cuda..  Epoch: 1/5..  Training Loss: 3.657..  Test Loss: 1.150..  Test Accuracy: 0.581\n",
      "Device: cuda..  Epoch: 1/5..  Training Loss: 4.686..  Test Loss: 0.940..  Test Accuracy: 0.648\n",
      "Device: cuda..  Epoch: 1/5..  Training Loss: 5.562..  Test Loss: 0.800..  Test Accuracy: 0.681\n",
      "Device: cuda..  Epoch: 1/5..  Training Loss: 6.280..  Test Loss: 0.727..  Test Accuracy: 0.742\n",
      "Device: cuda..  Epoch: 1/5..  Training Loss: 6.972..  Test Loss: 0.699..  Test Accuracy: 0.736\n",
      "Device: cuda..  Epoch: 1/5..  Training Loss: 7.710..  Test Loss: 0.740..  Test Accuracy: 0.696\n",
      "Device: cuda..  Epoch: 1/5..  Training Loss: 8.367..  Test Loss: 0.655..  Test Accuracy: 0.756\n",
      "Device: cuda..  Epoch: 1/5..  Training Loss: 9.015..  Test Loss: 0.608..  Test Accuracy: 0.767\n",
      "Device: cuda..  Epoch: 1/5..  Training Loss: 9.603..  Test Loss: 0.660..  Test Accuracy: 0.753\n",
      "Device: cuda..  Epoch: 1/5..  Training Loss: 10.255..  Test Loss: 0.689..  Test Accuracy: 0.739\n",
      "Device: cuda..  Epoch: 1/5..  Training Loss: 10.945..  Test Loss: 0.639..  Test Accuracy: 0.771\n",
      "Device: cuda..  Epoch: 1/5..  Training Loss: 11.487..  Test Loss: 0.592..  Test Accuracy: 0.780\n",
      "Device: cuda..  Epoch: 1/5..  Training Loss: 12.045..  Test Loss: 0.605..  Test Accuracy: 0.773\n",
      "Device: cuda..  Epoch: 1/5..  Training Loss: 12.678..  Test Loss: 0.603..  Test Accuracy: 0.781\n",
      "Device: cuda..  Epoch: 1/5..  Training Loss: 13.255..  Test Loss: 0.619..  Test Accuracy: 0.776\n",
      "Device: cuda..  Epoch: 1/5..  Training Loss: 13.849..  Test Loss: 0.599..  Test Accuracy: 0.775\n",
      "Device: cuda..  Epoch: 1/5..  Training Loss: 14.407..  Test Loss: 0.574..  Test Accuracy: 0.778\n",
      "Device: cuda..  Epoch: 1/5..  Training Loss: 14.962..  Test Loss: 0.534..  Test Accuracy: 0.804\n",
      "Device: cuda..  Epoch: 1/5..  Training Loss: 15.500..  Test Loss: 0.525..  Test Accuracy: 0.810\n",
      "Device: cuda..  Epoch: 1/5..  Training Loss: 16.077..  Test Loss: 0.521..  Test Accuracy: 0.807\n",
      "Device: cuda..  Epoch: 1/5..  Training Loss: 16.675..  Test Loss: 0.574..  Test Accuracy: 0.789\n",
      "Device: cuda..  Epoch: 1/5..  Training Loss: 17.243..  Test Loss: 0.526..  Test Accuracy: 0.802\n",
      "Device: cuda..  Epoch: 1/5..  Training Loss: 17.777..  Test Loss: 0.542..  Test Accuracy: 0.806\n",
      "Device: cuda..  Epoch: 1/5..  Training Loss: 18.291..  Test Loss: 0.526..  Test Accuracy: 0.802\n",
      "Device: cuda..  Epoch: 1/5..  Training Loss: 18.803..  Test Loss: 0.544..  Test Accuracy: 0.801\n",
      "Device: cuda..  Epoch: 1/5..  Training Loss: 19.241..  Test Loss: 0.526..  Test Accuracy: 0.812\n",
      "Device: cuda..  Epoch: 1/5..  Training Loss: 19.754..  Test Loss: 0.565..  Test Accuracy: 0.791\n",
      "Device: cuda..  Epoch: 1/5..  Training Loss: 20.282..  Test Loss: 0.515..  Test Accuracy: 0.811\n",
      "Device: cuda..  Epoch: 1/5..  Training Loss: 20.779..  Test Loss: 0.538..  Test Accuracy: 0.806\n",
      "Device: cuda..  Epoch: 1/5..  Training Loss: 21.276..  Test Loss: 0.598..  Test Accuracy: 0.784\n",
      "Device: cuda..  Epoch: 1/5..  Training Loss: 21.816..  Test Loss: 0.502..  Test Accuracy: 0.815\n",
      "Device: cuda..  Epoch: 1/5..  Training Loss: 22.287..  Test Loss: 0.498..  Test Accuracy: 0.822\n",
      "Device: cuda..  Epoch: 1/5..  Training Loss: 22.775..  Test Loss: 0.507..  Test Accuracy: 0.815\n",
      "Device: cuda..  Epoch: 1/5..  Training Loss: 23.225..  Test Loss: 0.499..  Test Accuracy: 0.817\n",
      "Device: cuda..  Epoch: 1/5..  Training Loss: 23.770..  Test Loss: 0.550..  Test Accuracy: 0.791\n",
      "Device: cuda..  Epoch: 1/5..  Training Loss: 24.326..  Test Loss: 0.524..  Test Accuracy: 0.805\n",
      "Device: cuda..  Epoch: 1/5..  Training Loss: 24.860..  Test Loss: 0.529..  Test Accuracy: 0.800\n",
      "Device: cuda..  Epoch: 1/5..  Training Loss: 25.322..  Test Loss: 0.517..  Test Accuracy: 0.814\n",
      "Device: cuda..  Epoch: 1/5..  Training Loss: 25.838..  Test Loss: 0.499..  Test Accuracy: 0.818\n",
      "Device: cuda..  Epoch: 1/5..  Training Loss: 26.291..  Test Loss: 0.483..  Test Accuracy: 0.826\n",
      "Device: cuda..  Epoch: 1/5..  Training Loss: 26.773..  Test Loss: 0.516..  Test Accuracy: 0.811\n",
      "Device: cuda..  Epoch: 1/5..  Training Loss: 27.295..  Test Loss: 0.471..  Test Accuracy: 0.826\n",
      "Device: cuda..  Epoch: 1/5..  Training Loss: 27.750..  Test Loss: 0.475..  Test Accuracy: 0.826\n",
      "Device: cuda..  Epoch: 1/5..  Training Loss: 28.240..  Test Loss: 0.469..  Test Accuracy: 0.826\n",
      "Device: cuda..  Epoch: 1/5..  Training Loss: 28.740..  Test Loss: 0.468..  Test Accuracy: 0.830\n",
      "Device: cuda..  Epoch: 1/5..  Training Loss: 29.208..  Test Loss: 0.460..  Test Accuracy: 0.830\n",
      "Device: cuda..  Epoch: 1/5..  Training Loss: 29.691..  Test Loss: 0.459..  Test Accuracy: 0.833\n",
      "Device: cuda..  Epoch: 1/5..  Training Loss: 30.100..  Test Loss: 0.489..  Test Accuracy: 0.820\n",
      "Device: cuda..  Epoch: 1/5..  Training Loss: 30.580..  Test Loss: 0.482..  Test Accuracy: 0.821\n",
      "Device: cuda..  Epoch: 1/5..  Training Loss: 31.058..  Test Loss: 0.503..  Test Accuracy: 0.819\n",
      "Device: cuda..  Epoch: 1/5..  Training Loss: 31.531..  Test Loss: 0.445..  Test Accuracy: 0.838\n",
      "Device: cuda..  Epoch: 1/5..  Training Loss: 31.921..  Test Loss: 0.460..  Test Accuracy: 0.831\n",
      "Device: cuda..  Epoch: 1/5..  Training Loss: 32.346..  Test Loss: 0.447..  Test Accuracy: 0.838\n",
      "Device: cuda..  Epoch: 1/5..  Training Loss: 32.708..  Test Loss: 0.443..  Test Accuracy: 0.839\n",
      "Device: cuda..  Epoch: 1/5..  Training Loss: 33.160..  Test Loss: 0.489..  Test Accuracy: 0.821\n",
      "Device: cuda..  Epoch: 1/5..  Training Loss: 33.569..  Test Loss: 0.445..  Test Accuracy: 0.839\n",
      "Device: cuda..  Epoch: 1/5..  Training Loss: 34.008..  Test Loss: 0.447..  Test Accuracy: 0.840\n",
      "Device: cuda..  Epoch: 1/5..  Training Loss: 34.430..  Test Loss: 0.465..  Test Accuracy: 0.833\n",
      "Device: cuda..  Epoch: 1/5..  Training Loss: 34.850..  Test Loss: 0.495..  Test Accuracy: 0.821\n",
      "Device: cuda..  Epoch: 1/5..  Training Loss: 35.326..  Test Loss: 0.509..  Test Accuracy: 0.817\n",
      "Device: cuda..  Epoch: 1/5..  Training Loss: 35.778..  Test Loss: 0.471..  Test Accuracy: 0.826\n",
      "Device: cuda..  Epoch: 1/5..  Training Loss: 36.207..  Test Loss: 0.458..  Test Accuracy: 0.832\n",
      "Device: cuda..  Epoch: 1/5..  Training Loss: 36.606..  Test Loss: 0.429..  Test Accuracy: 0.844\n",
      "Device: cuda..  Epoch: 1/5..  Training Loss: 37.067..  Test Loss: 0.449..  Test Accuracy: 0.835\n",
      "Device: cuda..  Epoch: 1/5..  Training Loss: 37.472..  Test Loss: 0.472..  Test Accuracy: 0.820\n",
      "Device: cuda..  Epoch: 1/5..  Training Loss: 37.919..  Test Loss: 0.445..  Test Accuracy: 0.837\n",
      "Device: cuda..  Epoch: 1/5..  Training Loss: 38.339..  Test Loss: 0.482..  Test Accuracy: 0.831\n",
      "Device: cuda..  Epoch: 1/5..  Training Loss: 38.813..  Test Loss: 0.485..  Test Accuracy: 0.826\n",
      "Device: cuda..  Epoch: 1/5..  Training Loss: 39.261..  Test Loss: 0.451..  Test Accuracy: 0.835\n",
      "Device: cuda..  Epoch: 1/5..  Training Loss: 39.694..  Test Loss: 0.452..  Test Accuracy: 0.834\n",
      "Device: cuda..  Epoch: 1/5..  Training Loss: 40.118..  Test Loss: 0.462..  Test Accuracy: 0.831\n",
      "Device: cuda..  Epoch: 1/5..  Training Loss: 40.594..  Test Loss: 0.442..  Test Accuracy: 0.840\n",
      "Device: cuda..  Epoch: 1/5..  Training Loss: 40.999..  Test Loss: 0.444..  Test Accuracy: 0.839\n",
      "Device: cuda..  Epoch: 1/5..  Training Loss: 41.399..  Test Loss: 0.436..  Test Accuracy: 0.843\n",
      "Device: cuda..  Epoch: 1/5..  Training Loss: 41.792..  Test Loss: 0.438..  Test Accuracy: 0.840\n",
      "Device: cuda..  Epoch: 1/5..  Training Loss: 42.284..  Test Loss: 0.431..  Test Accuracy: 0.844\n",
      "Device: cuda..  Epoch: 1/5..  Training Loss: 42.693..  Test Loss: 0.434..  Test Accuracy: 0.834\n",
      "Device: cuda..  Epoch: 1/5..  Training Loss: 43.149..  Test Loss: 0.457..  Test Accuracy: 0.832\n",
      "Device: cuda..  Epoch: 1/5..  Training Loss: 43.573..  Test Loss: 0.454..  Test Accuracy: 0.829\n",
      "Device: cuda..  Epoch: 1/5..  Training Loss: 43.943..  Test Loss: 0.479..  Test Accuracy: 0.823\n",
      "Device: cuda..  Epoch: 1/5..  Training Loss: 44.381..  Test Loss: 0.483..  Test Accuracy: 0.828\n",
      "Device: cuda..  Epoch: 1/5..  Training Loss: 44.785..  Test Loss: 0.470..  Test Accuracy: 0.829\n",
      "Device: cuda..  Epoch: 1/5..  Training Loss: 45.208..  Test Loss: 0.436..  Test Accuracy: 0.840\n",
      "Device: cuda..  Epoch: 1/5..  Training Loss: 45.671..  Test Loss: 0.451..  Test Accuracy: 0.831\n"
     ]
    },
    {
     "name": "stdout",
     "output_type": "stream",
     "text": [
      "Device: cuda..  Epoch: 1/5..  Training Loss: 46.101..  Test Loss: 0.443..  Test Accuracy: 0.837\n",
      "Device: cuda..  Epoch: 1/5..  Training Loss: 46.499..  Test Loss: 0.459..  Test Accuracy: 0.828\n",
      "Device: cuda..  Epoch: 1/5..  Training Loss: 46.892..  Test Loss: 0.432..  Test Accuracy: 0.842\n",
      "Device: cuda..  Epoch: 1/5..  Training Loss: 47.291..  Test Loss: 0.444..  Test Accuracy: 0.835\n",
      "Device: cuda..  Epoch: 1/5..  Training Loss: 47.700..  Test Loss: 0.411..  Test Accuracy: 0.851\n",
      "Device: cuda..  Epoch: 1/5..  Training Loss: 48.076..  Test Loss: 0.447..  Test Accuracy: 0.836\n",
      "Device: cuda..  Epoch: 1/5..  Training Loss: 48.501..  Test Loss: 0.432..  Test Accuracy: 0.837\n",
      "Device: cuda..  Epoch: 1/5..  Training Loss: 48.906..  Test Loss: 0.425..  Test Accuracy: 0.846\n",
      "Device: cuda..  Epoch: 2/5..  Training Loss: 49.400..  Test Loss: 0.420..  Test Accuracy: 0.847\n",
      "Device: cuda..  Epoch: 2/5..  Training Loss: 49.788..  Test Loss: 0.430..  Test Accuracy: 0.844\n",
      "Device: cuda..  Epoch: 2/5..  Training Loss: 50.188..  Test Loss: 0.436..  Test Accuracy: 0.840\n",
      "Device: cuda..  Epoch: 2/5..  Training Loss: 50.590..  Test Loss: 0.464..  Test Accuracy: 0.830\n",
      "Device: cuda..  Epoch: 2/5..  Training Loss: 50.988..  Test Loss: 0.493..  Test Accuracy: 0.817\n",
      "Device: cuda..  Epoch: 2/5..  Training Loss: 51.408..  Test Loss: 0.447..  Test Accuracy: 0.836\n",
      "Device: cuda..  Epoch: 2/5..  Training Loss: 51.820..  Test Loss: 0.429..  Test Accuracy: 0.847\n",
      "Device: cuda..  Epoch: 2/5..  Training Loss: 52.207..  Test Loss: 0.527..  Test Accuracy: 0.809\n",
      "Device: cuda..  Epoch: 2/5..  Training Loss: 52.678..  Test Loss: 0.461..  Test Accuracy: 0.832\n",
      "Device: cuda..  Epoch: 2/5..  Training Loss: 53.091..  Test Loss: 0.421..  Test Accuracy: 0.848\n",
      "Device: cuda..  Epoch: 2/5..  Training Loss: 53.474..  Test Loss: 0.431..  Test Accuracy: 0.848\n",
      "Device: cuda..  Epoch: 2/5..  Training Loss: 53.879..  Test Loss: 0.417..  Test Accuracy: 0.847\n",
      "Device: cuda..  Epoch: 2/5..  Training Loss: 54.254..  Test Loss: 0.434..  Test Accuracy: 0.843\n",
      "Device: cuda..  Epoch: 2/5..  Training Loss: 54.681..  Test Loss: 0.432..  Test Accuracy: 0.843\n",
      "Device: cuda..  Epoch: 2/5..  Training Loss: 55.070..  Test Loss: 0.435..  Test Accuracy: 0.837\n",
      "Device: cuda..  Epoch: 2/5..  Training Loss: 55.434..  Test Loss: 0.444..  Test Accuracy: 0.842\n",
      "Device: cuda..  Epoch: 2/5..  Training Loss: 55.889..  Test Loss: 0.421..  Test Accuracy: 0.842\n",
      "Device: cuda..  Epoch: 2/5..  Training Loss: 56.276..  Test Loss: 0.424..  Test Accuracy: 0.842\n",
      "Device: cuda..  Epoch: 2/5..  Training Loss: 56.620..  Test Loss: 0.423..  Test Accuracy: 0.843\n",
      "Device: cuda..  Epoch: 2/5..  Training Loss: 56.975..  Test Loss: 0.416..  Test Accuracy: 0.851\n",
      "Device: cuda..  Epoch: 2/5..  Training Loss: 57.411..  Test Loss: 0.410..  Test Accuracy: 0.846\n",
      "Device: cuda..  Epoch: 2/5..  Training Loss: 57.741..  Test Loss: 0.414..  Test Accuracy: 0.849\n",
      "Device: cuda..  Epoch: 2/5..  Training Loss: 58.096..  Test Loss: 0.427..  Test Accuracy: 0.845\n",
      "Device: cuda..  Epoch: 2/5..  Training Loss: 58.481..  Test Loss: 0.423..  Test Accuracy: 0.845\n",
      "Device: cuda..  Epoch: 2/5..  Training Loss: 58.920..  Test Loss: 0.413..  Test Accuracy: 0.844\n",
      "Device: cuda..  Epoch: 2/5..  Training Loss: 59.280..  Test Loss: 0.409..  Test Accuracy: 0.852\n",
      "Device: cuda..  Epoch: 2/5..  Training Loss: 59.688..  Test Loss: 0.397..  Test Accuracy: 0.855\n",
      "Device: cuda..  Epoch: 2/5..  Training Loss: 60.082..  Test Loss: 0.428..  Test Accuracy: 0.848\n",
      "Device: cuda..  Epoch: 2/5..  Training Loss: 60.441..  Test Loss: 0.405..  Test Accuracy: 0.852\n",
      "Device: cuda..  Epoch: 2/5..  Training Loss: 60.764..  Test Loss: 0.420..  Test Accuracy: 0.841\n",
      "Device: cuda..  Epoch: 2/5..  Training Loss: 61.097..  Test Loss: 0.400..  Test Accuracy: 0.856\n",
      "Device: cuda..  Epoch: 2/5..  Training Loss: 61.441..  Test Loss: 0.410..  Test Accuracy: 0.853\n",
      "Device: cuda..  Epoch: 2/5..  Training Loss: 61.889..  Test Loss: 0.415..  Test Accuracy: 0.848\n",
      "Device: cuda..  Epoch: 2/5..  Training Loss: 62.247..  Test Loss: 0.413..  Test Accuracy: 0.850\n",
      "Device: cuda..  Epoch: 2/5..  Training Loss: 62.567..  Test Loss: 0.399..  Test Accuracy: 0.856\n",
      "Device: cuda..  Epoch: 2/5..  Training Loss: 62.866..  Test Loss: 0.429..  Test Accuracy: 0.846\n",
      "Device: cuda..  Epoch: 2/5..  Training Loss: 63.234..  Test Loss: 0.452..  Test Accuracy: 0.834\n",
      "Device: cuda..  Epoch: 2/5..  Training Loss: 63.631..  Test Loss: 0.418..  Test Accuracy: 0.846\n",
      "Device: cuda..  Epoch: 2/5..  Training Loss: 64.015..  Test Loss: 0.421..  Test Accuracy: 0.845\n",
      "Device: cuda..  Epoch: 2/5..  Training Loss: 64.343..  Test Loss: 0.405..  Test Accuracy: 0.854\n",
      "Device: cuda..  Epoch: 2/5..  Training Loss: 64.677..  Test Loss: 0.409..  Test Accuracy: 0.852\n",
      "Device: cuda..  Epoch: 2/5..  Training Loss: 64.991..  Test Loss: 0.421..  Test Accuracy: 0.851\n",
      "Device: cuda..  Epoch: 2/5..  Training Loss: 65.403..  Test Loss: 0.433..  Test Accuracy: 0.843\n",
      "Device: cuda..  Epoch: 2/5..  Training Loss: 65.711..  Test Loss: 0.424..  Test Accuracy: 0.849\n",
      "Device: cuda..  Epoch: 2/5..  Training Loss: 66.036..  Test Loss: 0.426..  Test Accuracy: 0.839\n",
      "Device: cuda..  Epoch: 2/5..  Training Loss: 66.452..  Test Loss: 0.401..  Test Accuracy: 0.853\n",
      "Device: cuda..  Epoch: 2/5..  Training Loss: 66.769..  Test Loss: 0.392..  Test Accuracy: 0.859\n",
      "Device: cuda..  Epoch: 2/5..  Training Loss: 67.104..  Test Loss: 0.419..  Test Accuracy: 0.848\n",
      "Device: cuda..  Epoch: 2/5..  Training Loss: 67.471..  Test Loss: 0.445..  Test Accuracy: 0.842\n",
      "Device: cuda..  Epoch: 2/5..  Training Loss: 67.883..  Test Loss: 0.426..  Test Accuracy: 0.842\n",
      "Device: cuda..  Epoch: 2/5..  Training Loss: 68.269..  Test Loss: 0.408..  Test Accuracy: 0.853\n",
      "Device: cuda..  Epoch: 2/5..  Training Loss: 68.631..  Test Loss: 0.391..  Test Accuracy: 0.859\n",
      "Device: cuda..  Epoch: 2/5..  Training Loss: 69.007..  Test Loss: 0.405..  Test Accuracy: 0.851\n",
      "Device: cuda..  Epoch: 2/5..  Training Loss: 69.377..  Test Loss: 0.425..  Test Accuracy: 0.844\n",
      "Device: cuda..  Epoch: 2/5..  Training Loss: 69.700..  Test Loss: 0.396..  Test Accuracy: 0.858\n",
      "Device: cuda..  Epoch: 2/5..  Training Loss: 70.049..  Test Loss: 0.398..  Test Accuracy: 0.857\n",
      "Device: cuda..  Epoch: 2/5..  Training Loss: 70.434..  Test Loss: 0.402..  Test Accuracy: 0.855\n",
      "Device: cuda..  Epoch: 2/5..  Training Loss: 70.790..  Test Loss: 0.418..  Test Accuracy: 0.846\n",
      "Device: cuda..  Epoch: 2/5..  Training Loss: 71.132..  Test Loss: 0.422..  Test Accuracy: 0.844\n",
      "Device: cuda..  Epoch: 2/5..  Training Loss: 71.463..  Test Loss: 0.398..  Test Accuracy: 0.853\n",
      "Device: cuda..  Epoch: 2/5..  Training Loss: 71.847..  Test Loss: 0.400..  Test Accuracy: 0.856\n",
      "Device: cuda..  Epoch: 2/5..  Training Loss: 72.253..  Test Loss: 0.410..  Test Accuracy: 0.851\n",
      "Device: cuda..  Epoch: 2/5..  Training Loss: 72.605..  Test Loss: 0.431..  Test Accuracy: 0.844\n",
      "Device: cuda..  Epoch: 2/5..  Training Loss: 72.995..  Test Loss: 0.417..  Test Accuracy: 0.844\n",
      "Device: cuda..  Epoch: 2/5..  Training Loss: 73.418..  Test Loss: 0.394..  Test Accuracy: 0.855\n",
      "Device: cuda..  Epoch: 2/5..  Training Loss: 73.783..  Test Loss: 0.421..  Test Accuracy: 0.846\n",
      "Device: cuda..  Epoch: 2/5..  Training Loss: 74.155..  Test Loss: 0.416..  Test Accuracy: 0.846\n",
      "Device: cuda..  Epoch: 2/5..  Training Loss: 74.542..  Test Loss: 0.419..  Test Accuracy: 0.848\n",
      "Device: cuda..  Epoch: 2/5..  Training Loss: 74.918..  Test Loss: 0.412..  Test Accuracy: 0.854\n",
      "Device: cuda..  Epoch: 2/5..  Training Loss: 75.274..  Test Loss: 0.401..  Test Accuracy: 0.852\n",
      "Device: cuda..  Epoch: 2/5..  Training Loss: 75.660..  Test Loss: 0.408..  Test Accuracy: 0.847\n",
      "Device: cuda..  Epoch: 2/5..  Training Loss: 76.009..  Test Loss: 0.391..  Test Accuracy: 0.860\n",
      "Device: cuda..  Epoch: 2/5..  Training Loss: 76.356..  Test Loss: 0.396..  Test Accuracy: 0.859\n",
      "Device: cuda..  Epoch: 2/5..  Training Loss: 76.697..  Test Loss: 0.387..  Test Accuracy: 0.855\n",
      "Device: cuda..  Epoch: 2/5..  Training Loss: 77.069..  Test Loss: 0.406..  Test Accuracy: 0.854\n",
      "Device: cuda..  Epoch: 2/5..  Training Loss: 77.413..  Test Loss: 0.405..  Test Accuracy: 0.853\n",
      "Device: cuda..  Epoch: 2/5..  Training Loss: 77.790..  Test Loss: 0.398..  Test Accuracy: 0.853\n"
     ]
    },
    {
     "name": "stdout",
     "output_type": "stream",
     "text": [
      "Device: cuda..  Epoch: 2/5..  Training Loss: 78.180..  Test Loss: 0.402..  Test Accuracy: 0.851\n",
      "Device: cuda..  Epoch: 2/5..  Training Loss: 78.600..  Test Loss: 0.399..  Test Accuracy: 0.854\n",
      "Device: cuda..  Epoch: 2/5..  Training Loss: 78.981..  Test Loss: 0.402..  Test Accuracy: 0.855\n",
      "Device: cuda..  Epoch: 2/5..  Training Loss: 79.355..  Test Loss: 0.399..  Test Accuracy: 0.851\n",
      "Device: cuda..  Epoch: 2/5..  Training Loss: 79.722..  Test Loss: 0.443..  Test Accuracy: 0.840\n",
      "Device: cuda..  Epoch: 2/5..  Training Loss: 80.124..  Test Loss: 0.407..  Test Accuracy: 0.849\n",
      "Device: cuda..  Epoch: 2/5..  Training Loss: 80.475..  Test Loss: 0.390..  Test Accuracy: 0.859\n",
      "Device: cuda..  Epoch: 2/5..  Training Loss: 80.817..  Test Loss: 0.412..  Test Accuracy: 0.844\n",
      "Device: cuda..  Epoch: 2/5..  Training Loss: 81.187..  Test Loss: 0.389..  Test Accuracy: 0.859\n",
      "Device: cuda..  Epoch: 2/5..  Training Loss: 81.529..  Test Loss: 0.386..  Test Accuracy: 0.860\n",
      "Device: cuda..  Epoch: 2/5..  Training Loss: 81.862..  Test Loss: 0.397..  Test Accuracy: 0.853\n",
      "Device: cuda..  Epoch: 2/5..  Training Loss: 82.188..  Test Loss: 0.393..  Test Accuracy: 0.855\n",
      "Device: cuda..  Epoch: 2/5..  Training Loss: 82.566..  Test Loss: 0.394..  Test Accuracy: 0.856\n",
      "Device: cuda..  Epoch: 2/5..  Training Loss: 82.942..  Test Loss: 0.407..  Test Accuracy: 0.854\n",
      "Device: cuda..  Epoch: 2/5..  Training Loss: 83.325..  Test Loss: 0.403..  Test Accuracy: 0.857\n",
      "Device: cuda..  Epoch: 2/5..  Training Loss: 83.700..  Test Loss: 0.386..  Test Accuracy: 0.859\n",
      "Device: cuda..  Epoch: 2/5..  Training Loss: 84.070..  Test Loss: 0.406..  Test Accuracy: 0.855\n",
      "Device: cuda..  Epoch: 3/5..  Training Loss: 84.559..  Test Loss: 0.391..  Test Accuracy: 0.854\n",
      "Device: cuda..  Epoch: 3/5..  Training Loss: 84.926..  Test Loss: 0.392..  Test Accuracy: 0.860\n",
      "Device: cuda..  Epoch: 3/5..  Training Loss: 85.235..  Test Loss: 0.401..  Test Accuracy: 0.857\n",
      "Device: cuda..  Epoch: 3/5..  Training Loss: 85.541..  Test Loss: 0.392..  Test Accuracy: 0.860\n",
      "Device: cuda..  Epoch: 3/5..  Training Loss: 85.836..  Test Loss: 0.397..  Test Accuracy: 0.854\n",
      "Device: cuda..  Epoch: 3/5..  Training Loss: 86.138..  Test Loss: 0.422..  Test Accuracy: 0.852\n",
      "Device: cuda..  Epoch: 3/5..  Training Loss: 86.451..  Test Loss: 0.429..  Test Accuracy: 0.846\n",
      "Device: cuda..  Epoch: 3/5..  Training Loss: 86.844..  Test Loss: 0.472..  Test Accuracy: 0.837\n",
      "Device: cuda..  Epoch: 3/5..  Training Loss: 87.291..  Test Loss: 0.438..  Test Accuracy: 0.836\n",
      "Device: cuda..  Epoch: 3/5..  Training Loss: 87.638..  Test Loss: 0.393..  Test Accuracy: 0.859\n",
      "Device: cuda..  Epoch: 3/5..  Training Loss: 87.956..  Test Loss: 0.399..  Test Accuracy: 0.857\n",
      "Device: cuda..  Epoch: 3/5..  Training Loss: 88.296..  Test Loss: 0.389..  Test Accuracy: 0.860\n",
      "Device: cuda..  Epoch: 3/5..  Training Loss: 88.613..  Test Loss: 0.378..  Test Accuracy: 0.863\n",
      "Device: cuda..  Epoch: 3/5..  Training Loss: 88.958..  Test Loss: 0.389..  Test Accuracy: 0.857\n",
      "Device: cuda..  Epoch: 3/5..  Training Loss: 89.304..  Test Loss: 0.378..  Test Accuracy: 0.859\n",
      "Device: cuda..  Epoch: 3/5..  Training Loss: 89.601..  Test Loss: 0.387..  Test Accuracy: 0.861\n",
      "Device: cuda..  Epoch: 3/5..  Training Loss: 89.929..  Test Loss: 0.368..  Test Accuracy: 0.866\n",
      "Device: cuda..  Epoch: 3/5..  Training Loss: 90.269..  Test Loss: 0.408..  Test Accuracy: 0.853\n",
      "Device: cuda..  Epoch: 3/5..  Training Loss: 90.625..  Test Loss: 0.418..  Test Accuracy: 0.852\n",
      "Device: cuda..  Epoch: 3/5..  Training Loss: 91.005..  Test Loss: 0.388..  Test Accuracy: 0.860\n",
      "Device: cuda..  Epoch: 3/5..  Training Loss: 91.332..  Test Loss: 0.387..  Test Accuracy: 0.860\n",
      "Device: cuda..  Epoch: 3/5..  Training Loss: 91.655..  Test Loss: 0.403..  Test Accuracy: 0.850\n",
      "Device: cuda..  Epoch: 3/5..  Training Loss: 92.042..  Test Loss: 0.395..  Test Accuracy: 0.856\n",
      "Device: cuda..  Epoch: 3/5..  Training Loss: 92.386..  Test Loss: 0.399..  Test Accuracy: 0.854\n",
      "Device: cuda..  Epoch: 3/5..  Training Loss: 92.732..  Test Loss: 0.406..  Test Accuracy: 0.854\n",
      "Device: cuda..  Epoch: 3/5..  Training Loss: 93.083..  Test Loss: 0.380..  Test Accuracy: 0.861\n",
      "Device: cuda..  Epoch: 3/5..  Training Loss: 93.389..  Test Loss: 0.393..  Test Accuracy: 0.860\n",
      "Device: cuda..  Epoch: 3/5..  Training Loss: 93.680..  Test Loss: 0.413..  Test Accuracy: 0.854\n",
      "Device: cuda..  Epoch: 3/5..  Training Loss: 93.996..  Test Loss: 0.387..  Test Accuracy: 0.861\n",
      "Device: cuda..  Epoch: 3/5..  Training Loss: 94.323..  Test Loss: 0.412..  Test Accuracy: 0.851\n",
      "Device: cuda..  Epoch: 3/5..  Training Loss: 94.690..  Test Loss: 0.441..  Test Accuracy: 0.842\n",
      "Device: cuda..  Epoch: 3/5..  Training Loss: 95.113..  Test Loss: 0.414..  Test Accuracy: 0.846\n",
      "Device: cuda..  Epoch: 3/5..  Training Loss: 95.457..  Test Loss: 0.381..  Test Accuracy: 0.867\n",
      "Device: cuda..  Epoch: 3/5..  Training Loss: 95.795..  Test Loss: 0.411..  Test Accuracy: 0.850\n",
      "Device: cuda..  Epoch: 3/5..  Training Loss: 96.177..  Test Loss: 0.412..  Test Accuracy: 0.850\n",
      "Device: cuda..  Epoch: 3/5..  Training Loss: 96.529..  Test Loss: 0.378..  Test Accuracy: 0.861\n",
      "Device: cuda..  Epoch: 3/5..  Training Loss: 96.898..  Test Loss: 0.377..  Test Accuracy: 0.861\n",
      "Device: cuda..  Epoch: 3/5..  Training Loss: 97.230..  Test Loss: 0.383..  Test Accuracy: 0.860\n",
      "Device: cuda..  Epoch: 3/5..  Training Loss: 97.554..  Test Loss: 0.386..  Test Accuracy: 0.862\n",
      "Device: cuda..  Epoch: 3/5..  Training Loss: 97.921..  Test Loss: 0.391..  Test Accuracy: 0.861\n",
      "Device: cuda..  Epoch: 3/5..  Training Loss: 98.234..  Test Loss: 0.383..  Test Accuracy: 0.864\n",
      "Device: cuda..  Epoch: 3/5..  Training Loss: 98.617..  Test Loss: 0.385..  Test Accuracy: 0.862\n",
      "Device: cuda..  Epoch: 3/5..  Training Loss: 98.959..  Test Loss: 0.396..  Test Accuracy: 0.856\n",
      "Device: cuda..  Epoch: 3/5..  Training Loss: 99.271..  Test Loss: 0.388..  Test Accuracy: 0.861\n",
      "Device: cuda..  Epoch: 3/5..  Training Loss: 99.587..  Test Loss: 0.384..  Test Accuracy: 0.862\n",
      "Device: cuda..  Epoch: 3/5..  Training Loss: 99.904..  Test Loss: 0.376..  Test Accuracy: 0.865\n",
      "Device: cuda..  Epoch: 3/5..  Training Loss: 100.197..  Test Loss: 0.361..  Test Accuracy: 0.869\n",
      "Device: cuda..  Epoch: 3/5..  Training Loss: 100.525..  Test Loss: 0.405..  Test Accuracy: 0.854\n",
      "Device: cuda..  Epoch: 3/5..  Training Loss: 100.899..  Test Loss: 0.407..  Test Accuracy: 0.847\n",
      "Device: cuda..  Epoch: 3/5..  Training Loss: 101.224..  Test Loss: 0.388..  Test Accuracy: 0.862\n",
      "Device: cuda..  Epoch: 3/5..  Training Loss: 101.563..  Test Loss: 0.386..  Test Accuracy: 0.864\n",
      "Device: cuda..  Epoch: 3/5..  Training Loss: 101.882..  Test Loss: 0.376..  Test Accuracy: 0.865\n",
      "Device: cuda..  Epoch: 3/5..  Training Loss: 102.268..  Test Loss: 0.367..  Test Accuracy: 0.868\n",
      "Device: cuda..  Epoch: 3/5..  Training Loss: 102.571..  Test Loss: 0.386..  Test Accuracy: 0.858\n",
      "Device: cuda..  Epoch: 3/5..  Training Loss: 102.967..  Test Loss: 0.380..  Test Accuracy: 0.866\n",
      "Device: cuda..  Epoch: 3/5..  Training Loss: 103.271..  Test Loss: 0.373..  Test Accuracy: 0.864\n",
      "Device: cuda..  Epoch: 3/5..  Training Loss: 103.563..  Test Loss: 0.392..  Test Accuracy: 0.860\n",
      "Device: cuda..  Epoch: 3/5..  Training Loss: 103.876..  Test Loss: 0.384..  Test Accuracy: 0.865\n",
      "Device: cuda..  Epoch: 3/5..  Training Loss: 104.190..  Test Loss: 0.372..  Test Accuracy: 0.865\n",
      "Device: cuda..  Epoch: 3/5..  Training Loss: 104.531..  Test Loss: 0.369..  Test Accuracy: 0.865\n",
      "Device: cuda..  Epoch: 3/5..  Training Loss: 104.855..  Test Loss: 0.402..  Test Accuracy: 0.860\n",
      "Device: cuda..  Epoch: 3/5..  Training Loss: 105.182..  Test Loss: 0.418..  Test Accuracy: 0.850\n",
      "Device: cuda..  Epoch: 3/5..  Training Loss: 105.537..  Test Loss: 0.383..  Test Accuracy: 0.862\n",
      "Device: cuda..  Epoch: 3/5..  Training Loss: 105.864..  Test Loss: 0.427..  Test Accuracy: 0.851\n",
      "Device: cuda..  Epoch: 3/5..  Training Loss: 106.200..  Test Loss: 0.414..  Test Accuracy: 0.848\n",
      "Device: cuda..  Epoch: 3/5..  Training Loss: 106.559..  Test Loss: 0.398..  Test Accuracy: 0.861\n",
      "Device: cuda..  Epoch: 3/5..  Training Loss: 106.923..  Test Loss: 0.377..  Test Accuracy: 0.861\n",
      "Device: cuda..  Epoch: 3/5..  Training Loss: 107.249..  Test Loss: 0.383..  Test Accuracy: 0.858\n"
     ]
    },
    {
     "name": "stdout",
     "output_type": "stream",
     "text": [
      "Device: cuda..  Epoch: 3/5..  Training Loss: 107.585..  Test Loss: 0.376..  Test Accuracy: 0.861\n",
      "Device: cuda..  Epoch: 3/5..  Training Loss: 107.930..  Test Loss: 0.379..  Test Accuracy: 0.861\n",
      "Device: cuda..  Epoch: 3/5..  Training Loss: 108.269..  Test Loss: 0.371..  Test Accuracy: 0.865\n",
      "Device: cuda..  Epoch: 3/5..  Training Loss: 108.603..  Test Loss: 0.376..  Test Accuracy: 0.866\n",
      "Device: cuda..  Epoch: 3/5..  Training Loss: 108.919..  Test Loss: 0.376..  Test Accuracy: 0.868\n",
      "Device: cuda..  Epoch: 3/5..  Training Loss: 109.272..  Test Loss: 0.411..  Test Accuracy: 0.849\n",
      "Device: cuda..  Epoch: 3/5..  Training Loss: 109.577..  Test Loss: 0.383..  Test Accuracy: 0.865\n",
      "Device: cuda..  Epoch: 3/5..  Training Loss: 109.912..  Test Loss: 0.378..  Test Accuracy: 0.863\n",
      "Device: cuda..  Epoch: 3/5..  Training Loss: 110.248..  Test Loss: 0.371..  Test Accuracy: 0.864\n",
      "Device: cuda..  Epoch: 3/5..  Training Loss: 110.581..  Test Loss: 0.435..  Test Accuracy: 0.848\n",
      "Device: cuda..  Epoch: 3/5..  Training Loss: 110.960..  Test Loss: 0.415..  Test Accuracy: 0.846\n",
      "Device: cuda..  Epoch: 3/5..  Training Loss: 111.319..  Test Loss: 0.379..  Test Accuracy: 0.861\n",
      "Device: cuda..  Epoch: 3/5..  Training Loss: 111.642..  Test Loss: 0.365..  Test Accuracy: 0.864\n",
      "Device: cuda..  Epoch: 3/5..  Training Loss: 111.941..  Test Loss: 0.353..  Test Accuracy: 0.872\n",
      "Device: cuda..  Epoch: 3/5..  Training Loss: 112.312..  Test Loss: 0.365..  Test Accuracy: 0.867\n",
      "Device: cuda..  Epoch: 3/5..  Training Loss: 112.682..  Test Loss: 0.391..  Test Accuracy: 0.856\n",
      "Device: cuda..  Epoch: 3/5..  Training Loss: 112.977..  Test Loss: 0.362..  Test Accuracy: 0.868\n",
      "Device: cuda..  Epoch: 3/5..  Training Loss: 113.270..  Test Loss: 0.368..  Test Accuracy: 0.867\n",
      "Device: cuda..  Epoch: 3/5..  Training Loss: 113.586..  Test Loss: 0.373..  Test Accuracy: 0.867\n",
      "Device: cuda..  Epoch: 3/5..  Training Loss: 113.945..  Test Loss: 0.373..  Test Accuracy: 0.868\n",
      "Device: cuda..  Epoch: 3/5..  Training Loss: 114.231..  Test Loss: 0.377..  Test Accuracy: 0.867\n",
      "Device: cuda..  Epoch: 3/5..  Training Loss: 114.549..  Test Loss: 0.381..  Test Accuracy: 0.863\n",
      "Device: cuda..  Epoch: 3/5..  Training Loss: 114.880..  Test Loss: 0.394..  Test Accuracy: 0.862\n",
      "Device: cuda..  Epoch: 3/5..  Training Loss: 115.192..  Test Loss: 0.374..  Test Accuracy: 0.863\n",
      "Device: cuda..  Epoch: 3/5..  Training Loss: 115.522..  Test Loss: 0.384..  Test Accuracy: 0.867\n",
      "Device: cuda..  Epoch: 3/5..  Training Loss: 115.837..  Test Loss: 0.400..  Test Accuracy: 0.860\n",
      "Device: cuda..  Epoch: 4/5..  Training Loss: 116.332..  Test Loss: 0.413..  Test Accuracy: 0.856\n",
      "Device: cuda..  Epoch: 4/5..  Training Loss: 116.697..  Test Loss: 0.371..  Test Accuracy: 0.865\n",
      "Device: cuda..  Epoch: 4/5..  Training Loss: 117.011..  Test Loss: 0.396..  Test Accuracy: 0.859\n",
      "Device: cuda..  Epoch: 4/5..  Training Loss: 117.325..  Test Loss: 0.370..  Test Accuracy: 0.864\n",
      "Device: cuda..  Epoch: 4/5..  Training Loss: 117.656..  Test Loss: 0.368..  Test Accuracy: 0.868\n",
      "Device: cuda..  Epoch: 4/5..  Training Loss: 117.993..  Test Loss: 0.388..  Test Accuracy: 0.861\n",
      "Device: cuda..  Epoch: 4/5..  Training Loss: 118.393..  Test Loss: 0.382..  Test Accuracy: 0.863\n",
      "Device: cuda..  Epoch: 4/5..  Training Loss: 118.730..  Test Loss: 0.373..  Test Accuracy: 0.864\n",
      "Device: cuda..  Epoch: 4/5..  Training Loss: 119.060..  Test Loss: 0.358..  Test Accuracy: 0.870\n",
      "Device: cuda..  Epoch: 4/5..  Training Loss: 119.343..  Test Loss: 0.362..  Test Accuracy: 0.871\n",
      "Device: cuda..  Epoch: 4/5..  Training Loss: 119.637..  Test Loss: 0.378..  Test Accuracy: 0.864\n",
      "Device: cuda..  Epoch: 4/5..  Training Loss: 119.953..  Test Loss: 0.368..  Test Accuracy: 0.870\n",
      "Device: cuda..  Epoch: 4/5..  Training Loss: 120.277..  Test Loss: 0.374..  Test Accuracy: 0.867\n",
      "Device: cuda..  Epoch: 4/5..  Training Loss: 120.593..  Test Loss: 0.370..  Test Accuracy: 0.864\n",
      "Device: cuda..  Epoch: 4/5..  Training Loss: 120.933..  Test Loss: 0.391..  Test Accuracy: 0.859\n",
      "Device: cuda..  Epoch: 4/5..  Training Loss: 121.228..  Test Loss: 0.372..  Test Accuracy: 0.866\n",
      "Device: cuda..  Epoch: 4/5..  Training Loss: 121.564..  Test Loss: 0.376..  Test Accuracy: 0.864\n",
      "Device: cuda..  Epoch: 4/5..  Training Loss: 121.892..  Test Loss: 0.377..  Test Accuracy: 0.860\n",
      "Device: cuda..  Epoch: 4/5..  Training Loss: 122.204..  Test Loss: 0.363..  Test Accuracy: 0.869\n",
      "Device: cuda..  Epoch: 4/5..  Training Loss: 122.490..  Test Loss: 0.368..  Test Accuracy: 0.868\n",
      "Device: cuda..  Epoch: 4/5..  Training Loss: 122.805..  Test Loss: 0.362..  Test Accuracy: 0.869\n",
      "Device: cuda..  Epoch: 4/5..  Training Loss: 123.078..  Test Loss: 0.372..  Test Accuracy: 0.869\n",
      "Device: cuda..  Epoch: 4/5..  Training Loss: 123.416..  Test Loss: 0.352..  Test Accuracy: 0.871\n",
      "Device: cuda..  Epoch: 4/5..  Training Loss: 123.747..  Test Loss: 0.382..  Test Accuracy: 0.861\n",
      "Device: cuda..  Epoch: 4/5..  Training Loss: 124.059..  Test Loss: 0.398..  Test Accuracy: 0.854\n",
      "Device: cuda..  Epoch: 4/5..  Training Loss: 124.360..  Test Loss: 0.386..  Test Accuracy: 0.860\n",
      "Device: cuda..  Epoch: 4/5..  Training Loss: 124.678..  Test Loss: 0.388..  Test Accuracy: 0.866\n",
      "Device: cuda..  Epoch: 4/5..  Training Loss: 124.942..  Test Loss: 0.372..  Test Accuracy: 0.868\n",
      "Device: cuda..  Epoch: 4/5..  Training Loss: 125.253..  Test Loss: 0.391..  Test Accuracy: 0.852\n",
      "Device: cuda..  Epoch: 4/5..  Training Loss: 125.552..  Test Loss: 0.377..  Test Accuracy: 0.867\n",
      "Device: cuda..  Epoch: 4/5..  Training Loss: 125.844..  Test Loss: 0.368..  Test Accuracy: 0.869\n",
      "Device: cuda..  Epoch: 4/5..  Training Loss: 126.131..  Test Loss: 0.411..  Test Accuracy: 0.848\n",
      "Device: cuda..  Epoch: 4/5..  Training Loss: 126.435..  Test Loss: 0.354..  Test Accuracy: 0.872\n",
      "Device: cuda..  Epoch: 4/5..  Training Loss: 126.750..  Test Loss: 0.358..  Test Accuracy: 0.871\n",
      "Device: cuda..  Epoch: 4/5..  Training Loss: 127.037..  Test Loss: 0.359..  Test Accuracy: 0.869\n",
      "Device: cuda..  Epoch: 4/5..  Training Loss: 127.310..  Test Loss: 0.370..  Test Accuracy: 0.867\n",
      "Device: cuda..  Epoch: 4/5..  Training Loss: 127.632..  Test Loss: 0.353..  Test Accuracy: 0.872\n",
      "Device: cuda..  Epoch: 4/5..  Training Loss: 127.901..  Test Loss: 0.359..  Test Accuracy: 0.869\n",
      "Device: cuda..  Epoch: 4/5..  Training Loss: 128.168..  Test Loss: 0.383..  Test Accuracy: 0.857\n",
      "Device: cuda..  Epoch: 4/5..  Training Loss: 128.448..  Test Loss: 0.393..  Test Accuracy: 0.863\n",
      "Device: cuda..  Epoch: 4/5..  Training Loss: 128.725..  Test Loss: 0.378..  Test Accuracy: 0.866\n",
      "Device: cuda..  Epoch: 4/5..  Training Loss: 128.998..  Test Loss: 0.376..  Test Accuracy: 0.864\n",
      "Device: cuda..  Epoch: 4/5..  Training Loss: 129.355..  Test Loss: 0.375..  Test Accuracy: 0.864\n",
      "Device: cuda..  Epoch: 4/5..  Training Loss: 129.654..  Test Loss: 0.368..  Test Accuracy: 0.868\n",
      "Device: cuda..  Epoch: 4/5..  Training Loss: 129.956..  Test Loss: 0.372..  Test Accuracy: 0.868\n",
      "Device: cuda..  Epoch: 4/5..  Training Loss: 130.260..  Test Loss: 0.393..  Test Accuracy: 0.862\n",
      "Device: cuda..  Epoch: 4/5..  Training Loss: 130.585..  Test Loss: 0.386..  Test Accuracy: 0.861\n",
      "Device: cuda..  Epoch: 4/5..  Training Loss: 130.897..  Test Loss: 0.375..  Test Accuracy: 0.863\n",
      "Device: cuda..  Epoch: 4/5..  Training Loss: 131.178..  Test Loss: 0.362..  Test Accuracy: 0.868\n",
      "Device: cuda..  Epoch: 4/5..  Training Loss: 131.461..  Test Loss: 0.351..  Test Accuracy: 0.873\n",
      "Device: cuda..  Epoch: 4/5..  Training Loss: 131.751..  Test Loss: 0.355..  Test Accuracy: 0.872\n",
      "Device: cuda..  Epoch: 4/5..  Training Loss: 132.066..  Test Loss: 0.364..  Test Accuracy: 0.870\n",
      "Device: cuda..  Epoch: 4/5..  Training Loss: 132.346..  Test Loss: 0.371..  Test Accuracy: 0.863\n",
      "Device: cuda..  Epoch: 4/5..  Training Loss: 132.629..  Test Loss: 0.356..  Test Accuracy: 0.870\n",
      "Device: cuda..  Epoch: 4/5..  Training Loss: 132.995..  Test Loss: 0.404..  Test Accuracy: 0.855\n",
      "Device: cuda..  Epoch: 4/5..  Training Loss: 133.348..  Test Loss: 0.395..  Test Accuracy: 0.858\n",
      "Device: cuda..  Epoch: 4/5..  Training Loss: 133.693..  Test Loss: 0.412..  Test Accuracy: 0.858\n",
      "Device: cuda..  Epoch: 4/5..  Training Loss: 134.028..  Test Loss: 0.395..  Test Accuracy: 0.852\n"
     ]
    },
    {
     "name": "stdout",
     "output_type": "stream",
     "text": [
      "Device: cuda..  Epoch: 4/5..  Training Loss: 134.314..  Test Loss: 0.404..  Test Accuracy: 0.853\n",
      "Device: cuda..  Epoch: 4/5..  Training Loss: 134.658..  Test Loss: 0.396..  Test Accuracy: 0.858\n",
      "Device: cuda..  Epoch: 4/5..  Training Loss: 134.930..  Test Loss: 0.370..  Test Accuracy: 0.865\n",
      "Device: cuda..  Epoch: 4/5..  Training Loss: 135.233..  Test Loss: 0.357..  Test Accuracy: 0.870\n",
      "Device: cuda..  Epoch: 4/5..  Training Loss: 135.558..  Test Loss: 0.356..  Test Accuracy: 0.870\n",
      "Device: cuda..  Epoch: 4/5..  Training Loss: 135.908..  Test Loss: 0.369..  Test Accuracy: 0.864\n",
      "Device: cuda..  Epoch: 4/5..  Training Loss: 136.242..  Test Loss: 0.390..  Test Accuracy: 0.855\n",
      "Device: cuda..  Epoch: 4/5..  Training Loss: 136.538..  Test Loss: 0.371..  Test Accuracy: 0.863\n",
      "Device: cuda..  Epoch: 4/5..  Training Loss: 136.858..  Test Loss: 0.386..  Test Accuracy: 0.862\n",
      "Device: cuda..  Epoch: 4/5..  Training Loss: 137.146..  Test Loss: 0.413..  Test Accuracy: 0.856\n",
      "Device: cuda..  Epoch: 4/5..  Training Loss: 137.504..  Test Loss: 0.365..  Test Accuracy: 0.868\n",
      "Device: cuda..  Epoch: 4/5..  Training Loss: 137.813..  Test Loss: 0.376..  Test Accuracy: 0.860\n",
      "Device: cuda..  Epoch: 4/5..  Training Loss: 138.148..  Test Loss: 0.382..  Test Accuracy: 0.861\n",
      "Device: cuda..  Epoch: 4/5..  Training Loss: 138.479..  Test Loss: 0.365..  Test Accuracy: 0.866\n",
      "Device: cuda..  Epoch: 4/5..  Training Loss: 138.805..  Test Loss: 0.357..  Test Accuracy: 0.871\n",
      "Device: cuda..  Epoch: 4/5..  Training Loss: 139.106..  Test Loss: 0.363..  Test Accuracy: 0.868\n",
      "Device: cuda..  Epoch: 4/5..  Training Loss: 139.426..  Test Loss: 0.404..  Test Accuracy: 0.856\n",
      "Device: cuda..  Epoch: 4/5..  Training Loss: 139.730..  Test Loss: 0.364..  Test Accuracy: 0.870\n",
      "Device: cuda..  Epoch: 4/5..  Training Loss: 140.012..  Test Loss: 0.375..  Test Accuracy: 0.866\n",
      "Device: cuda..  Epoch: 4/5..  Training Loss: 140.328..  Test Loss: 0.362..  Test Accuracy: 0.871\n",
      "Device: cuda..  Epoch: 4/5..  Training Loss: 140.581..  Test Loss: 0.369..  Test Accuracy: 0.864\n",
      "Device: cuda..  Epoch: 4/5..  Training Loss: 140.903..  Test Loss: 0.353..  Test Accuracy: 0.873\n",
      "Device: cuda..  Epoch: 4/5..  Training Loss: 141.208..  Test Loss: 0.367..  Test Accuracy: 0.868\n",
      "Device: cuda..  Epoch: 4/5..  Training Loss: 141.513..  Test Loss: 0.386..  Test Accuracy: 0.863\n",
      "Device: cuda..  Epoch: 4/5..  Training Loss: 141.798..  Test Loss: 0.375..  Test Accuracy: 0.863\n",
      "Device: cuda..  Epoch: 4/5..  Training Loss: 142.124..  Test Loss: 0.371..  Test Accuracy: 0.864\n",
      "Device: cuda..  Epoch: 4/5..  Training Loss: 142.397..  Test Loss: 0.359..  Test Accuracy: 0.873\n",
      "Device: cuda..  Epoch: 4/5..  Training Loss: 142.712..  Test Loss: 0.387..  Test Accuracy: 0.861\n",
      "Device: cuda..  Epoch: 4/5..  Training Loss: 142.982..  Test Loss: 0.379..  Test Accuracy: 0.861\n",
      "Device: cuda..  Epoch: 4/5..  Training Loss: 143.295..  Test Loss: 0.376..  Test Accuracy: 0.867\n",
      "Device: cuda..  Epoch: 4/5..  Training Loss: 143.570..  Test Loss: 0.369..  Test Accuracy: 0.867\n",
      "Device: cuda..  Epoch: 4/5..  Training Loss: 143.873..  Test Loss: 0.381..  Test Accuracy: 0.863\n",
      "Device: cuda..  Epoch: 4/5..  Training Loss: 144.169..  Test Loss: 0.370..  Test Accuracy: 0.868\n",
      "Device: cuda..  Epoch: 4/5..  Training Loss: 144.464..  Test Loss: 0.371..  Test Accuracy: 0.868\n",
      "Device: cuda..  Epoch: 4/5..  Training Loss: 144.789..  Test Loss: 0.375..  Test Accuracy: 0.865\n",
      "Device: cuda..  Epoch: 4/5..  Training Loss: 145.157..  Test Loss: 0.367..  Test Accuracy: 0.870\n",
      "Device: cuda..  Epoch: 5/5..  Training Loss: 145.639..  Test Loss: 0.397..  Test Accuracy: 0.859\n",
      "Device: cuda..  Epoch: 5/5..  Training Loss: 145.958..  Test Loss: 0.397..  Test Accuracy: 0.859\n",
      "Device: cuda..  Epoch: 5/5..  Training Loss: 146.264..  Test Loss: 0.381..  Test Accuracy: 0.863\n",
      "Device: cuda..  Epoch: 5/5..  Training Loss: 146.582..  Test Loss: 0.369..  Test Accuracy: 0.864\n",
      "Device: cuda..  Epoch: 5/5..  Training Loss: 146.878..  Test Loss: 0.366..  Test Accuracy: 0.863\n",
      "Device: cuda..  Epoch: 5/5..  Training Loss: 147.185..  Test Loss: 0.356..  Test Accuracy: 0.869\n",
      "Device: cuda..  Epoch: 5/5..  Training Loss: 147.430..  Test Loss: 0.373..  Test Accuracy: 0.863\n",
      "Device: cuda..  Epoch: 5/5..  Training Loss: 147.687..  Test Loss: 0.375..  Test Accuracy: 0.868\n",
      "Device: cuda..  Epoch: 5/5..  Training Loss: 147.990..  Test Loss: 0.380..  Test Accuracy: 0.867\n",
      "Device: cuda..  Epoch: 5/5..  Training Loss: 148.268..  Test Loss: 0.391..  Test Accuracy: 0.862\n",
      "Device: cuda..  Epoch: 5/5..  Training Loss: 148.586..  Test Loss: 0.371..  Test Accuracy: 0.865\n",
      "Device: cuda..  Epoch: 5/5..  Training Loss: 148.844..  Test Loss: 0.354..  Test Accuracy: 0.872\n",
      "Device: cuda..  Epoch: 5/5..  Training Loss: 149.122..  Test Loss: 0.354..  Test Accuracy: 0.874\n",
      "Device: cuda..  Epoch: 5/5..  Training Loss: 149.440..  Test Loss: 0.368..  Test Accuracy: 0.869\n",
      "Device: cuda..  Epoch: 5/5..  Training Loss: 149.715..  Test Loss: 0.353..  Test Accuracy: 0.871\n",
      "Device: cuda..  Epoch: 5/5..  Training Loss: 149.972..  Test Loss: 0.353..  Test Accuracy: 0.869\n",
      "Device: cuda..  Epoch: 5/5..  Training Loss: 150.188..  Test Loss: 0.367..  Test Accuracy: 0.869\n",
      "Device: cuda..  Epoch: 5/5..  Training Loss: 150.448..  Test Loss: 0.374..  Test Accuracy: 0.871\n",
      "Device: cuda..  Epoch: 5/5..  Training Loss: 150.695..  Test Loss: 0.382..  Test Accuracy: 0.865\n",
      "Device: cuda..  Epoch: 5/5..  Training Loss: 151.093..  Test Loss: 0.388..  Test Accuracy: 0.857\n",
      "Device: cuda..  Epoch: 5/5..  Training Loss: 151.367..  Test Loss: 0.385..  Test Accuracy: 0.864\n",
      "Device: cuda..  Epoch: 5/5..  Training Loss: 151.673..  Test Loss: 0.354..  Test Accuracy: 0.872\n",
      "Device: cuda..  Epoch: 5/5..  Training Loss: 151.942..  Test Loss: 0.360..  Test Accuracy: 0.874\n",
      "Device: cuda..  Epoch: 5/5..  Training Loss: 152.230..  Test Loss: 0.354..  Test Accuracy: 0.871\n",
      "Device: cuda..  Epoch: 5/5..  Training Loss: 152.508..  Test Loss: 0.355..  Test Accuracy: 0.875\n",
      "Device: cuda..  Epoch: 5/5..  Training Loss: 152.792..  Test Loss: 0.360..  Test Accuracy: 0.872\n",
      "Device: cuda..  Epoch: 5/5..  Training Loss: 153.076..  Test Loss: 0.355..  Test Accuracy: 0.876\n",
      "Device: cuda..  Epoch: 5/5..  Training Loss: 153.362..  Test Loss: 0.368..  Test Accuracy: 0.872\n",
      "Device: cuda..  Epoch: 5/5..  Training Loss: 153.635..  Test Loss: 0.408..  Test Accuracy: 0.856\n",
      "Device: cuda..  Epoch: 5/5..  Training Loss: 153.939..  Test Loss: 0.406..  Test Accuracy: 0.855\n",
      "Device: cuda..  Epoch: 5/5..  Training Loss: 154.281..  Test Loss: 0.375..  Test Accuracy: 0.868\n",
      "Device: cuda..  Epoch: 5/5..  Training Loss: 154.595..  Test Loss: 0.364..  Test Accuracy: 0.871\n",
      "Device: cuda..  Epoch: 5/5..  Training Loss: 154.904..  Test Loss: 0.370..  Test Accuracy: 0.870\n",
      "Device: cuda..  Epoch: 5/5..  Training Loss: 155.207..  Test Loss: 0.398..  Test Accuracy: 0.858\n",
      "Device: cuda..  Epoch: 5/5..  Training Loss: 155.507..  Test Loss: 0.360..  Test Accuracy: 0.869\n",
      "Device: cuda..  Epoch: 5/5..  Training Loss: 155.791..  Test Loss: 0.350..  Test Accuracy: 0.875\n",
      "Device: cuda..  Epoch: 5/5..  Training Loss: 156.055..  Test Loss: 0.350..  Test Accuracy: 0.875\n",
      "Device: cuda..  Epoch: 5/5..  Training Loss: 156.324..  Test Loss: 0.389..  Test Accuracy: 0.862\n",
      "Device: cuda..  Epoch: 5/5..  Training Loss: 156.605..  Test Loss: 0.392..  Test Accuracy: 0.865\n",
      "Device: cuda..  Epoch: 5/5..  Training Loss: 156.914..  Test Loss: 0.372..  Test Accuracy: 0.867\n",
      "Device: cuda..  Epoch: 5/5..  Training Loss: 157.233..  Test Loss: 0.386..  Test Accuracy: 0.858\n",
      "Device: cuda..  Epoch: 5/5..  Training Loss: 157.535..  Test Loss: 0.355..  Test Accuracy: 0.873\n",
      "Device: cuda..  Epoch: 5/5..  Training Loss: 157.790..  Test Loss: 0.365..  Test Accuracy: 0.870\n",
      "Device: cuda..  Epoch: 5/5..  Training Loss: 158.102..  Test Loss: 0.375..  Test Accuracy: 0.870\n",
      "Device: cuda..  Epoch: 5/5..  Training Loss: 158.430..  Test Loss: 0.361..  Test Accuracy: 0.871\n",
      "Device: cuda..  Epoch: 5/5..  Training Loss: 158.747..  Test Loss: 0.371..  Test Accuracy: 0.863\n",
      "Device: cuda..  Epoch: 5/5..  Training Loss: 159.033..  Test Loss: 0.368..  Test Accuracy: 0.867\n",
      "Device: cuda..  Epoch: 5/5..  Training Loss: 159.296..  Test Loss: 0.362..  Test Accuracy: 0.871\n"
     ]
    },
    {
     "name": "stdout",
     "output_type": "stream",
     "text": [
      "Device: cuda..  Epoch: 5/5..  Training Loss: 159.581..  Test Loss: 0.353..  Test Accuracy: 0.876\n",
      "Device: cuda..  Epoch: 5/5..  Training Loss: 159.829..  Test Loss: 0.375..  Test Accuracy: 0.870\n",
      "Device: cuda..  Epoch: 5/5..  Training Loss: 160.138..  Test Loss: 0.364..  Test Accuracy: 0.873\n",
      "Device: cuda..  Epoch: 5/5..  Training Loss: 160.377..  Test Loss: 0.369..  Test Accuracy: 0.868\n",
      "Device: cuda..  Epoch: 5/5..  Training Loss: 160.653..  Test Loss: 0.363..  Test Accuracy: 0.866\n",
      "Device: cuda..  Epoch: 5/5..  Training Loss: 160.938..  Test Loss: 0.363..  Test Accuracy: 0.873\n",
      "Device: cuda..  Epoch: 5/5..  Training Loss: 161.286..  Test Loss: 0.348..  Test Accuracy: 0.872\n",
      "Device: cuda..  Epoch: 5/5..  Training Loss: 161.585..  Test Loss: 0.360..  Test Accuracy: 0.865\n",
      "Device: cuda..  Epoch: 5/5..  Training Loss: 161.909..  Test Loss: 0.347..  Test Accuracy: 0.874\n",
      "Device: cuda..  Epoch: 5/5..  Training Loss: 162.167..  Test Loss: 0.356..  Test Accuracy: 0.876\n",
      "Device: cuda..  Epoch: 5/5..  Training Loss: 162.491..  Test Loss: 0.367..  Test Accuracy: 0.866\n",
      "Device: cuda..  Epoch: 5/5..  Training Loss: 162.802..  Test Loss: 0.348..  Test Accuracy: 0.875\n",
      "Device: cuda..  Epoch: 5/5..  Training Loss: 163.055..  Test Loss: 0.339..  Test Accuracy: 0.877\n",
      "Device: cuda..  Epoch: 5/5..  Training Loss: 163.342..  Test Loss: 0.344..  Test Accuracy: 0.876\n",
      "Device: cuda..  Epoch: 5/5..  Training Loss: 163.603..  Test Loss: 0.356..  Test Accuracy: 0.875\n",
      "Device: cuda..  Epoch: 5/5..  Training Loss: 163.864..  Test Loss: 0.380..  Test Accuracy: 0.867\n",
      "Device: cuda..  Epoch: 5/5..  Training Loss: 164.198..  Test Loss: 0.370..  Test Accuracy: 0.868\n",
      "Device: cuda..  Epoch: 5/5..  Training Loss: 164.469..  Test Loss: 0.359..  Test Accuracy: 0.870\n",
      "Device: cuda..  Epoch: 5/5..  Training Loss: 164.767..  Test Loss: 0.350..  Test Accuracy: 0.873\n",
      "Device: cuda..  Epoch: 5/5..  Training Loss: 165.098..  Test Loss: 0.347..  Test Accuracy: 0.876\n",
      "Device: cuda..  Epoch: 5/5..  Training Loss: 165.424..  Test Loss: 0.352..  Test Accuracy: 0.873\n",
      "Device: cuda..  Epoch: 5/5..  Training Loss: 165.698..  Test Loss: 0.363..  Test Accuracy: 0.870\n",
      "Device: cuda..  Epoch: 5/5..  Training Loss: 165.960..  Test Loss: 0.363..  Test Accuracy: 0.870\n",
      "Device: cuda..  Epoch: 5/5..  Training Loss: 166.263..  Test Loss: 0.358..  Test Accuracy: 0.869\n",
      "Device: cuda..  Epoch: 5/5..  Training Loss: 166.539..  Test Loss: 0.349..  Test Accuracy: 0.870\n",
      "Device: cuda..  Epoch: 5/5..  Training Loss: 166.849..  Test Loss: 0.349..  Test Accuracy: 0.874\n",
      "Device: cuda..  Epoch: 5/5..  Training Loss: 167.130..  Test Loss: 0.353..  Test Accuracy: 0.872\n",
      "Device: cuda..  Epoch: 5/5..  Training Loss: 167.411..  Test Loss: 0.370..  Test Accuracy: 0.870\n",
      "Device: cuda..  Epoch: 5/5..  Training Loss: 167.706..  Test Loss: 0.383..  Test Accuracy: 0.866\n",
      "Device: cuda..  Epoch: 5/5..  Training Loss: 168.025..  Test Loss: 0.380..  Test Accuracy: 0.863\n",
      "Device: cuda..  Epoch: 5/5..  Training Loss: 168.342..  Test Loss: 0.386..  Test Accuracy: 0.865\n",
      "Device: cuda..  Epoch: 5/5..  Training Loss: 168.637..  Test Loss: 0.368..  Test Accuracy: 0.867\n",
      "Device: cuda..  Epoch: 5/5..  Training Loss: 168.932..  Test Loss: 0.367..  Test Accuracy: 0.867\n",
      "Device: cuda..  Epoch: 5/5..  Training Loss: 169.202..  Test Loss: 0.359..  Test Accuracy: 0.871\n",
      "Device: cuda..  Epoch: 5/5..  Training Loss: 169.484..  Test Loss: 0.357..  Test Accuracy: 0.872\n",
      "Device: cuda..  Epoch: 5/5..  Training Loss: 169.771..  Test Loss: 0.361..  Test Accuracy: 0.870\n",
      "Device: cuda..  Epoch: 5/5..  Training Loss: 169.999..  Test Loss: 0.371..  Test Accuracy: 0.869\n",
      "Device: cuda..  Epoch: 5/5..  Training Loss: 170.278..  Test Loss: 0.368..  Test Accuracy: 0.868\n",
      "Device: cuda..  Epoch: 5/5..  Training Loss: 170.563..  Test Loss: 0.366..  Test Accuracy: 0.870\n",
      "Device: cuda..  Epoch: 5/5..  Training Loss: 170.883..  Test Loss: 0.368..  Test Accuracy: 0.869\n",
      "Device: cuda..  Epoch: 5/5..  Training Loss: 171.178..  Test Loss: 0.356..  Test Accuracy: 0.875\n",
      "Device: cuda..  Epoch: 5/5..  Training Loss: 171.497..  Test Loss: 0.342..  Test Accuracy: 0.877\n",
      "Device: cuda..  Epoch: 5/5..  Training Loss: 171.772..  Test Loss: 0.369..  Test Accuracy: 0.868\n",
      "Device: cuda..  Epoch: 5/5..  Training Loss: 172.085..  Test Loss: 0.376..  Test Accuracy: 0.865\n",
      "Device: cuda..  Epoch: 5/5..  Training Loss: 172.418..  Test Loss: 0.362..  Test Accuracy: 0.869\n",
      "Device: cuda..  Epoch: 5/5..  Training Loss: 172.749..  Test Loss: 0.358..  Test Accuracy: 0.868\n"
     ]
    }
   ],
   "source": [
    "model.to(device)\n",
    "helper.train_model(model, trainloader, testloader, criterion, optimizer, device=device)"
   ]
  },
  {
   "cell_type": "markdown",
   "metadata": {},
   "source": [
    "# Save Model"
   ]
  },
  {
   "cell_type": "code",
   "execution_count": 45,
   "metadata": {},
   "outputs": [],
   "source": [
    "checkpoint = {'input_size': input_size,\n",
    "              'output_size': output_size,\n",
    "              'hidden_layers': hidden_layers,\n",
    "              'state_dict': model.state_dict()}\n",
    "\n",
    "torch.save(checkpoint, 'mymodel.pth')"
   ]
  },
  {
   "cell_type": "markdown",
   "metadata": {},
   "source": [
    "# Load Model"
   ]
  },
  {
   "cell_type": "code",
   "execution_count": 46,
   "metadata": {},
   "outputs": [
    {
     "name": "stdout",
     "output_type": "stream",
     "text": [
      "Network(\n",
      "  (fc): ModuleList(\n",
      "    (0): Linear(in_features=784, out_features=512, bias=True)\n",
      "    (1): Linear(in_features=512, out_features=256, bias=True)\n",
      "    (2): Linear(in_features=256, out_features=128, bias=True)\n",
      "  )\n",
      "  (output): Linear(in_features=128, out_features=10, bias=True)\n",
      "  (dropout): Dropout(p=0.5)\n",
      ")\n"
     ]
    }
   ],
   "source": [
    "checkpoint = torch.load('mymodel.pth')\n",
    "model = helper.Network(checkpoint['input_size'],\n",
    "                       checkpoint['output_size'],\n",
    "                       checkpoint['hidden_layers'])\n",
    "\n",
    "model.load_state_dict(checkpoint['state_dict'])\n",
    "\n",
    "print(model)"
   ]
  },
  {
   "cell_type": "markdown",
   "metadata": {},
   "source": [
    "# Finetuning by Using Pre-trained Model"
   ]
  },
  {
   "cell_type": "code",
   "execution_count": 121,
   "metadata": {},
   "outputs": [
    {
     "name": "stderr",
     "output_type": "stream",
     "text": [
      "d:\\programs\\anaconda3\\envs\\deep-learning\\lib\\site-packages\\torchvision\\models\\densenet.py:212: UserWarning: nn.init.kaiming_normal is now deprecated in favor of nn.init.kaiming_normal_.\n",
      "  nn.init.kaiming_normal(m.weight.data)\n"
     ]
    }
   ],
   "source": [
    "model = models.densenet121(pretrained=True)\n",
    "\n",
    "for param in model.parameters():\n",
    "    param.requires_grad = False\n",
    "    \n",
    "classifier = nn.Sequential(OrderedDict([\n",
    "    ('fc1', nn.Linear(1024, 500)),\n",
    "    ('relu', nn.ReLU()),\n",
    "    ('fc2', nn.Linear(500, 2)),\n",
    "    ('output', nn.LogSoftmax(dim=1))\n",
    "]))\n",
    "\n",
    "model.classifier = classifier\n",
    "criterion = nn.NLLLoss()\n",
    "optimizer = optim.Adam(model.classifier.parameters(), lr=0.003)"
   ]
  },
  {
   "cell_type": "code",
   "execution_count": 122,
   "metadata": {},
   "outputs": [],
   "source": [
    "data_dir = 'Cat_Dog_data/'\n",
    "\n",
    "train_transforms = transforms.Compose([transforms.RandomRotation(30),\n",
    "                                       transforms.RandomResizedCrop(224),\n",
    "                                       transforms.RandomHorizontalFlip(),\n",
    "                                       transforms.ToTensor(),\n",
    "                                       transforms.Normalize([0.485, 0.456, 0.406],\n",
    "                                                            [0.229, 0.224, 0.225])])\n",
    "\n",
    "test_transforms = transforms.Compose([transforms.Resize(255),\n",
    "                                      transforms.CenterCrop(224),\n",
    "                                      transforms.ToTensor(),\n",
    "                                      transforms.Normalize([0.485, 0.456, 0.406],\n",
    "                                                           [0.229, 0.224, 0.225])])\n",
    "\n",
    "train_data = datasets.ImageFolder(data_dir + '/train', transform=train_transforms)\n",
    "test_data = datasets.ImageFolder(data_dir + '/test', transform=test_transforms)\n",
    "\n",
    "trainloader = torch.utils.data.DataLoader(train_data, batch_size=32, shuffle=True)\n",
    "testloader = torch.utils.data.DataLoader(test_data, batch_size=32)"
   ]
  },
  {
   "cell_type": "code",
   "execution_count": 130,
   "metadata": {},
   "outputs": [
    {
     "name": "stderr",
     "output_type": "stream",
     "text": [
      "Clipping input data to the valid range for imshow with RGB data ([0..1] for floats or [0..255] for integers).\n"
     ]
    },
    {
     "name": "stdout",
     "output_type": "stream",
     "text": [
      "torch.Size([3, 224, 224])\n"
     ]
    },
    {
     "data": {
      "image/png": "[encoded data removed]",
      "text/plain": [
       "<Figure size 432x288 with 1 Axes>"
      ]
     },
     "metadata": {
      "needs_background": "light"
     },
     "output_type": "display_data"
    }
   ],
   "source": [
    "image, label = next(iter(trainloader))\n",
    "plt.imshow(image[0].numpy().transpose((1, 2, 0)))\n",
    "print(image[0].shape)"
   ]
  },
  {
   "cell_type": "code",
   "execution_count": 81,
   "metadata": {},
   "outputs": [
    {
     "name": "stdout",
     "output_type": "stream",
     "text": [
      "Device: cuda..  Epoch: 1/1..  Training Loss: 0.278..  Test Loss: 0.167..  Test Accuracy: 0.932\n",
      "Device: cuda..  Epoch: 1/1..  Training Loss: 0.477..  Test Loss: 0.073..  Test Accuracy: 0.975\n",
      "Device: cuda..  Epoch: 1/1..  Training Loss: 0.640..  Test Loss: 0.056..  Test Accuracy: 0.979\n",
      "Device: cuda..  Epoch: 1/1..  Training Loss: 0.792..  Test Loss: 0.091..  Test Accuracy: 0.969\n",
      "Device: cuda..  Epoch: 1/1..  Training Loss: 0.969..  Test Loss: 0.050..  Test Accuracy: 0.983\n",
      "Device: cuda..  Epoch: 1/1..  Training Loss: 1.134..  Test Loss: 0.066..  Test Accuracy: 0.976\n",
      "Device: cuda..  Epoch: 1/1..  Training Loss: 1.301..  Test Loss: 0.075..  Test Accuracy: 0.975\n",
      "Device: cuda..  Epoch: 1/1..  Training Loss: 1.391..  Test Loss: 0.054..  Test Accuracy: 0.979\n",
      "Device: cuda..  Epoch: 1/1..  Training Loss: 1.529..  Test Loss: 0.055..  Test Accuracy: 0.979\n",
      "Device: cuda..  Epoch: 1/1..  Training Loss: 1.651..  Test Loss: 0.056..  Test Accuracy: 0.978\n",
      "Device: cuda..  Epoch: 1/1..  Training Loss: 1.787..  Test Loss: 0.043..  Test Accuracy: 0.983\n",
      "Device: cuda..  Epoch: 1/1..  Training Loss: 1.918..  Test Loss: 0.045..  Test Accuracy: 0.983\n",
      "Device: cuda..  Epoch: 1/1..  Training Loss: 2.062..  Test Loss: 0.052..  Test Accuracy: 0.980\n",
      "Device: cuda..  Epoch: 1/1..  Training Loss: 2.200..  Test Loss: 0.049..  Test Accuracy: 0.984\n",
      "Device: cuda..  Epoch: 1/1..  Training Loss: 2.317..  Test Loss: 0.043..  Test Accuracy: 0.985\n",
      "Device: cuda..  Epoch: 1/1..  Training Loss: 2.453..  Test Loss: 0.060..  Test Accuracy: 0.978\n",
      "Device: cuda..  Epoch: 1/1..  Training Loss: 2.626..  Test Loss: 0.045..  Test Accuracy: 0.983\n",
      "Device: cuda..  Epoch: 1/1..  Training Loss: 2.779..  Test Loss: 0.044..  Test Accuracy: 0.986\n",
      "Device: cuda..  Epoch: 1/1..  Training Loss: 2.926..  Test Loss: 0.043..  Test Accuracy: 0.984\n",
      "Device: cuda..  Epoch: 1/1..  Training Loss: 3.055..  Test Loss: 0.077..  Test Accuracy: 0.972\n",
      "Device: cuda..  Epoch: 1/1..  Training Loss: 3.209..  Test Loss: 0.044..  Test Accuracy: 0.983\n",
      "Device: cuda..  Epoch: 1/1..  Training Loss: 3.346..  Test Loss: 0.053..  Test Accuracy: 0.984\n",
      "Device: cuda..  Epoch: 1/1..  Training Loss: 3.467..  Test Loss: 0.042..  Test Accuracy: 0.986\n",
      "Device: cuda..  Epoch: 1/1..  Training Loss: 3.564..  Test Loss: 0.040..  Test Accuracy: 0.986\n",
      "Device: cuda..  Epoch: 1/1..  Training Loss: 3.675..  Test Loss: 0.048..  Test Accuracy: 0.984\n",
      "Device: cuda..  Epoch: 1/1..  Training Loss: 3.852..  Test Loss: 0.083..  Test Accuracy: 0.971\n",
      "Device: cuda..  Epoch: 1/1..  Training Loss: 3.995..  Test Loss: 0.056..  Test Accuracy: 0.979\n",
      "Device: cuda..  Epoch: 1/1..  Training Loss: 4.095..  Test Loss: 0.049..  Test Accuracy: 0.982\n",
      "Device: cuda..  Epoch: 1/1..  Training Loss: 4.238..  Test Loss: 0.040..  Test Accuracy: 0.985\n",
      "Device: cuda..  Epoch: 1/1..  Training Loss: 4.393..  Test Loss: 0.039..  Test Accuracy: 0.985\n",
      "Device: cuda..  Epoch: 1/1..  Training Loss: 4.541..  Test Loss: 0.074..  Test Accuracy: 0.975\n",
      "Device: cuda..  Epoch: 1/1..  Training Loss: 4.687..  Test Loss: 0.046..  Test Accuracy: 0.981\n",
      "Device: cuda..  Epoch: 1/1..  Training Loss: 4.810..  Test Loss: 0.038..  Test Accuracy: 0.985\n",
      "Device: cuda..  Epoch: 1/1..  Training Loss: 4.918..  Test Loss: 0.039..  Test Accuracy: 0.987\n",
      "Device: cuda..  Epoch: 1/1..  Training Loss: 5.067..  Test Loss: 0.038..  Test Accuracy: 0.987\n",
      "Device: cuda..  Epoch: 1/1..  Training Loss: 5.196..  Test Loss: 0.040..  Test Accuracy: 0.985\n",
      "Device: cuda..  Epoch: 1/1..  Training Loss: 5.350..  Test Loss: 0.040..  Test Accuracy: 0.987\n",
      "Device: cuda..  Epoch: 1/1..  Training Loss: 5.490..  Test Loss: 0.037..  Test Accuracy: 0.988\n",
      "Device: cuda..  Epoch: 1/1..  Training Loss: 5.614..  Test Loss: 0.039..  Test Accuracy: 0.984\n",
      "Device: cuda..  Epoch: 1/1..  Training Loss: 5.762..  Test Loss: 0.041..  Test Accuracy: 0.985\n",
      "Device: cuda..  Epoch: 1/1..  Training Loss: 5.937..  Test Loss: 0.042..  Test Accuracy: 0.984\n",
      "Device: cuda..  Epoch: 1/1..  Training Loss: 6.026..  Test Loss: 0.036..  Test Accuracy: 0.987\n",
      "Device: cuda..  Epoch: 1/1..  Training Loss: 6.136..  Test Loss: 0.037..  Test Accuracy: 0.987\n",
      "Device: cuda..  Epoch: 1/1..  Training Loss: 6.267..  Test Loss: 0.096..  Test Accuracy: 0.966\n",
      "Device: cuda..  Epoch: 1/1..  Training Loss: 6.411..  Test Loss: 0.038..  Test Accuracy: 0.987\n",
      "Device: cuda..  Epoch: 1/1..  Training Loss: 6.526..  Test Loss: 0.039..  Test Accuracy: 0.986\n",
      "Device: cuda..  Epoch: 1/1..  Training Loss: 6.653..  Test Loss: 0.037..  Test Accuracy: 0.988\n",
      "Device: cuda..  Epoch: 1/1..  Training Loss: 6.795..  Test Loss: 0.043..  Test Accuracy: 0.984\n",
      "Device: cuda..  Epoch: 1/1..  Training Loss: 6.930..  Test Loss: 0.036..  Test Accuracy: 0.987\n",
      "Device: cuda..  Epoch: 1/1..  Training Loss: 7.045..  Test Loss: 0.044..  Test Accuracy: 0.982\n",
      "Device: cuda..  Epoch: 1/1..  Training Loss: 7.169..  Test Loss: 0.037..  Test Accuracy: 0.986\n",
      "Device: cuda..  Epoch: 1/1..  Training Loss: 7.249..  Test Loss: 0.047..  Test Accuracy: 0.982\n",
      "Device: cuda..  Epoch: 1/1..  Training Loss: 7.344..  Test Loss: 0.041..  Test Accuracy: 0.985\n",
      "Device: cuda..  Epoch: 1/1..  Training Loss: 7.480..  Test Loss: 0.042..  Test Accuracy: 0.982\n",
      "Device: cuda..  Epoch: 1/1..  Training Loss: 7.626..  Test Loss: 0.051..  Test Accuracy: 0.979\n",
      "Device: cuda..  Epoch: 1/1..  Training Loss: 7.744..  Test Loss: 0.035..  Test Accuracy: 0.987\n",
      "Device: cuda..  Epoch: 1/1..  Training Loss: 7.905..  Test Loss: 0.036..  Test Accuracy: 0.986\n",
      "Device: cuda..  Epoch: 1/1..  Training Loss: 8.008..  Test Loss: 0.049..  Test Accuracy: 0.982\n",
      "Device: cuda..  Epoch: 1/1..  Training Loss: 8.133..  Test Loss: 0.037..  Test Accuracy: 0.986\n",
      "Device: cuda..  Epoch: 1/1..  Training Loss: 8.247..  Test Loss: 0.034..  Test Accuracy: 0.987\n",
      "Device: cuda..  Epoch: 1/1..  Training Loss: 8.332..  Test Loss: 0.040..  Test Accuracy: 0.983\n",
      "Device: cuda..  Epoch: 1/1..  Training Loss: 8.419..  Test Loss: 0.036..  Test Accuracy: 0.986\n",
      "Device: cuda..  Epoch: 1/1..  Training Loss: 8.539..  Test Loss: 0.036..  Test Accuracy: 0.985\n",
      "Device: cuda..  Epoch: 1/1..  Training Loss: 8.625..  Test Loss: 0.037..  Test Accuracy: 0.986\n",
      "Device: cuda..  Epoch: 1/1..  Training Loss: 8.715..  Test Loss: 0.050..  Test Accuracy: 0.983\n",
      "Device: cuda..  Epoch: 1/1..  Training Loss: 8.841..  Test Loss: 0.038..  Test Accuracy: 0.985\n",
      "Device: cuda..  Epoch: 1/1..  Training Loss: 8.940..  Test Loss: 0.037..  Test Accuracy: 0.986\n",
      "Device: cuda..  Epoch: 1/1..  Training Loss: 9.094..  Test Loss: 0.045..  Test Accuracy: 0.985\n",
      "Device: cuda..  Epoch: 1/1..  Training Loss: 9.193..  Test Loss: 0.040..  Test Accuracy: 0.985\n",
      "Device: cuda..  Epoch: 1/1..  Training Loss: 9.348..  Test Loss: 0.037..  Test Accuracy: 0.985\n"
     ]
    }
   ],
   "source": [
    "model.to(device)\n",
    "helper.train_model(model, trainloader, testloader, criterion, optimizer, device=device, epochs=1, isTransfer=True)"
   ]
  },
  {
   "cell_type": "markdown",
   "metadata": {},
   "source": [
    "# Convert from Pytorch to another framework by using ONNX"
   ]
  },
  {
   "cell_type": "code",
   "execution_count": 171,
   "metadata": {},
   "outputs": [
    {
     "ename": "AttributeError",
     "evalue": "'Network' object has no attribute 'SerializeToString'",
     "output_type": "error",
     "traceback": [
      "\u001b[1;31m---------------------------------------------------------------------------\u001b[0m",
      "\u001b[1;31mAttributeError\u001b[0m                            Traceback (most recent call last)",
      "\u001b[1;32m<ipython-input-171-938f98b0aaac>\u001b[0m in \u001b[0;36m<module>\u001b[1;34m\u001b[0m\n\u001b[0;32m     14\u001b[0m \u001b[1;33m\u001b[0m\u001b[0m\n\u001b[0;32m     15\u001b[0m \u001b[1;31m# Vaidate imported model\u001b[0m\u001b[1;33m\u001b[0m\u001b[1;33m\u001b[0m\u001b[1;33m\u001b[0m\u001b[0m\n\u001b[1;32m---> 16\u001b[1;33m \u001b[0monnx\u001b[0m\u001b[1;33m.\u001b[0m\u001b[0mchecker\u001b[0m\u001b[1;33m.\u001b[0m\u001b[0mcheck_model\u001b[0m\u001b[1;33m(\u001b[0m\u001b[0mmodel\u001b[0m\u001b[1;33m)\u001b[0m\u001b[1;33m\u001b[0m\u001b[1;33m\u001b[0m\u001b[0m\n\u001b[0m\u001b[0;32m     17\u001b[0m \u001b[0monnx\u001b[0m\u001b[1;33m.\u001b[0m\u001b[0mhelper\u001b[0m\u001b[1;33m.\u001b[0m\u001b[0mprintable_graph\u001b[0m\u001b[1;33m(\u001b[0m\u001b[0mmodel\u001b[0m\u001b[1;33m.\u001b[0m\u001b[0mgraph\u001b[0m\u001b[1;33m)\u001b[0m\u001b[1;33m\u001b[0m\u001b[1;33m\u001b[0m\u001b[0m\n",
      "\u001b[1;32md:\\programs\\anaconda3\\envs\\deep-learning\\lib\\site-packages\\onnx\\checker.py\u001b[0m in \u001b[0;36mcheck_model\u001b[1;34m(model)\u001b[0m\n\u001b[0;32m     80\u001b[0m \u001b[1;33m\u001b[0m\u001b[0m\n\u001b[0;32m     81\u001b[0m \u001b[1;32mdef\u001b[0m \u001b[0mcheck_model\u001b[0m\u001b[1;33m(\u001b[0m\u001b[0mmodel\u001b[0m\u001b[1;33m)\u001b[0m\u001b[1;33m:\u001b[0m  \u001b[1;31m# type: (ModelProto) -> None\u001b[0m\u001b[1;33m\u001b[0m\u001b[1;33m\u001b[0m\u001b[0m\n\u001b[1;32m---> 82\u001b[1;33m     \u001b[0mC\u001b[0m\u001b[1;33m.\u001b[0m\u001b[0mcheck_model\u001b[0m\u001b[1;33m(\u001b[0m\u001b[0mmodel\u001b[0m\u001b[1;33m.\u001b[0m\u001b[0mSerializeToString\u001b[0m\u001b[1;33m(\u001b[0m\u001b[1;33m)\u001b[0m\u001b[1;33m)\u001b[0m\u001b[1;33m\u001b[0m\u001b[1;33m\u001b[0m\u001b[0m\n\u001b[0m\u001b[0;32m     83\u001b[0m \u001b[1;33m\u001b[0m\u001b[0m\n\u001b[0;32m     84\u001b[0m \u001b[1;33m\u001b[0m\u001b[0m\n",
      "\u001b[1;32md:\\programs\\anaconda3\\envs\\deep-learning\\lib\\site-packages\\torch\\nn\\modules\\module.py\u001b[0m in \u001b[0;36m__getattr__\u001b[1;34m(self, name)\u001b[0m\n\u001b[0;32m    516\u001b[0m                 \u001b[1;32mreturn\u001b[0m \u001b[0mmodules\u001b[0m\u001b[1;33m[\u001b[0m\u001b[0mname\u001b[0m\u001b[1;33m]\u001b[0m\u001b[1;33m\u001b[0m\u001b[1;33m\u001b[0m\u001b[0m\n\u001b[0;32m    517\u001b[0m         raise AttributeError(\"'{}' object has no attribute '{}'\".format(\n\u001b[1;32m--> 518\u001b[1;33m             type(self).__name__, name))\n\u001b[0m\u001b[0;32m    519\u001b[0m \u001b[1;33m\u001b[0m\u001b[0m\n\u001b[0;32m    520\u001b[0m     \u001b[1;32mdef\u001b[0m \u001b[0m__setattr__\u001b[0m\u001b[1;33m(\u001b[0m\u001b[0mself\u001b[0m\u001b[1;33m,\u001b[0m \u001b[0mname\u001b[0m\u001b[1;33m,\u001b[0m \u001b[0mvalue\u001b[0m\u001b[1;33m)\u001b[0m\u001b[1;33m:\u001b[0m\u001b[1;33m\u001b[0m\u001b[1;33m\u001b[0m\u001b[0m\n",
      "\u001b[1;31mAttributeError\u001b[0m: 'Network' object has no attribute 'SerializeToString'"
     ]
    }
   ],
   "source": [
    "checkpoint = torch.load('mymodel.pth')\n",
    "model = helper.Network(checkpoint['input_size'],\n",
    "                       checkpoint['output_size'],\n",
    "                       checkpoint['hidden_layers'])\n",
    "\n",
    "model.load_state_dict(checkpoint['state_dict'])\n",
    "\n",
    "# Export\n",
    "dummy_input = Variable(torch.randn(1, 784, requires_grad=True))\n",
    "torch.onnx.export(model, dummy_input, 'first_export.onnx')\n",
    "\n",
    "#Import \n",
    "onnx_model = onnx.load('first_export.onnx')\n",
    "\n",
    "# Vaidate imported model\n",
    "onnx.checker.check_model(model)\n",
    "onnx.helper.printable_graph(model.graph)"
   ]
  },
  {
   "cell_type": "code",
   "execution_count": null,
   "metadata": {},
   "outputs": [],
   "source": []
  }
 ],
 "metadata": {
  "kernelspec": {
   "display_name": "Python 3",
   "language": "python",
   "name": "python3"
  },
  "language_info": {
   "codemirror_mode": {
    "name": "ipython",
    "version": 3
   },
   "file_extension": ".py",
   "mimetype": "text/x-python",
   "name": "python",
   "nbconvert_exporter": "python",
   "pygments_lexer": "ipython3",
   "version": "3.6.7"
  }
 },
 "nbformat": 4,
 "nbformat_minor": 2
}
